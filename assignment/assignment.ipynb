{
 "cells": [
  {
   "cell_type": "markdown",
   "metadata": {},
   "source": [
    "# Mortality Rate Prediction Using Neural Networks"
   ]
  },
  {
   "cell_type": "markdown",
   "metadata": {},
   "source": [
    "## 1. Introduction"
   ]
  },
  {
   "cell_type": "markdown",
   "metadata": {},
   "source": []
  },
  {
   "cell_type": "markdown",
   "metadata": {},
   "source": [
    "## 2. Data Preparation"
   ]
  },
  {
   "cell_type": "markdown",
   "metadata": {},
   "source": [
    "### 2.1 Load packages"
   ]
  },
  {
   "cell_type": "code",
   "execution_count": 2,
   "metadata": {},
   "outputs": [],
   "source": [
    "import matplotlib.pyplot as plt\n",
    "import numpy as np\n",
    "import pandas as pd\n",
    "import seaborn as sns\n",
    "import tensorflow as tf\n",
    "\n",
    "from copy import deepcopy\n",
    "from sklearn.model_selection import train_test_split, GroupShuffleSplit\n",
    "from sklearn.compose import make_column_transformer\n",
    "from sklearn.pipeline import make_pipeline\n",
    "from sklearn.preprocessing import OneHotEncoder, StandardScaler, OrdinalEncoder\n",
    "\n",
    "from tensorflow.keras.models import Model\n",
    "from tensorflow.keras.models import Sequential\n",
    "from tensorflow.keras.callbacks import EarlyStopping\n",
    "from tensorflow.keras.utils import plot_model\n",
    "\n",
    "from tensorflow.keras.layers import Input, Embedding, Reshape, Dense, Concatenate\n",
    "from tensorflow.keras.regularizers import l1\n",
    "\n",
    "from sklearn.metrics import confusion_matrix, RocCurveDisplay, PrecisionRecallDisplay"
   ]
  },
  {
   "cell_type": "markdown",
   "metadata": {},
   "source": [
    "### 2.2 Load data\n",
    "The project uses the Australia population data set available on Human Mortality Databse (HMD) - labelled as \"AUS\".\n",
    "\n",
    "Steps before importing csv into Python:\n",
    "1. Download the data from website https://www.mortality.org/File/GetDocument/hmd.v6/AUS/STATS/Mx_1x1.txt -> RAW\n",
    "2. Remove header rows -> EDITTED TXT\n",
    "3. Open in Excel and convert to CSV using \" \" delimiter\n",
    "4. Add headers back in"
   ]
  },
  {
   "cell_type": "code",
   "execution_count": 41,
   "metadata": {},
   "outputs": [],
   "source": [
    "ausData = pd.read_csv('AUS_mort.csv')\n",
    "cheData = pd.read_csv('CHE_mort.csv')\n",
    "\n"
   ]
  },
  {
   "cell_type": "markdown",
   "metadata": {},
   "source": [
    "### 2.3 Data Formatting\n",
    "- Replace \".\" with NA\n",
    "- Encode age bracket \"110+\" as 110\n",
    "- Converting age, mx and gender to int, float and category respectively"
   ]
  },
  {
   "cell_type": "code",
   "execution_count": 52,
   "metadata": {},
   "outputs": [
    {
     "data": {
      "text/plain": [
       "Year         int64\n",
       "Age          int64\n",
       "Gender    category\n",
       "mx         float64\n",
       "dtype: object"
      ]
     },
     "execution_count": 52,
     "metadata": {},
     "output_type": "execute_result"
    }
   ],
   "source": [
    "all_mort = cheData\n",
    "# make data wider to longer\n",
    "all_mort = all_mort.melt(id_vars=['Year','Age'], value_vars =['Female','Male','Total'], var_name = \"Gender\", value_name='mx')\n",
    "\n",
    "#change 110+ to 110\n",
    "all_mort.loc[all_mort['Age'] == '110+', 'Age'] = '110'\n",
    "\n",
    "#replace . with NA\n",
    "all_mort.loc[all_mort['mx'] == '.', 'mx'] = np.nan\n",
    "\n",
    "#convert type\n",
    "all_mort['Gender'] = all_mort['Gender'].astype('category')\n",
    "all_mort['Age'] = all_mort['Age'].astype('int')\n",
    "all_mort['mx'] = all_mort['mx'].astype('float')\n",
    "all_mort.dtypes"
   ]
  },
  {
   "cell_type": "markdown",
   "metadata": {},
   "source": [
    "### 2.3 Data Pre-processing\n",
    "Pre-processing steps were then applied so that the data is in the proper format for our models. This includes:\n",
    "- Select calendar years t from 1950 until 2016 (the latest calendar year available) **NOTE TO KELLY: UPDATE TO 2019**\n",
    "- Select ages to be of values between 0 to 99 years\n",
    "- Create *logmx* column which is the log of the mx column"
   ]
  },
  {
   "cell_type": "code",
   "execution_count": 53,
   "metadata": {},
   "outputs": [
    {
     "name": "stderr",
     "output_type": "stream",
     "text": [
      "/Users/kelly/Library/CloudStorage/OneDrive-UNSW/ACTL3143/.env/lib/python3.9/site-packages/pandas/core/arraylike.py:397: RuntimeWarning: divide by zero encountered in log\n",
      "  result = getattr(ufunc, method)(*inputs, **kwargs)\n"
     ]
    }
   ],
   "source": [
    "#keep rows where year is between 1950 and 2016 and age is between 0 and 100\n",
    "all_mort = all_mort[(all_mort['Year'] >= 1950) & (all_mort['Year'] <= 2016)\n",
    "                    & (all_mort['Age'] >= 0) & (all_mort['Age'] < 100)\n",
    "                    ]\n",
    "\n",
    "#log mx\n",
    "all_mort['log_mx'] = np.log(all_mort['mx'])"
   ]
  }
 ],
 "metadata": {
  "kernelspec": {
   "display_name": "Python 3.9.13 ('.env': venv)",
   "language": "python",
   "name": "python3"
  },
  "language_info": {
   "codemirror_mode": {
    "name": "ipython",
    "version": 3
   },
   "file_extension": ".py",
   "mimetype": "text/x-python",
   "name": "python",
   "nbconvert_exporter": "python",
   "pygments_lexer": "ipython3",
   "version": "3.9.13"
  },
  "orig_nbformat": 4,
  "vscode": {
   "interpreter": {
    "hash": "b61f58f9157f51b05e4244880bc444e52915e6e0014c6244b39abbc635591087"
   }
  }
 },
 "nbformat": 4,
 "nbformat_minor": 2
}
