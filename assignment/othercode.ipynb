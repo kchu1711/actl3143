{
 "cells": [
  {
   "cell_type": "code",
   "execution_count": null,
   "metadata": {},
   "outputs": [],
   "source": [
    "def rnn_preprocessing(data_raw, gender, T0, tau0, obsYear):\n",
    "    # select gender\n",
    "    gender_mort = data_raw[all_mort['Gender'] == gender].drop(columns = ['Gender'])\n",
    "\n",
    "    # select all years less than obsYear\n",
    "    gender_mort1 = gender_mort[gender_mort['Year'] <= obsYear]\n",
    "\n",
    "    # widen dataframe\n",
    "    train_rates = pd.pivot_table(gender_mort1, values = 'logmx', index = 'Year', columns = 'Age').reset_index()\n",
    "\n",
    "    delta0 = int((tau0 - 1) / 2)\n",
    "\n",
    "    # add padding at the age boundaries by duplicating the marginal feature values\n",
    "    if (delta0 > 0):\n",
    "        for i in range(delta0):\n",
    "            train_rates = pd.concat([\n",
    "                # add in year column \n",
    "                train_rates.iloc[:,0],\n",
    "                # add padding at beginning\n",
    "                train_rates.iloc[:,1],\n",
    "                train_rates.loc[:, train_rates.columns != 'Year'],\n",
    "                # add padding at end\n",
    "                train_rates.iloc[:,len(train_rates.columns)-1]\n",
    "                ], axis=1)\n",
    "\n",
    "    train_rates = train_rates.loc[:, train_rates.columns != 'Year']\n",
    "\n",
    "    t1 = train_rates.shape[0] - (T0 - 1) - 1 # number of rows in train_rates\n",
    "    a1 = train_rates.shape[1] - (tau0 - 1) # number of columns in train_rates\n",
    "    ntrain = t1 * a1 # number of training samples\n",
    "\n",
    "    # initiate dataframe\n",
    "    xt_train = np.zeros((ntrain, T0, tau0))\n",
    "    yt_train = np.zeros((ntrain))\n",
    "\n",
    "    # fill in dataframe with training data\n",
    "    for t0 in range(t1):\n",
    "        for a0 in range(a1):\n",
    "            xt_train[t0 * a1 + a0, :, :] = train_rates.iloc[t0:(t0+T0), a0:(a0+tau0)]\n",
    "            yt_train[t0 * a1 + a0] = train_rates.iloc[t0+T0, a0+delta0]\n",
    "    \n",
    "    return xt_train, yt_train"
   ]
  },
  {
   "cell_type": "code",
   "execution_count": null,
   "metadata": {},
   "outputs": [],
   "source": [
    "# set parameters\n",
    "T0 = 10 # lookback period\n",
    "tau0 = 5 # dimension of x_t - smooth feature values over 5 neighboring ages to predict the mortality rate of the central age x\n",
    "gender = \"Female\"\n",
    "obsYear = 1999\n",
    "\n",
    "# training data pre-processing\n",
    "x_train, y_train = rnn_preprocessing(all_mort, gender, T0, tau0, obsYear)\n",
    "\n",
    "# scale the data\n",
    "x_min = x_train.min(axis = 0).min(axis = 0).min(axis = 0)\n",
    "x_max = x_train.max(axis = 0).max(axis = 0).max(axis = 0)\n",
    "f = lambda x: 2 * (x - x_min) / (x_min - x_max) - 1\n",
    "x_train= f(x_train)\n",
    "\n",
    "y_train = -y_train\n",
    "y0 = y_train.mean()\n",
    "\n",
    "x_train.shape, y_train.shape"
   ]
  }
 ],
 "metadata": {
  "kernelspec": {
   "display_name": "Python 3.8.5 ('.env': venv)",
   "language": "python",
   "name": "python3"
  },
  "language_info": {
   "name": "python",
   "version": "3.8.5"
  },
  "orig_nbformat": 4,
  "vscode": {
   "interpreter": {
    "hash": "66cd1895dff7263adb7ff11628d05a59612ea005dbfde567253ef0e3682a2146"
   }
  }
 },
 "nbformat": 4,
 "nbformat_minor": 2
}
