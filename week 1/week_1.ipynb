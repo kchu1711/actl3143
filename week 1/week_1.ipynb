{
 "cells": [
  {
   "cell_type": "markdown",
   "metadata": {},
   "source": [
    "# Week 1 "
   ]
  },
  {
   "cell_type": "markdown",
   "metadata": {},
   "source": [
    "## Python Data Types"
   ]
  },
  {
   "cell_type": "markdown",
   "metadata": {},
   "source": [
    "### Variables and Basic Types"
   ]
  },
  {
   "cell_type": "code",
   "execution_count": 6,
   "metadata": {},
   "outputs": [
    {
     "name": "stdout",
     "output_type": "stream",
     "text": [
      "True\n"
     ]
    },
    {
     "data": {
      "text/plain": [
       "False"
      ]
     },
     "execution_count": 6,
     "metadata": {},
     "output_type": "execute_result"
    }
   ],
   "source": [
    "# to show what type the variable is\n",
    "type(2.0)\n",
    "\n",
    "x = 1\n",
    "type(x)\n",
    "\n",
    "doesMathWork = (1 + 1 == 2)\n",
    "print(doesMathWork)\n",
    "type(doesMathWork)"
   ]
  },
  {
   "cell_type": "markdown",
   "metadata": {},
   "source": [
    "### Shorthand assignments\n",
    "* x -=2: take 2 from the current value of x\n",
    "* x *= 2: double the current value of x\n",
    "* x /= 2: halve the current value of x"
   ]
  },
  {
   "cell_type": "markdown",
   "metadata": {},
   "source": [
    "### Strings\n"
   ]
  },
  {
   "cell_type": "code",
   "execution_count": 2,
   "metadata": {},
   "outputs": [
    {
     "data": {
      "text/plain": [
       "'PatrickLaub'"
      ]
     },
     "execution_count": 2,
     "metadata": {},
     "output_type": "execute_result"
    }
   ],
   "source": [
    "name = \"Patrick\"\n",
    "surname = 'Laub'\n",
    "name + surname"
   ]
  },
  {
   "cell_type": "code",
   "execution_count": 3,
   "metadata": {},
   "outputs": [
    {
     "data": {
      "text/plain": [
       "True"
      ]
     },
     "execution_count": 3,
     "metadata": {},
     "output_type": "execute_result"
    }
   ],
   "source": [
    "#use f strings instead of older alternatives\n",
    "greeting = f\"Hello {name} {surname}\" \n",
    "greeting\n",
    "\"Patrick\" in greeting"
   ]
  },
  {
   "cell_type": "code",
   "execution_count": 6,
   "metadata": {},
   "outputs": [
    {
     "name": "stdout",
     "output_type": "stream",
     "text": [
      "Five squared is 25 and five cubed is 125\n",
      "Five squared is {5*5} and five cubed is {5**3}\n"
     ]
    }
   ],
   "source": [
    "print(f\"Five squared is {5*5} and five cubed is {5**3}\")\n",
    "print(\"Five squared is {5*5} and five cubed is {5**3}\")"
   ]
  },
  {
   "cell_type": "code",
   "execution_count": 15,
   "metadata": {},
   "outputs": [
    {
     "name": "stdout",
     "output_type": "stream",
     "text": [
      "4 and 5\n"
     ]
    }
   ],
   "source": [
    "animals = [\"dog\", \"cat\", \"bird\"]\n",
    "animals.append(\"teddy bear\") # adds teddy bear to the end\n",
    "animals.pop() # remove last - teddy bear\n",
    "animals.pop() # remove last - bird\n",
    "animals.append(\"koala\") # adds koala to the end\n",
    "animals.append(\"kangaroo\") # adds kangaroo to the end \n",
    "\n",
    "print(f\"{len(animals)} and {len(animals[-2])}\")\n",
    "# at this point, animals is (\"dog\", \"cat\",\"koala\",\"kangaroo\") which has 4 items\n",
    "#animals[-2] returns \"koala\" which has 5 characters"
   ]
  },
  {
   "cell_type": "markdown",
   "metadata": {},
   "source": [
    "### and & or"
   ]
  },
  {
   "cell_type": "code",
   "execution_count": 10,
   "metadata": {},
   "outputs": [
    {
     "data": {
      "text/plain": [
       "True"
      ]
     },
     "execution_count": 10,
     "metadata": {},
     "output_type": "execute_result"
    }
   ],
   "source": [
    "name = \"Patrick\"\n",
    "surname = \"Laub\"\n",
    "name.istitle() and surname.istitle()\n",
    "\n",
    "fullName = \"Dr Patrick Laub\"\n",
    "fullName.startswith(\"Dr \") or fullName.endswith(\" PhD\")\n",
    "# note: the dot is used to denote methods \n",
    "# it can't be used inside a variable name"
   ]
  },
  {
   "cell_type": "markdown",
   "metadata": {},
   "source": [
    "### Converting types"
   ]
  },
  {
   "cell_type": "code",
   "execution_count": 11,
   "metadata": {},
   "outputs": [
    {
     "data": {
      "text/plain": [
       "3"
      ]
     },
     "execution_count": 11,
     "metadata": {},
     "output_type": "execute_result"
    }
   ],
   "source": [
    "digit = 3\n",
    "digit"
   ]
  },
  {
   "cell_type": "code",
   "execution_count": 12,
   "metadata": {},
   "outputs": [
    {
     "data": {
      "text/plain": [
       "int"
      ]
     },
     "execution_count": 12,
     "metadata": {},
     "output_type": "execute_result"
    }
   ],
   "source": [
    "type(digit)"
   ]
  },
  {
   "cell_type": "code",
   "execution_count": 13,
   "metadata": {},
   "outputs": [
    {
     "data": {
      "text/plain": [
       "float"
      ]
     },
     "execution_count": 13,
     "metadata": {},
     "output_type": "execute_result"
    }
   ],
   "source": [
    "num = float(digit)\n",
    "num\n",
    "type(num)"
   ]
  },
  {
   "cell_type": "code",
   "execution_count": 14,
   "metadata": {},
   "outputs": [
    {
     "data": {
      "text/plain": [
       "'3.0'"
      ]
     },
     "execution_count": 14,
     "metadata": {},
     "output_type": "execute_result"
    }
   ],
   "source": [
    "numStr = str(num)\n",
    "numStr"
   ]
  },
  {
   "cell_type": "markdown",
   "metadata": {},
   "source": [
    "### if and else"
   ]
  },
  {
   "cell_type": "code",
   "execution_count": 16,
   "metadata": {},
   "outputs": [
    {
     "name": "stdout",
     "output_type": "stream",
     "text": [
      "Gosh you're old\n"
     ]
    }
   ],
   "source": [
    "age = 50\n",
    "if age >= 30:\n",
    "    print(\"Gosh you're old\")\n",
    "else:\n",
    "    print(\"You're still young\")\n",
    "#since age is 50 which is greater than 50, it will return \"Gosh you're old\""
   ]
  },
  {
   "cell_type": "markdown",
   "metadata": {},
   "source": [
    "### Using elif"
   ]
  },
  {
   "cell_type": "code",
   "execution_count": null,
   "metadata": {},
   "outputs": [],
   "source": [
    "age = 16\n",
    "\n",
    "if age < 18:\n",
    "    fridayEveningSchedule = \"School things\"\n",
    "elif age < 30:\n",
    "    fridayEveningSchedule = \"Party 🥳🍾\"\n",
    "else:\n",
    "    fridayEveningSchedule = \"Work\"\n",
    "\n",
    "print(fridayEveningSchedule)"
   ]
  },
  {
   "cell_type": "markdown",
   "metadata": {},
   "source": [
    "### for Loops"
   ]
  },
  {
   "cell_type": "code",
   "execution_count": 18,
   "metadata": {},
   "outputs": [
    {
     "name": "stdout",
     "output_type": "stream",
     "text": [
      "Patrick really wants a coffee.\n",
      "Patrick really wants a cake.\n",
      "Patrick really wants a sleep.\n"
     ]
    }
   ],
   "source": [
    "desires = [\"coffee\", \"cake\", \"sleep\"]\n",
    "for desire in desires:\n",
    "    print(f\"Patrick really wants a {desire}.\")"
   ]
  },
  {
   "cell_type": "code",
   "execution_count": 19,
   "metadata": {},
   "outputs": [
    {
     "name": "stdout",
     "output_type": "stream",
     "text": [
      "Patrick wants a coffee, it is priority #1.\n",
      "Patrick wants a cake, it is priority #2.\n",
      "Patrick wants a sleep, it is priority #3.\n"
     ]
    }
   ],
   "source": [
    "for i, desire in enumerate(desires):\n",
    "    print(f\"Patrick wants a {desire}, it is priority #{i+1}.\")"
   ]
  },
  {
   "cell_type": "code",
   "execution_count": 20,
   "metadata": {},
   "outputs": [
    {
     "name": "stdout",
     "output_type": "stream",
     "text": [
      "Patrick wants a coffee, it is priority #1.\n",
      "Patrick wants a cake, it is priority #2.\n",
      "Patrick wants a sleep, it is priority #3.\n"
     ]
    }
   ],
   "source": [
    "for i, desire in enumerate(desires):\n",
    "    print(f\"Patrick wants a {desire}, it is priority #{i+1}.\")"
   ]
  },
  {
   "cell_type": "markdown",
   "metadata": {},
   "source": [
    "### While Loops"
   ]
  },
  {
   "cell_type": "code",
   "execution_count": 23,
   "metadata": {},
   "outputs": [
    {
     "data": {
      "text/plain": [
       "[5, 6, 7, 8, 9]"
      ]
     },
     "execution_count": 23,
     "metadata": {},
     "output_type": "execute_result"
    }
   ],
   "source": [
    "samples = []\n",
    "x=1\n",
    "while len(samples) <5:\n",
    "    x = x+1\n",
    "    if x >=5:\n",
    "        samples.append(x)\n",
    "samples"
   ]
  },
  {
   "cell_type": "markdown",
   "metadata": {},
   "source": [
    "### Breaking out of a loop"
   ]
  },
  {
   "cell_type": "code",
   "execution_count": 25,
   "metadata": {},
   "outputs": [
    {
     "name": "stdout",
     "output_type": "stream",
     "text": [
      "After i=1 count=1\n",
      "After i=2 count=3\n",
      "After i=3 count=6\n",
      "After i=4 count=10\n",
      "10\n"
     ]
    }
   ],
   "source": [
    "count = 0\n",
    "for i in range(1, 10):\n",
    "    count += i\n",
    "    print(f\"After i={i} count={count}\")\n",
    "    if i > 3:\n",
    "        break\n",
    "print(count)"
   ]
  },
  {
   "cell_type": "markdown",
   "metadata": {},
   "source": [
    "## Python Functions"
   ]
  },
  {
   "cell_type": "markdown",
   "metadata": {},
   "source": [
    "### Making a function"
   ]
  },
  {
   "cell_type": "code",
   "execution_count": null,
   "metadata": {},
   "outputs": [],
   "source": [
    "def greet_a_student(name):\n",
    "    print(f\"Hi {name}, welcome to the AI class!\")\n",
    "\n",
    "greet_a_student(\"Josephine\")\n",
    "\n",
    "# \"name\" is a parameter\n",
    "# value supplied is an argument"
   ]
  },
  {
   "cell_type": "markdown",
   "metadata": {},
   "source": [
    "### Default arguments"
   ]
  },
  {
   "cell_type": "code",
   "execution_count": 27,
   "metadata": {},
   "outputs": [
    {
     "data": {
      "text/plain": [
       "1"
      ]
     },
     "execution_count": 27,
     "metadata": {},
     "output_type": "execute_result"
    }
   ],
   "source": [
    "def addOne(x=0):\n",
    "    return x + 1\n",
    "addOne()\n",
    "# here we defined the default argument as 0 so if there is no argument provided, it'll take the default"
   ]
  },
  {
   "cell_type": "code",
   "execution_count": 28,
   "metadata": {},
   "outputs": [
    {
     "name": "stdout",
     "output_type": "stream",
     "text": [
      "[4]\n"
     ]
    }
   ],
   "source": [
    "def get_half_of_list(numbers, first=True):\n",
    "    if first:\n",
    "        return numbers[:len(numbers)//2]\n",
    "    else:\n",
    "        return numbers[len(numbers)//2:]\n",
    "\n",
    "numbers = [1, 2, 3, 4, 5, 6]\n",
    "firstHalf = get_half_of_list(numbers, False) #'numbers' gets broken into [1, 2, 3] and [4, 5, 6]\n",
    "secondHalf = get_half_of_list(firstHalf) #'firstHalf' gets broken into [4] and [5, 6]\n",
    "print(secondHalf)"
   ]
  }
 ],
 "metadata": {
  "interpreter": {
   "hash": "c931f5753cb3acf1f4642c0cfb5a159d24101420bc9fe73ae8953710c0fa058b"
  },
  "kernelspec": {
   "display_name": "Python 3.10.4 64-bit",
   "language": "python",
   "name": "python3"
  },
  "language_info": {
   "codemirror_mode": {
    "name": "ipython",
    "version": 3
   },
   "file_extension": ".py",
   "mimetype": "text/x-python",
   "name": "python",
   "nbconvert_exporter": "python",
   "pygments_lexer": "ipython3",
   "version": "3.10.4"
  },
  "orig_nbformat": 4
 },
 "nbformat": 4,
 "nbformat_minor": 2
}
