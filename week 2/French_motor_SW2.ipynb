{
 "cells": [
  {
   "cell_type": "markdown",
   "metadata": {
    "id": "swYi-36quCGM"
   },
   "source": [
    "# ACTL3143/5111 Week 2 StoryWall Notebook\n",
    "\n",
    "This notebook downloads and lightly preprocesses a dataset for your to perform regression on."
   ]
  },
  {
   "cell_type": "code",
   "execution_count": 12,
   "metadata": {
    "id": "o6rYwHgBvZq5"
   },
   "outputs": [
    {
     "data": {
      "text/html": [
       "<div>\n",
       "<style scoped>\n",
       "    .dataframe tbody tr th:only-of-type {\n",
       "        vertical-align: middle;\n",
       "    }\n",
       "\n",
       "    .dataframe tbody tr th {\n",
       "        vertical-align: top;\n",
       "    }\n",
       "\n",
       "    .dataframe thead th {\n",
       "        text-align: right;\n",
       "    }\n",
       "</style>\n",
       "<table border=\"1\" class=\"dataframe\">\n",
       "  <thead>\n",
       "    <tr style=\"text-align: right;\">\n",
       "      <th></th>\n",
       "      <th>ClaimNb</th>\n",
       "      <th>Exposure</th>\n",
       "      <th>VehPower</th>\n",
       "      <th>VehAge</th>\n",
       "      <th>DrivAge</th>\n",
       "      <th>BonusMalus</th>\n",
       "      <th>Density</th>\n",
       "      <th>VehGas_Diesel</th>\n",
       "      <th>VehGas_Regular</th>\n",
       "      <th>Area_A</th>\n",
       "      <th>...</th>\n",
       "      <th>Region_R53</th>\n",
       "      <th>Region_R54</th>\n",
       "      <th>Region_R72</th>\n",
       "      <th>Region_R73</th>\n",
       "      <th>Region_R74</th>\n",
       "      <th>Region_R82</th>\n",
       "      <th>Region_R83</th>\n",
       "      <th>Region_R91</th>\n",
       "      <th>Region_R93</th>\n",
       "      <th>Region_R94</th>\n",
       "    </tr>\n",
       "  </thead>\n",
       "  <tbody>\n",
       "    <tr>\n",
       "      <th>0</th>\n",
       "      <td>1.0</td>\n",
       "      <td>0.10000</td>\n",
       "      <td>5.0</td>\n",
       "      <td>0.0</td>\n",
       "      <td>55.0</td>\n",
       "      <td>50.0</td>\n",
       "      <td>1217.0</td>\n",
       "      <td>0</td>\n",
       "      <td>1</td>\n",
       "      <td>0</td>\n",
       "      <td>...</td>\n",
       "      <td>0</td>\n",
       "      <td>0</td>\n",
       "      <td>0</td>\n",
       "      <td>0</td>\n",
       "      <td>0</td>\n",
       "      <td>1</td>\n",
       "      <td>0</td>\n",
       "      <td>0</td>\n",
       "      <td>0</td>\n",
       "      <td>0</td>\n",
       "    </tr>\n",
       "    <tr>\n",
       "      <th>1</th>\n",
       "      <td>1.0</td>\n",
       "      <td>0.77000</td>\n",
       "      <td>5.0</td>\n",
       "      <td>0.0</td>\n",
       "      <td>55.0</td>\n",
       "      <td>50.0</td>\n",
       "      <td>1217.0</td>\n",
       "      <td>0</td>\n",
       "      <td>1</td>\n",
       "      <td>0</td>\n",
       "      <td>...</td>\n",
       "      <td>0</td>\n",
       "      <td>0</td>\n",
       "      <td>0</td>\n",
       "      <td>0</td>\n",
       "      <td>0</td>\n",
       "      <td>1</td>\n",
       "      <td>0</td>\n",
       "      <td>0</td>\n",
       "      <td>0</td>\n",
       "      <td>0</td>\n",
       "    </tr>\n",
       "    <tr>\n",
       "      <th>2</th>\n",
       "      <td>1.0</td>\n",
       "      <td>0.75000</td>\n",
       "      <td>6.0</td>\n",
       "      <td>2.0</td>\n",
       "      <td>52.0</td>\n",
       "      <td>50.0</td>\n",
       "      <td>54.0</td>\n",
       "      <td>1</td>\n",
       "      <td>0</td>\n",
       "      <td>0</td>\n",
       "      <td>...</td>\n",
       "      <td>0</td>\n",
       "      <td>0</td>\n",
       "      <td>0</td>\n",
       "      <td>0</td>\n",
       "      <td>0</td>\n",
       "      <td>0</td>\n",
       "      <td>0</td>\n",
       "      <td>0</td>\n",
       "      <td>0</td>\n",
       "      <td>0</td>\n",
       "    </tr>\n",
       "    <tr>\n",
       "      <th>3</th>\n",
       "      <td>1.0</td>\n",
       "      <td>0.09000</td>\n",
       "      <td>7.0</td>\n",
       "      <td>0.0</td>\n",
       "      <td>46.0</td>\n",
       "      <td>50.0</td>\n",
       "      <td>76.0</td>\n",
       "      <td>1</td>\n",
       "      <td>0</td>\n",
       "      <td>0</td>\n",
       "      <td>...</td>\n",
       "      <td>0</td>\n",
       "      <td>0</td>\n",
       "      <td>1</td>\n",
       "      <td>0</td>\n",
       "      <td>0</td>\n",
       "      <td>0</td>\n",
       "      <td>0</td>\n",
       "      <td>0</td>\n",
       "      <td>0</td>\n",
       "      <td>0</td>\n",
       "    </tr>\n",
       "    <tr>\n",
       "      <th>4</th>\n",
       "      <td>1.0</td>\n",
       "      <td>0.84000</td>\n",
       "      <td>7.0</td>\n",
       "      <td>0.0</td>\n",
       "      <td>46.0</td>\n",
       "      <td>50.0</td>\n",
       "      <td>76.0</td>\n",
       "      <td>1</td>\n",
       "      <td>0</td>\n",
       "      <td>0</td>\n",
       "      <td>...</td>\n",
       "      <td>0</td>\n",
       "      <td>0</td>\n",
       "      <td>1</td>\n",
       "      <td>0</td>\n",
       "      <td>0</td>\n",
       "      <td>0</td>\n",
       "      <td>0</td>\n",
       "      <td>0</td>\n",
       "      <td>0</td>\n",
       "      <td>0</td>\n",
       "    </tr>\n",
       "    <tr>\n",
       "      <th>...</th>\n",
       "      <td>...</td>\n",
       "      <td>...</td>\n",
       "      <td>...</td>\n",
       "      <td>...</td>\n",
       "      <td>...</td>\n",
       "      <td>...</td>\n",
       "      <td>...</td>\n",
       "      <td>...</td>\n",
       "      <td>...</td>\n",
       "      <td>...</td>\n",
       "      <td>...</td>\n",
       "      <td>...</td>\n",
       "      <td>...</td>\n",
       "      <td>...</td>\n",
       "      <td>...</td>\n",
       "      <td>...</td>\n",
       "      <td>...</td>\n",
       "      <td>...</td>\n",
       "      <td>...</td>\n",
       "      <td>...</td>\n",
       "      <td>...</td>\n",
       "    </tr>\n",
       "    <tr>\n",
       "      <th>678008</th>\n",
       "      <td>0.0</td>\n",
       "      <td>0.00274</td>\n",
       "      <td>4.0</td>\n",
       "      <td>0.0</td>\n",
       "      <td>54.0</td>\n",
       "      <td>50.0</td>\n",
       "      <td>3317.0</td>\n",
       "      <td>0</td>\n",
       "      <td>1</td>\n",
       "      <td>0</td>\n",
       "      <td>...</td>\n",
       "      <td>0</td>\n",
       "      <td>0</td>\n",
       "      <td>0</td>\n",
       "      <td>0</td>\n",
       "      <td>0</td>\n",
       "      <td>0</td>\n",
       "      <td>0</td>\n",
       "      <td>0</td>\n",
       "      <td>1</td>\n",
       "      <td>0</td>\n",
       "    </tr>\n",
       "    <tr>\n",
       "      <th>678009</th>\n",
       "      <td>0.0</td>\n",
       "      <td>0.00274</td>\n",
       "      <td>4.0</td>\n",
       "      <td>0.0</td>\n",
       "      <td>41.0</td>\n",
       "      <td>95.0</td>\n",
       "      <td>9850.0</td>\n",
       "      <td>0</td>\n",
       "      <td>1</td>\n",
       "      <td>0</td>\n",
       "      <td>...</td>\n",
       "      <td>0</td>\n",
       "      <td>0</td>\n",
       "      <td>0</td>\n",
       "      <td>0</td>\n",
       "      <td>0</td>\n",
       "      <td>0</td>\n",
       "      <td>0</td>\n",
       "      <td>0</td>\n",
       "      <td>0</td>\n",
       "      <td>0</td>\n",
       "    </tr>\n",
       "    <tr>\n",
       "      <th>678010</th>\n",
       "      <td>0.0</td>\n",
       "      <td>0.00274</td>\n",
       "      <td>6.0</td>\n",
       "      <td>2.0</td>\n",
       "      <td>45.0</td>\n",
       "      <td>50.0</td>\n",
       "      <td>1323.0</td>\n",
       "      <td>1</td>\n",
       "      <td>0</td>\n",
       "      <td>0</td>\n",
       "      <td>...</td>\n",
       "      <td>0</td>\n",
       "      <td>0</td>\n",
       "      <td>0</td>\n",
       "      <td>0</td>\n",
       "      <td>0</td>\n",
       "      <td>1</td>\n",
       "      <td>0</td>\n",
       "      <td>0</td>\n",
       "      <td>0</td>\n",
       "      <td>0</td>\n",
       "    </tr>\n",
       "    <tr>\n",
       "      <th>678011</th>\n",
       "      <td>0.0</td>\n",
       "      <td>0.00274</td>\n",
       "      <td>4.0</td>\n",
       "      <td>0.0</td>\n",
       "      <td>60.0</td>\n",
       "      <td>50.0</td>\n",
       "      <td>95.0</td>\n",
       "      <td>0</td>\n",
       "      <td>1</td>\n",
       "      <td>0</td>\n",
       "      <td>...</td>\n",
       "      <td>0</td>\n",
       "      <td>0</td>\n",
       "      <td>0</td>\n",
       "      <td>0</td>\n",
       "      <td>0</td>\n",
       "      <td>0</td>\n",
       "      <td>0</td>\n",
       "      <td>0</td>\n",
       "      <td>0</td>\n",
       "      <td>0</td>\n",
       "    </tr>\n",
       "    <tr>\n",
       "      <th>678012</th>\n",
       "      <td>0.0</td>\n",
       "      <td>0.00274</td>\n",
       "      <td>7.0</td>\n",
       "      <td>6.0</td>\n",
       "      <td>29.0</td>\n",
       "      <td>54.0</td>\n",
       "      <td>65.0</td>\n",
       "      <td>1</td>\n",
       "      <td>0</td>\n",
       "      <td>0</td>\n",
       "      <td>...</td>\n",
       "      <td>0</td>\n",
       "      <td>0</td>\n",
       "      <td>1</td>\n",
       "      <td>0</td>\n",
       "      <td>0</td>\n",
       "      <td>0</td>\n",
       "      <td>0</td>\n",
       "      <td>0</td>\n",
       "      <td>0</td>\n",
       "      <td>0</td>\n",
       "    </tr>\n",
       "  </tbody>\n",
       "</table>\n",
       "<p>678013 rows × 48 columns</p>\n",
       "</div>"
      ],
      "text/plain": [
       "        ClaimNb  Exposure  VehPower  VehAge  DrivAge  BonusMalus  Density  \\\n",
       "0           1.0   0.10000       5.0     0.0     55.0        50.0   1217.0   \n",
       "1           1.0   0.77000       5.0     0.0     55.0        50.0   1217.0   \n",
       "2           1.0   0.75000       6.0     2.0     52.0        50.0     54.0   \n",
       "3           1.0   0.09000       7.0     0.0     46.0        50.0     76.0   \n",
       "4           1.0   0.84000       7.0     0.0     46.0        50.0     76.0   \n",
       "...         ...       ...       ...     ...      ...         ...      ...   \n",
       "678008      0.0   0.00274       4.0     0.0     54.0        50.0   3317.0   \n",
       "678009      0.0   0.00274       4.0     0.0     41.0        95.0   9850.0   \n",
       "678010      0.0   0.00274       6.0     2.0     45.0        50.0   1323.0   \n",
       "678011      0.0   0.00274       4.0     0.0     60.0        50.0     95.0   \n",
       "678012      0.0   0.00274       7.0     6.0     29.0        54.0     65.0   \n",
       "\n",
       "        VehGas_Diesel  VehGas_Regular  Area_A  ...  Region_R53  Region_R54  \\\n",
       "0                   0               1       0  ...           0           0   \n",
       "1                   0               1       0  ...           0           0   \n",
       "2                   1               0       0  ...           0           0   \n",
       "3                   1               0       0  ...           0           0   \n",
       "4                   1               0       0  ...           0           0   \n",
       "...               ...             ...     ...  ...         ...         ...   \n",
       "678008              0               1       0  ...           0           0   \n",
       "678009              0               1       0  ...           0           0   \n",
       "678010              1               0       0  ...           0           0   \n",
       "678011              0               1       0  ...           0           0   \n",
       "678012              1               0       0  ...           0           0   \n",
       "\n",
       "        Region_R72  Region_R73  Region_R74  Region_R82  Region_R83  \\\n",
       "0                0           0           0           1           0   \n",
       "1                0           0           0           1           0   \n",
       "2                0           0           0           0           0   \n",
       "3                1           0           0           0           0   \n",
       "4                1           0           0           0           0   \n",
       "...            ...         ...         ...         ...         ...   \n",
       "678008           0           0           0           0           0   \n",
       "678009           0           0           0           0           0   \n",
       "678010           0           0           0           1           0   \n",
       "678011           0           0           0           0           0   \n",
       "678012           1           0           0           0           0   \n",
       "\n",
       "        Region_R91  Region_R93  Region_R94  \n",
       "0                0           0           0  \n",
       "1                0           0           0  \n",
       "2                0           0           0  \n",
       "3                0           0           0  \n",
       "4                0           0           0  \n",
       "...            ...         ...         ...  \n",
       "678008           0           1           0  \n",
       "678009           0           0           0  \n",
       "678010           0           0           0  \n",
       "678011           0           0           0  \n",
       "678012           0           0           0  \n",
       "\n",
       "[678013 rows x 48 columns]"
      ]
     },
     "execution_count": 12,
     "metadata": {},
     "output_type": "execute_result"
    }
   ],
   "source": [
    "import pandas as pd\n",
    "from sklearn.datasets import fetch_openml\n",
    "\n",
    "# Download the dataset if it hasn't already been downloaded.\n",
    "from pathlib import Path\n",
    "cd = Path(\".\")\n",
    "if (cd / \"freq_data.csv\").exists():\n",
    "    freq = pd.read_csv(\"freq_data.csv\")\n",
    "else:\n",
    "    print(\"Downloading dataset...\")\n",
    "    from sklearn.datasets import fetch_openml\n",
    "    freq = fetch_openml(data_id=41214, as_frame=True).frame\n",
    "    freq.to_csv(\"freq_data.csv\", index=False)\n",
    "\n",
    "# Remove the column named 'IDpol'.\n",
    "freq = freq.drop(\"IDpol\", axis=1)\n",
    "\n",
    "# Convert categorical variables to numeric.\n",
    "freq = pd.get_dummies(freq, columns=[\"VehGas\", \"Area\", \"VehBrand\", \"Region\"])\n",
    "\n",
    "freq"
   ]
  },
  {
   "cell_type": "markdown",
   "metadata": {
    "id": "IydoaDnIu6G-"
   },
   "source": [
    "**TODO**: Fit a neural network to predict \"ClaimNb\" using some or all of the other inputs.\n",
    "\n",
    "To make our fits comparable, split the data into training and test sets using sklearn's `train_test_split` function using a `random_state=2022`.\n",
    "\n",
    "When compiling the model, use the \"poisson\" loss function."
   ]
  },
  {
   "cell_type": "markdown",
   "metadata": {},
   "source": [
    "Install Packages"
   ]
  },
  {
   "cell_type": "code",
   "execution_count": 13,
   "metadata": {},
   "outputs": [
    {
     "name": "stdout",
     "output_type": "stream",
     "text": [
      "Requirement already satisfied: scikit-learn in c:\\users\\kchu1\\appdata\\local\\programs\\python\\python310\\lib\\site-packages (1.1.1)\n",
      "Requirement already satisfied: pandas in c:\\users\\kchu1\\appdata\\local\\programs\\python\\python310\\lib\\site-packages (1.4.2)\n",
      "Requirement already satisfied: matplotlib in c:\\users\\kchu1\\appdata\\local\\programs\\python\\python310\\lib\\site-packages (3.5.2)\n",
      "Requirement already satisfied: seaborn in c:\\users\\kchu1\\appdata\\local\\programs\\python\\python310\\lib\\site-packages (0.11.2)\n",
      "Requirement already satisfied: tensorflow in c:\\users\\kchu1\\appdata\\local\\programs\\python\\python310\\lib\\site-packages (2.9.1)\n",
      "Requirement already satisfied: numpy in c:\\users\\kchu1\\appdata\\local\\programs\\python\\python310\\lib\\site-packages (1.22.4)\n",
      "Requirement already satisfied: threadpoolctl>=2.0.0 in c:\\users\\kchu1\\appdata\\local\\programs\\python\\python310\\lib\\site-packages (from scikit-learn) (3.1.0)\n",
      "Requirement already satisfied: scipy>=1.3.2 in c:\\users\\kchu1\\appdata\\local\\programs\\python\\python310\\lib\\site-packages (from scikit-learn) (1.8.1)\n",
      "Requirement already satisfied: joblib>=1.0.0 in c:\\users\\kchu1\\appdata\\local\\programs\\python\\python310\\lib\\site-packages (from scikit-learn) (1.1.0)\n",
      "Requirement already satisfied: pytz>=2020.1 in c:\\users\\kchu1\\appdata\\local\\programs\\python\\python310\\lib\\site-packages (from pandas) (2022.1)\n",
      "Requirement already satisfied: python-dateutil>=2.8.1 in c:\\users\\kchu1\\appdata\\local\\programs\\python\\python310\\lib\\site-packages (from pandas) (2.8.2)\n",
      "Requirement already satisfied: fonttools>=4.22.0 in c:\\users\\kchu1\\appdata\\local\\programs\\python\\python310\\lib\\site-packages (from matplotlib) (4.33.3)\n",
      "Requirement already satisfied: cycler>=0.10 in c:\\users\\kchu1\\appdata\\local\\programs\\python\\python310\\lib\\site-packages (from matplotlib) (0.11.0)\n",
      "Requirement already satisfied: pillow>=6.2.0 in c:\\users\\kchu1\\appdata\\local\\programs\\python\\python310\\lib\\site-packages (from matplotlib) (9.1.1)\n",
      "Requirement already satisfied: packaging>=20.0 in c:\\users\\kchu1\\appdata\\local\\programs\\python\\python310\\lib\\site-packages (from matplotlib) (21.3)\n",
      "Requirement already satisfied: kiwisolver>=1.0.1 in c:\\users\\kchu1\\appdata\\local\\programs\\python\\python310\\lib\\site-packages (from matplotlib) (1.4.2)\n",
      "Requirement already satisfied: pyparsing>=2.2.1 in c:\\users\\kchu1\\appdata\\local\\programs\\python\\python310\\lib\\site-packages (from matplotlib) (3.0.9)\n",
      "Requirement already satisfied: tensorflow-estimator<2.10.0,>=2.9.0rc0 in c:\\users\\kchu1\\appdata\\local\\programs\\python\\python310\\lib\\site-packages (from tensorflow) (2.9.0)\n",
      "Requirement already satisfied: tensorflow-io-gcs-filesystem>=0.23.1 in c:\\users\\kchu1\\appdata\\local\\programs\\python\\python310\\lib\\site-packages (from tensorflow) (0.26.0)\n",
      "Requirement already satisfied: astunparse>=1.6.0 in c:\\users\\kchu1\\appdata\\local\\programs\\python\\python310\\lib\\site-packages (from tensorflow) (1.6.3)\n",
      "Requirement already satisfied: google-pasta>=0.1.1 in c:\\users\\kchu1\\appdata\\local\\programs\\python\\python310\\lib\\site-packages (from tensorflow) (0.2.0)\n",
      "Requirement already satisfied: tensorboard<2.10,>=2.9 in c:\\users\\kchu1\\appdata\\local\\programs\\python\\python310\\lib\\site-packages (from tensorflow) (2.9.1)\n",
      "Requirement already satisfied: h5py>=2.9.0 in c:\\users\\kchu1\\appdata\\local\\programs\\python\\python310\\lib\\site-packages (from tensorflow) (3.7.0)\n",
      "Requirement already satisfied: setuptools in c:\\users\\kchu1\\appdata\\local\\programs\\python\\python310\\lib\\site-packages (from tensorflow) (58.1.0)\n",
      "Requirement already satisfied: six>=1.12.0 in c:\\users\\kchu1\\appdata\\local\\programs\\python\\python310\\lib\\site-packages (from tensorflow) (1.16.0)\n",
      "Requirement already satisfied: libclang>=13.0.0 in c:\\users\\kchu1\\appdata\\local\\programs\\python\\python310\\lib\\site-packages (from tensorflow) (14.0.1)\n",
      "Requirement already satisfied: grpcio<2.0,>=1.24.3 in c:\\users\\kchu1\\appdata\\local\\programs\\python\\python310\\lib\\site-packages (from tensorflow) (1.46.3)\n",
      "Requirement already satisfied: typing-extensions>=3.6.6 in c:\\users\\kchu1\\appdata\\local\\programs\\python\\python310\\lib\\site-packages (from tensorflow) (4.2.0)\n",
      "Requirement already satisfied: termcolor>=1.1.0 in c:\\users\\kchu1\\appdata\\local\\programs\\python\\python310\\lib\\site-packages (from tensorflow) (1.1.0)\n",
      "Requirement already satisfied: protobuf<3.20,>=3.9.2 in c:\\users\\kchu1\\appdata\\local\\programs\\python\\python310\\lib\\site-packages (from tensorflow) (3.19.4)\n",
      "Requirement already satisfied: absl-py>=1.0.0 in c:\\users\\kchu1\\appdata\\local\\programs\\python\\python310\\lib\\site-packages (from tensorflow) (1.1.0)\n",
      "Requirement already satisfied: wrapt>=1.11.0 in c:\\users\\kchu1\\appdata\\local\\programs\\python\\python310\\lib\\site-packages (from tensorflow) (1.14.1)\n",
      "Requirement already satisfied: gast<=0.4.0,>=0.2.1 in c:\\users\\kchu1\\appdata\\local\\programs\\python\\python310\\lib\\site-packages (from tensorflow) (0.4.0)\n",
      "Requirement already satisfied: flatbuffers<2,>=1.12 in c:\\users\\kchu1\\appdata\\local\\programs\\python\\python310\\lib\\site-packages (from tensorflow) (1.12)\n",
      "Requirement already satisfied: keras<2.10.0,>=2.9.0rc0 in c:\\users\\kchu1\\appdata\\local\\programs\\python\\python310\\lib\\site-packages (from tensorflow) (2.9.0)\n",
      "Requirement already satisfied: keras-preprocessing>=1.1.1 in c:\\users\\kchu1\\appdata\\local\\programs\\python\\python310\\lib\\site-packages (from tensorflow) (1.1.2)\n",
      "Requirement already satisfied: opt-einsum>=2.3.2 in c:\\users\\kchu1\\appdata\\local\\programs\\python\\python310\\lib\\site-packages (from tensorflow) (3.3.0)\n",
      "Requirement already satisfied: wheel<1.0,>=0.23.0 in c:\\users\\kchu1\\appdata\\local\\programs\\python\\python310\\lib\\site-packages (from astunparse>=1.6.0->tensorflow) (0.37.1)\n",
      "Requirement already satisfied: requests<3,>=2.21.0 in c:\\users\\kchu1\\appdata\\local\\programs\\python\\python310\\lib\\site-packages (from tensorboard<2.10,>=2.9->tensorflow) (2.28.0)\n",
      "Requirement already satisfied: tensorboard-data-server<0.7.0,>=0.6.0 in c:\\users\\kchu1\\appdata\\local\\programs\\python\\python310\\lib\\site-packages (from tensorboard<2.10,>=2.9->tensorflow) (0.6.1)\n",
      "Requirement already satisfied: markdown>=2.6.8 in c:\\users\\kchu1\\appdata\\local\\programs\\python\\python310\\lib\\site-packages (from tensorboard<2.10,>=2.9->tensorflow) (3.3.7)\n",
      "Requirement already satisfied: werkzeug>=1.0.1 in c:\\users\\kchu1\\appdata\\local\\programs\\python\\python310\\lib\\site-packages (from tensorboard<2.10,>=2.9->tensorflow) (2.1.2)\n",
      "Requirement already satisfied: google-auth-oauthlib<0.5,>=0.4.1 in c:\\users\\kchu1\\appdata\\local\\programs\\python\\python310\\lib\\site-packages (from tensorboard<2.10,>=2.9->tensorflow) (0.4.6)\n",
      "Requirement already satisfied: tensorboard-plugin-wit>=1.6.0 in c:\\users\\kchu1\\appdata\\local\\programs\\python\\python310\\lib\\site-packages (from tensorboard<2.10,>=2.9->tensorflow) (1.8.1)\n",
      "Requirement already satisfied: google-auth<3,>=1.6.3 in c:\\users\\kchu1\\appdata\\local\\programs\\python\\python310\\lib\\site-packages (from tensorboard<2.10,>=2.9->tensorflow) (2.7.0)\n",
      "Requirement already satisfied: pyasn1-modules>=0.2.1 in c:\\users\\kchu1\\appdata\\local\\programs\\python\\python310\\lib\\site-packages (from google-auth<3,>=1.6.3->tensorboard<2.10,>=2.9->tensorflow) (0.2.8)\n",
      "Requirement already satisfied: cachetools<6.0,>=2.0.0 in c:\\users\\kchu1\\appdata\\local\\programs\\python\\python310\\lib\\site-packages (from google-auth<3,>=1.6.3->tensorboard<2.10,>=2.9->tensorflow) (5.2.0)\n",
      "Requirement already satisfied: rsa<5,>=3.1.4 in c:\\users\\kchu1\\appdata\\local\\programs\\python\\python310\\lib\\site-packages (from google-auth<3,>=1.6.3->tensorboard<2.10,>=2.9->tensorflow) (4.8)\n",
      "Requirement already satisfied: requests-oauthlib>=0.7.0 in c:\\users\\kchu1\\appdata\\local\\programs\\python\\python310\\lib\\site-packages (from google-auth-oauthlib<0.5,>=0.4.1->tensorboard<2.10,>=2.9->tensorflow) (1.3.1)\n",
      "Requirement already satisfied: idna<4,>=2.5 in c:\\users\\kchu1\\appdata\\local\\programs\\python\\python310\\lib\\site-packages (from requests<3,>=2.21.0->tensorboard<2.10,>=2.9->tensorflow) (3.3)\n",
      "Requirement already satisfied: urllib3<1.27,>=1.21.1 in c:\\users\\kchu1\\appdata\\local\\programs\\python\\python310\\lib\\site-packages (from requests<3,>=2.21.0->tensorboard<2.10,>=2.9->tensorflow) (1.26.9)\n",
      "Requirement already satisfied: charset-normalizer~=2.0.0 in c:\\users\\kchu1\\appdata\\local\\programs\\python\\python310\\lib\\site-packages (from requests<3,>=2.21.0->tensorboard<2.10,>=2.9->tensorflow) (2.0.12)\n",
      "Requirement already satisfied: certifi>=2017.4.17 in c:\\users\\kchu1\\appdata\\local\\programs\\python\\python310\\lib\\site-packages (from requests<3,>=2.21.0->tensorboard<2.10,>=2.9->tensorflow) (2022.5.18.1)\n",
      "Requirement already satisfied: pyasn1<0.5.0,>=0.4.6 in c:\\users\\kchu1\\appdata\\local\\programs\\python\\python310\\lib\\site-packages (from pyasn1-modules>=0.2.1->google-auth<3,>=1.6.3->tensorboard<2.10,>=2.9->tensorflow) (0.4.8)\n",
      "Requirement already satisfied: oauthlib>=3.0.0 in c:\\users\\kchu1\\appdata\\local\\programs\\python\\python310\\lib\\site-packages (from requests-oauthlib>=0.7.0->google-auth-oauthlib<0.5,>=0.4.1->tensorboard<2.10,>=2.9->tensorflow) (3.2.0)\n",
      "Note: you may need to restart the kernel to use updated packages.\n"
     ]
    },
    {
     "name": "stderr",
     "output_type": "stream",
     "text": [
      "WARNING: You are using pip version 22.0.4; however, version 22.1.2 is available.\n",
      "You should consider upgrading via the 'c:\\Users\\kchu1\\AppData\\Local\\Programs\\Python\\Python310\\python.exe -m pip install --upgrade pip' command.\n"
     ]
    }
   ],
   "source": [
    "%pip install -U scikit-learn pandas matplotlib seaborn tensorflow numpy "
   ]
  },
  {
   "cell_type": "code",
   "execution_count": 14,
   "metadata": {},
   "outputs": [
    {
     "name": "stdout",
     "output_type": "stream",
     "text": [
      "Note: you may need to restart the kernel to use updated packages.\n"
     ]
    },
    {
     "name": "stderr",
     "output_type": "stream",
     "text": [
      "ERROR: Could not find a version that satisfies the requirement collections (from versions: none)\n",
      "ERROR: No matching distribution found for collections\n",
      "WARNING: You are using pip version 22.0.4; however, version 22.1.2 is available.\n",
      "You should consider upgrading via the 'c:\\Users\\kchu1\\AppData\\Local\\Programs\\Python\\Python310\\python.exe -m pip install --upgrade pip' command.\n"
     ]
    }
   ],
   "source": [
    "%pip install -U collections"
   ]
  },
  {
   "cell_type": "markdown",
   "metadata": {},
   "source": [
    "Prepare data"
   ]
  },
  {
   "cell_type": "code",
   "execution_count": 37,
   "metadata": {},
   "outputs": [],
   "source": [
    "#separate features and target\n",
    "target = freq['ClaimNb']\n",
    "features = freq.drop(['ClaimNb'], axis=1)"
   ]
  },
  {
   "cell_type": "code",
   "execution_count": 38,
   "metadata": {},
   "outputs": [
    {
     "data": {
      "text/plain": [
       "(678013, 47)"
      ]
     },
     "execution_count": 38,
     "metadata": {},
     "output_type": "execute_result"
    }
   ],
   "source": [
    "#number of features and samples\n",
    "NUM_FEATURES = features.shape[1]\n",
    "features.shape"
   ]
  },
  {
   "cell_type": "code",
   "execution_count": 39,
   "metadata": {},
   "outputs": [
    {
     "data": {
      "text/plain": [
       "[(0.0, 643953),\n",
       " (1.0, 32178),\n",
       " (2.0, 1784),\n",
       " (3.0, 82),\n",
       " (4.0, 7),\n",
       " (11.0, 3),\n",
       " (5.0, 2),\n",
       " (6.0, 1),\n",
       " (8.0, 1),\n",
       " (16.0, 1),\n",
       " (9.0, 1)]"
      ]
     },
     "execution_count": 39,
     "metadata": {},
     "output_type": "execute_result"
    }
   ],
   "source": [
    "from collections import Counter\n",
    "x = Counter(target)\n",
    "x.most_common()"
   ]
  },
  {
   "cell_type": "code",
   "execution_count": 40,
   "metadata": {},
   "outputs": [],
   "source": [
    "#split into training and test set\n",
    "from sklearn.model_selection import train_test_split\n",
    "X_train, X_test, y_train, y_test = train_test_split(features, target, random_state=2022)"
   ]
  },
  {
   "cell_type": "code",
   "execution_count": 41,
   "metadata": {},
   "outputs": [],
   "source": [
    "#Pre-processing\n",
    "from sklearn.preprocessing import StandardScaler, MinMaxScaler\n",
    "\n",
    "scaler = StandardScaler()\n",
    "scaler.fit(X_train)\n",
    "\n",
    "X_train_sc = scaler.transform(X_train)\n",
    "X_test_sc = scaler.transform(X_test)"
   ]
  },
  {
   "cell_type": "markdown",
   "metadata": {},
   "source": [
    "BASE - Model 1: 1 hidden layer, 30 neurons, ReLu activation for hidden layer, 5 epochs"
   ]
  },
  {
   "cell_type": "code",
   "execution_count": 42,
   "metadata": {},
   "outputs": [],
   "source": [
    "from tensorflow.random import set_seed\n",
    "from tensorflow.keras.models import Sequential\n",
    "from tensorflow.keras.layers import Dense\n",
    "\n",
    "#set seed to control randomness since model is initialised randomly\n",
    "set_seed(123) \n",
    "\n",
    "#create model\n",
    "model = Sequential([\n",
    "    #hidden layer with 30 neurons\n",
    "    Dense(30, input_dim=NUM_FEATURES, activation=\"relu\"),\n",
    "    \n",
    "    #output layer\n",
    "    Dense(1, activation=\"exponential\")\n",
    "])"
   ]
  },
  {
   "cell_type": "code",
   "execution_count": 43,
   "metadata": {},
   "outputs": [
    {
     "name": "stdout",
     "output_type": "stream",
     "text": [
      "CPU times: total: 1min 5s\n",
      "Wall time: 39.9 s\n"
     ]
    },
    {
     "data": {
      "text/plain": [
       "[0.23061388731002808,\n",
       " 0.20219387114048004,\n",
       " 0.20107890665531158,\n",
       " 0.20032048225402832,\n",
       " 0.19953292608261108]"
      ]
     },
     "execution_count": 43,
     "metadata": {},
     "output_type": "execute_result"
    }
   ],
   "source": [
    "#compile and fit the model\n",
    "model.compile(\"adam\", \"Poisson\")\n",
    "%time hist = model.fit(X_train_sc, y_train, epochs=5, verbose=False)\n",
    "hist.history[\"loss\"]"
   ]
  },
  {
   "cell_type": "code",
   "execution_count": 44,
   "metadata": {},
   "outputs": [
    {
     "data": {
      "image/png": "[encoded data removed]",
      "text/plain": [
       "<Figure size 432x288 with 1 Axes>"
      ]
     },
     "metadata": {
      "needs_background": "light"
     },
     "output_type": "display_data"
    }
   ],
   "source": [
    "#loss function\n",
    "import matplotlib.pyplot as plt\n",
    "plt.plot(range(1, 6), hist.history[\"loss\"])\n",
    "plt.xlabel(\"Epoch\")\n",
    "plt.ylabel(\"Poisson Deviance\");"
   ]
  },
  {
   "cell_type": "code",
   "execution_count": 45,
   "metadata": {},
   "outputs": [
    {
     "name": "stdout",
     "output_type": "stream",
     "text": [
      "5297/5297 [==============================] - 2s 396us/step\n"
     ]
    },
    {
     "data": {
      "image/png": "[encoded data removed]",
      "text/plain": [
       "<Figure size 432x288 with 1 Axes>"
      ]
     },
     "metadata": {
      "needs_background": "light"
     },
     "output_type": "display_data"
    }
   ],
   "source": [
    "#function used to add diagonal lines to plots\n",
    "def add_diagonal_line():\n",
    "    xl = plt.xlim()\n",
    "    yl = plt.ylim()\n",
    "    shortestSide = min(xl[1], yl[1])\n",
    "    plt.plot([0, shortestSide], [0, shortestSide], color=\"black\", linestyle=\"--\")\n",
    "\n",
    "#plot predictions for test set\n",
    "y_pred = model.predict(X_test_sc)\n",
    "plt.scatter(y_pred, y_test)\n",
    "plt.xlabel(\"Predictions\")\n",
    "plt.ylabel(\"True values\")\n",
    "plt.title(\"Test Set\")\n",
    "add_diagonal_line()"
   ]
  },
  {
   "cell_type": "code",
   "execution_count": 46,
   "metadata": {},
   "outputs": [
    {
     "name": "stdout",
     "output_type": "stream",
     "text": [
      "15891/15891 [==============================] - 7s 423us/step\n",
      "5297/5297 [==============================] - 2s 407us/step\n"
     ]
    }
   ],
   "source": [
    "#model assessment\n",
    "from sklearn.metrics import mean_poisson_deviance\n",
    "poissonTrain = {\"Model 1\": mean_poisson_deviance(y_train, model.predict(X_train_sc))}\n",
    "poissonTest = {\"Model 1\": mean_poisson_deviance(y_test, model.predict(X_test_sc))}"
   ]
  },
  {
   "cell_type": "markdown",
   "metadata": {},
   "source": [
    "Model 2: 1 hidden layer, 60 neurons, ReLu activation for hidden layer, 5 epochs"
   ]
  },
  {
   "cell_type": "code",
   "execution_count": 47,
   "metadata": {},
   "outputs": [],
   "source": [
    "#set seed to control randomness since model is initialised randomly\n",
    "set_seed(123) \n",
    "\n",
    "#create model\n",
    "model = Sequential([\n",
    "    #hidden layer with 60 neurons\n",
    "    Dense(60, input_dim=NUM_FEATURES, activation=\"relu\"),\n",
    "    \n",
    "    #output layer\n",
    "    Dense(1, activation=\"exponential\")\n",
    "])"
   ]
  },
  {
   "cell_type": "code",
   "execution_count": 48,
   "metadata": {},
   "outputs": [
    {
     "name": "stdout",
     "output_type": "stream",
     "text": [
      "CPU times: total: 1min 3s\n",
      "Wall time: 40 s\n"
     ]
    },
    {
     "data": {
      "text/plain": [
       "[0.2096957564353943,\n",
       " 0.2017134577035904,\n",
       " 0.20053043961524963,\n",
       " 0.1997501403093338,\n",
       " 0.19905374944210052]"
      ]
     },
     "execution_count": 48,
     "metadata": {},
     "output_type": "execute_result"
    }
   ],
   "source": [
    "#compile and fit the model\n",
    "model.compile(\"adam\", \"Poisson\")\n",
    "%time hist = model.fit(X_train_sc, y_train, epochs=5, verbose=False)\n",
    "hist.history[\"loss\"]"
   ]
  },
  {
   "cell_type": "code",
   "execution_count": 49,
   "metadata": {},
   "outputs": [
    {
     "data": {
      "image/png": "[encoded data removed]",
      "text/plain": [
       "<Figure size 432x288 with 1 Axes>"
      ]
     },
     "metadata": {
      "needs_background": "light"
     },
     "output_type": "display_data"
    }
   ],
   "source": [
    "#loss function\n",
    "plt.plot(range(1, 6), hist.history[\"loss\"])\n",
    "plt.xlabel(\"Epoch\")\n",
    "plt.ylabel(\"Poisson Deviance\");"
   ]
  },
  {
   "cell_type": "code",
   "execution_count": 50,
   "metadata": {},
   "outputs": [
    {
     "name": "stdout",
     "output_type": "stream",
     "text": [
      "5297/5297 [==============================] - 2s 424us/step\n"
     ]
    },
    {
     "data": {
      "image/png": "[encoded data removed]",
      "text/plain": [
       "<Figure size 432x288 with 1 Axes>"
      ]
     },
     "metadata": {
      "needs_background": "light"
     },
     "output_type": "display_data"
    }
   ],
   "source": [
    "#plot predictions for test set\n",
    "y_pred = model.predict(X_test_sc)\n",
    "plt.scatter(y_pred, y_test)\n",
    "plt.xlabel(\"Predictions\")\n",
    "plt.ylabel(\"True values\")\n",
    "plt.title(\"Test Set\")\n",
    "add_diagonal_line()"
   ]
  },
  {
   "cell_type": "code",
   "execution_count": 51,
   "metadata": {},
   "outputs": [
    {
     "name": "stdout",
     "output_type": "stream",
     "text": [
      "15891/15891 [==============================] - 7s 422us/step\n",
      "5297/5297 [==============================] - 2s 427us/step\n"
     ]
    }
   ],
   "source": [
    "poissonTrain[\"Model 2\"] = mean_poisson_deviance(y_train, model.predict(X_train_sc))\n",
    "poissonTest[\"Model 2\"] = mean_poisson_deviance(y_test, model.predict(X_test_sc))"
   ]
  },
  {
   "cell_type": "markdown",
   "metadata": {},
   "source": [
    "Model 3: 2 hidden layers, 30 neurons each, ReLu activation for hidden layer, 5 epochs"
   ]
  },
  {
   "cell_type": "code",
   "execution_count": 52,
   "metadata": {},
   "outputs": [],
   "source": [
    "#set seed to control randomness since model is initialised randomly\n",
    "set_seed(123) \n",
    "\n",
    "#create model\n",
    "model = Sequential([\n",
    "    #hidden layer with 30 neurons\n",
    "    Dense(30, input_dim=NUM_FEATURES, activation=\"relu\"),\n",
    "\n",
    "    #hidden layer with 30 neurons\n",
    "    Dense(30, input_dim=NUM_FEATURES, activation=\"relu\"),\n",
    "\n",
    "    #output layer\n",
    "    Dense(1, activation=\"exponential\")\n",
    "])"
   ]
  },
  {
   "cell_type": "code",
   "execution_count": 53,
   "metadata": {},
   "outputs": [
    {
     "name": "stdout",
     "output_type": "stream",
     "text": [
      "CPU times: total: 1min 3s\n",
      "Wall time: 41.3 s\n"
     ]
    },
    {
     "data": {
      "text/plain": [
       "[0.20610710978507996,\n",
       " 0.20176242291927338,\n",
       " 0.2006738781929016,\n",
       " 0.1999634951353073,\n",
       " 0.1991780549287796]"
      ]
     },
     "execution_count": 53,
     "metadata": {},
     "output_type": "execute_result"
    }
   ],
   "source": [
    "#compile and fit the model\n",
    "model.compile(\"adam\", \"Poisson\")\n",
    "%time hist = model.fit(X_train_sc, y_train, epochs=5, verbose=False)\n",
    "hist.history[\"loss\"]"
   ]
  },
  {
   "cell_type": "code",
   "execution_count": 54,
   "metadata": {},
   "outputs": [
    {
     "data": {
      "image/png": "[encoded data removed]",
      "text/plain": [
       "<Figure size 432x288 with 1 Axes>"
      ]
     },
     "metadata": {
      "needs_background": "light"
     },
     "output_type": "display_data"
    }
   ],
   "source": [
    "#loss function\n",
    "plt.plot(range(1, 6), hist.history[\"loss\"])\n",
    "plt.xlabel(\"Epoch\")\n",
    "plt.ylabel(\"Poisson Deviance\");"
   ]
  },
  {
   "cell_type": "code",
   "execution_count": 55,
   "metadata": {},
   "outputs": [
    {
     "name": "stdout",
     "output_type": "stream",
     "text": [
      "5297/5297 [==============================] - 2s 404us/step\n"
     ]
    },
    {
     "data": {
      "image/png": "[encoded data removed]",
      "text/plain": [
       "<Figure size 432x288 with 1 Axes>"
      ]
     },
     "metadata": {
      "needs_background": "light"
     },
     "output_type": "display_data"
    }
   ],
   "source": [
    "#plot predictions for test set\n",
    "y_pred = model.predict(X_test_sc)\n",
    "plt.scatter(y_pred, y_test)\n",
    "plt.xlabel(\"Predictions\")\n",
    "plt.ylabel(\"True values\")\n",
    "plt.title(\"Test Set\")\n",
    "add_diagonal_line()"
   ]
  },
  {
   "cell_type": "code",
   "execution_count": 56,
   "metadata": {},
   "outputs": [
    {
     "name": "stdout",
     "output_type": "stream",
     "text": [
      "15891/15891 [==============================] - 7s 426us/step\n",
      "5297/5297 [==============================] - 2s 410us/step\n"
     ]
    }
   ],
   "source": [
    "poissonTrain[\"Model 3\"] = mean_poisson_deviance(y_train, model.predict(X_train_sc))\n",
    "poissonTest[\"Model 3\"] = mean_poisson_deviance(y_test, model.predict(X_test_sc))"
   ]
  },
  {
   "cell_type": "markdown",
   "metadata": {},
   "source": [
    "Model 4: 1 hidden layers, 30 neurons each, ReLu activation for hidden layer, 100 epochs"
   ]
  },
  {
   "cell_type": "code",
   "execution_count": 57,
   "metadata": {},
   "outputs": [],
   "source": [
    "#set seed to control randomness since model is initialised randomly\n",
    "set_seed(123) \n",
    "\n",
    "#create model\n",
    "model = Sequential([\n",
    "    #hidden layer with 30 neurons\n",
    "    Dense(30, input_dim=NUM_FEATURES, activation=\"relu\"),\n",
    "\n",
    "    #output layer\n",
    "    Dense(1, activation=\"exponential\")\n",
    "])"
   ]
  },
  {
   "cell_type": "code",
   "execution_count": 59,
   "metadata": {},
   "outputs": [
    {
     "name": "stdout",
     "output_type": "stream",
     "text": [
      "CPU times: total: 4min 14s\n",
      "Wall time: 2min 38s\n"
     ]
    },
    {
     "data": {
      "text/plain": [
       "[0.19669419527053833,\n",
       " 0.19656547904014587,\n",
       " 0.19656243920326233,\n",
       " 0.19660323858261108,\n",
       " 0.1965377926826477,\n",
       " 0.19652697443962097,\n",
       " 0.19656653702259064,\n",
       " 0.19655205309391022,\n",
       " 0.19649964570999146,\n",
       " 0.196479931473732,\n",
       " 0.19652415812015533,\n",
       " 0.19646413624286652,\n",
       " 0.19649824500083923,\n",
       " 0.19644124805927277,\n",
       " 0.1964680701494217,\n",
       " 0.19645804166793823,\n",
       " 0.1964067965745926,\n",
       " 0.1964159905910492,\n",
       " 0.19638939201831818,\n",
       " 0.19634640216827393]"
      ]
     },
     "execution_count": 59,
     "metadata": {},
     "output_type": "execute_result"
    }
   ],
   "source": [
    "#compile and fit the model\n",
    "model.compile(\"adam\", \"Poisson\")\n",
    "%time hist = model.fit(X_train_sc, y_train, epochs=20, verbose=False)\n",
    "hist.history[\"loss\"]"
   ]
  },
  {
   "cell_type": "code",
   "execution_count": 61,
   "metadata": {},
   "outputs": [
    {
     "data": {
      "image/png": "[encoded data removed]",
      "text/plain": [
       "<Figure size 432x288 with 1 Axes>"
      ]
     },
     "metadata": {
      "needs_background": "light"
     },
     "output_type": "display_data"
    }
   ],
   "source": [
    "#loss function\n",
    "plt.plot(range(1, 21), hist.history[\"loss\"])\n",
    "plt.xlabel(\"Epoch\")\n",
    "plt.ylabel(\"Poisson Deviance\");"
   ]
  },
  {
   "cell_type": "code",
   "execution_count": 62,
   "metadata": {},
   "outputs": [
    {
     "name": "stdout",
     "output_type": "stream",
     "text": [
      "5297/5297 [==============================] - 2s 410us/step\n"
     ]
    },
    {
     "data": {
      "image/png": "[encoded data removed]",
      "text/plain": [
       "<Figure size 432x288 with 1 Axes>"
      ]
     },
     "metadata": {
      "needs_background": "light"
     },
     "output_type": "display_data"
    }
   ],
   "source": [
    "#plot predictions for test set\n",
    "y_pred = model.predict(X_test_sc)\n",
    "plt.scatter(y_pred, y_test)\n",
    "plt.xlabel(\"Predictions\")\n",
    "plt.ylabel(\"True values\")\n",
    "plt.title(\"Test Set\")\n",
    "add_diagonal_line()"
   ]
  },
  {
   "cell_type": "code",
   "execution_count": 63,
   "metadata": {},
   "outputs": [
    {
     "name": "stdout",
     "output_type": "stream",
     "text": [
      "15891/15891 [==============================] - 7s 428us/step\n",
      "5297/5297 [==============================] - 2s 420us/step\n"
     ]
    }
   ],
   "source": [
    "poissonTrain[\"Model 4\"] = mean_poisson_deviance(y_train, model.predict(X_train_sc))\n",
    "poissonTest[\"Model 4\"] = mean_poisson_deviance(y_test, model.predict(X_test_sc))"
   ]
  },
  {
   "cell_type": "markdown",
   "metadata": {},
   "source": [
    "Model 5: 2 hidden layers, 60 neurons, ReLu activation for hidden layer, 20 epochs"
   ]
  },
  {
   "cell_type": "code",
   "execution_count": 71,
   "metadata": {},
   "outputs": [],
   "source": [
    "#set seed to control randomness since model is initialised randomly\n",
    "set_seed(123) \n",
    "\n",
    "#create model\n",
    "model = Sequential([\n",
    "    #hidden layer with 30 neurons\n",
    "    Dense(60, input_dim=NUM_FEATURES, activation=\"relu\"),\n",
    "\n",
    "    #hidden layer with 30 neurons\n",
    "    Dense(60, input_dim=NUM_FEATURES, activation=\"relu\"),\n",
    "\n",
    "    #output layer\n",
    "    Dense(1, activation=\"exponential\")\n",
    "])"
   ]
  },
  {
   "cell_type": "code",
   "execution_count": 72,
   "metadata": {},
   "outputs": [
    {
     "name": "stdout",
     "output_type": "stream",
     "text": [
      "CPU times: total: 4min 57s\n",
      "Wall time: 2min 51s\n"
     ]
    },
    {
     "data": {
      "text/plain": [
       "[0.20436786115169525,\n",
       " 0.20137713849544525,\n",
       " 0.19997923076152802,\n",
       " 0.1990777999162674,\n",
       " 0.198269322514534,\n",
       " 0.19767926633358002,\n",
       " 0.19742904603481293,\n",
       " 0.19704528152942657,\n",
       " 0.19677254557609558,\n",
       " 0.1966230720281601,\n",
       " 0.19644060730934143,\n",
       " 0.19625164568424225,\n",
       " 0.19620759785175323,\n",
       " 0.19600939750671387,\n",
       " 0.19577525556087494,\n",
       " 0.19564682245254517,\n",
       " 0.19542813301086426,\n",
       " 0.1954035460948944,\n",
       " 0.19530873000621796,\n",
       " 0.1950247436761856]"
      ]
     },
     "execution_count": 72,
     "metadata": {},
     "output_type": "execute_result"
    }
   ],
   "source": [
    "#compile and fit the model\n",
    "model.compile(\"adam\", \"Poisson\")\n",
    "%time hist = model.fit(X_train_sc, y_train, epochs=20, verbose=False)\n",
    "hist.history[\"loss\"]"
   ]
  },
  {
   "cell_type": "code",
   "execution_count": 73,
   "metadata": {},
   "outputs": [
    {
     "data": {
      "image/png": "[encoded data removed]",
      "text/plain": [
       "<Figure size 432x288 with 1 Axes>"
      ]
     },
     "metadata": {
      "needs_background": "light"
     },
     "output_type": "display_data"
    }
   ],
   "source": [
    "#loss function\n",
    "plt.plot(range(1, 21), hist.history[\"loss\"])\n",
    "plt.xlabel(\"Epoch\")\n",
    "plt.ylabel(\"Poisson Deviance\");"
   ]
  },
  {
   "cell_type": "code",
   "execution_count": 74,
   "metadata": {},
   "outputs": [
    {
     "name": "stdout",
     "output_type": "stream",
     "text": [
      "5297/5297 [==============================] - 2s 427us/step\n"
     ]
    },
    {
     "data": {
      "image/png": "[encoded data removed]",
      "text/plain": [
       "<Figure size 432x288 with 1 Axes>"
      ]
     },
     "metadata": {
      "needs_background": "light"
     },
     "output_type": "display_data"
    }
   ],
   "source": [
    "#plot predictions for test set\n",
    "y_pred = model.predict(X_test_sc)\n",
    "plt.scatter(y_pred, y_test)\n",
    "plt.xlabel(\"Predictions\")\n",
    "plt.ylabel(\"True values\")\n",
    "plt.title(\"Test Set\")\n",
    "add_diagonal_line()"
   ]
  },
  {
   "cell_type": "code",
   "execution_count": 75,
   "metadata": {},
   "outputs": [
    {
     "name": "stdout",
     "output_type": "stream",
     "text": [
      "15891/15891 [==============================] - 7s 432us/step\n",
      "5297/5297 [==============================] - 2s 429us/step\n"
     ]
    }
   ],
   "source": [
    "poissonTrain[\"Model 5\"] = mean_poisson_deviance(y_train, model.predict(X_train_sc))\n",
    "poissonTest[\"Model 5\"] = mean_poisson_deviance(y_test, model.predict(X_test_sc))"
   ]
  },
  {
   "cell_type": "markdown",
   "metadata": {},
   "source": [
    "Model Comparison"
   ]
  },
  {
   "cell_type": "code",
   "execution_count": 76,
   "metadata": {},
   "outputs": [
    {
     "data": {
      "text/html": [
       "<div>\n",
       "<style scoped>\n",
       "    .dataframe tbody tr th:only-of-type {\n",
       "        vertical-align: middle;\n",
       "    }\n",
       "\n",
       "    .dataframe tbody tr th {\n",
       "        vertical-align: top;\n",
       "    }\n",
       "\n",
       "    .dataframe thead th {\n",
       "        text-align: right;\n",
       "    }\n",
       "</style>\n",
       "<table border=\"1\" class=\"dataframe\">\n",
       "  <thead>\n",
       "    <tr style=\"text-align: right;\">\n",
       "      <th></th>\n",
       "      <th>Model</th>\n",
       "      <th>Poisson Deviance</th>\n",
       "    </tr>\n",
       "  </thead>\n",
       "  <tbody>\n",
       "    <tr>\n",
       "      <th>4</th>\n",
       "      <td>Model 5</td>\n",
       "      <td>0.291382</td>\n",
       "    </tr>\n",
       "    <tr>\n",
       "      <th>3</th>\n",
       "      <td>Model 4</td>\n",
       "      <td>0.295101</td>\n",
       "    </tr>\n",
       "    <tr>\n",
       "      <th>1</th>\n",
       "      <td>Model 2</td>\n",
       "      <td>0.298660</td>\n",
       "    </tr>\n",
       "    <tr>\n",
       "      <th>2</th>\n",
       "      <td>Model 3</td>\n",
       "      <td>0.298721</td>\n",
       "    </tr>\n",
       "    <tr>\n",
       "      <th>0</th>\n",
       "      <td>Model 1</td>\n",
       "      <td>0.299787</td>\n",
       "    </tr>\n",
       "  </tbody>\n",
       "</table>\n",
       "</div>"
      ],
      "text/plain": [
       "     Model  Poisson Deviance\n",
       "4  Model 5          0.291382\n",
       "3  Model 4          0.295101\n",
       "1  Model 2          0.298660\n",
       "2  Model 3          0.298721\n",
       "0  Model 1          0.299787"
      ]
     },
     "execution_count": 76,
     "metadata": {},
     "output_type": "execute_result"
    }
   ],
   "source": [
    "trainResults = pd.DataFrame({\n",
    "    \"Model\": poissonTrain.keys(), \"Poisson Deviance\": poissonTrain.values()\n",
    "})\n",
    "trainResults.sort_values(\"Poisson Deviance\", ascending=True)"
   ]
  },
  {
   "cell_type": "code",
   "execution_count": 77,
   "metadata": {},
   "outputs": [
    {
     "data": {
      "text/html": [
       "<div>\n",
       "<style scoped>\n",
       "    .dataframe tbody tr th:only-of-type {\n",
       "        vertical-align: middle;\n",
       "    }\n",
       "\n",
       "    .dataframe tbody tr th {\n",
       "        vertical-align: top;\n",
       "    }\n",
       "\n",
       "    .dataframe thead th {\n",
       "        text-align: right;\n",
       "    }\n",
       "</style>\n",
       "<table border=\"1\" class=\"dataframe\">\n",
       "  <thead>\n",
       "    <tr style=\"text-align: right;\">\n",
       "      <th></th>\n",
       "      <th>Model</th>\n",
       "      <th>Poisson Deviance</th>\n",
       "    </tr>\n",
       "  </thead>\n",
       "  <tbody>\n",
       "    <tr>\n",
       "      <th>3</th>\n",
       "      <td>Model 4</td>\n",
       "      <td>0.299174</td>\n",
       "    </tr>\n",
       "    <tr>\n",
       "      <th>4</th>\n",
       "      <td>Model 5</td>\n",
       "      <td>0.300725</td>\n",
       "    </tr>\n",
       "    <tr>\n",
       "      <th>2</th>\n",
       "      <td>Model 3</td>\n",
       "      <td>0.302131</td>\n",
       "    </tr>\n",
       "    <tr>\n",
       "      <th>1</th>\n",
       "      <td>Model 2</td>\n",
       "      <td>0.302457</td>\n",
       "    </tr>\n",
       "    <tr>\n",
       "      <th>0</th>\n",
       "      <td>Model 1</td>\n",
       "      <td>0.302963</td>\n",
       "    </tr>\n",
       "  </tbody>\n",
       "</table>\n",
       "</div>"
      ],
      "text/plain": [
       "     Model  Poisson Deviance\n",
       "3  Model 4          0.299174\n",
       "4  Model 5          0.300725\n",
       "2  Model 3          0.302131\n",
       "1  Model 2          0.302457\n",
       "0  Model 1          0.302963"
      ]
     },
     "execution_count": 77,
     "metadata": {},
     "output_type": "execute_result"
    }
   ],
   "source": [
    "trainResults = pd.DataFrame({\n",
    "    \"Model\": poissonTest.keys(), \"Poisson Deviance\": poissonTest.values()\n",
    "})\n",
    "trainResults.sort_values(\"Poisson Deviance\", ascending=True)"
   ]
  }
 ],
 "metadata": {
  "colab": {
   "collapsed_sections": [],
   "name": "French-motor-SW2.ipynb",
   "provenance": []
  },
  "interpreter": {
   "hash": "c931f5753cb3acf1f4642c0cfb5a159d24101420bc9fe73ae8953710c0fa058b"
  },
  "kernelspec": {
   "display_name": "Python 3.10.4 64-bit",
   "language": "python",
   "name": "python3"
  },
  "language_info": {
   "codemirror_mode": {
    "name": "ipython",
    "version": 3
   },
   "file_extension": ".py",
   "mimetype": "text/x-python",
   "name": "python",
   "nbconvert_exporter": "python",
   "pygments_lexer": "ipython3",
   "version": "3.10.4"
  }
 },
 "nbformat": 4,
 "nbformat_minor": 4
}
