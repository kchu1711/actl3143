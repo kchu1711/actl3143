{
 "cells": [
  {
   "cell_type": "markdown",
   "metadata": {},
   "source": [
    "# Mathematics of Deep Learning"
   ]
  },
  {
   "cell_type": "markdown",
   "metadata": {},
   "source": [
    "## Packages from previous "
   ]
  },
  {
   "cell_type": "code",
   "execution_count": 59,
   "metadata": {},
   "outputs": [],
   "source": [
    "import matplotlib.pyplot as plt\n",
    "import numpy as np\n",
    "import pandas as pd\n",
    "import seaborn as sns\n",
    "import tensorflow as tf\n",
    "from sklearn.preprocessing import StandardScaler, MinMaxScaler\n",
    "from sklearn.metrics import mean_squared_error\n",
    "\n",
    "from sklearn.model_selection import train_test_split\n",
    "from tensorflow.keras.models import Sequential\n",
    "from tensorflow.keras.layers import Dense"
   ]
  },
  {
   "cell_type": "markdown",
   "metadata": {},
   "source": [
    "## Basic ML Workflow\n",
    "1. For each model, fit it to the *training set*\n",
    "2. Compute the error for each model on the *validation set*\n",
    "3. Select the model with the lowest validation error\n",
    "4. Compute the error of the final model on the *test set*\n",
    "\n",
    "### Questions to answer in ML project\n",
    "1. **(SELECTION)** Which of these models is the best?\n",
    "2. **(Future Performance)** How good should we expect the final model to be on unseen data?"
   ]
  },
  {
   "cell_type": "markdown",
   "metadata": {},
   "source": [
    "## Diviser en trois - split 3 ways"
   ]
  },
  {
   "cell_type": "code",
   "execution_count": 18,
   "metadata": {},
   "outputs": [],
   "source": [
    "# import the data\n",
    "from sklearn.datasets import fetch_california_housing\n",
    "features, target = fetch_california_housing(as_frame=True, return_X_y=True)\n",
    "\n",
    "# split data into train, validation and test sets\n",
    "X_main, X_test, y_main, y_test = \\\n",
    "    train_test_split(features, target, test_size=0.2, random_state=1)\n",
    "\n",
    "X_train, X_val, y_train, y_val = \\\n",
    "    train_test_split(X_main, y_main, test_size=0.25, random_state=1) # As 0.25 x 0.8 = 0.2"
   ]
  },
  {
   "cell_type": "markdown",
   "metadata": {},
   "source": [
    "## Model Building Flow as Code"
   ]
  },
  {
   "cell_type": "code",
   "execution_count": 19,
   "metadata": {},
   "outputs": [
    {
     "name": "stdout",
     "output_type": "stream",
     "text": [
      "CPU times: total: 34 s\n",
      "Wall time: 29.4 s\n",
      "387/387 [==============================] - 0s 787us/step\n",
      "129/129 [==============================] - 0s 831us/step\n",
      "129/129 [==============================] - 0s 787us/step\n"
     ]
    },
    {
     "data": {
      "text/plain": [
       "0.32625776529312134"
      ]
     },
     "execution_count": 19,
     "metadata": {},
     "output_type": "execute_result"
    }
   ],
   "source": [
    "sc = StandardScaler()\n",
    "sc.fit(X_train)\n",
    "X_train_sc = sc.transform(X_train)\n",
    "X_val_sc = sc.transform(X_val)\n",
    "X_test_sc = sc.transform(X_test)\n",
    "\n",
    "# For each model, fit it to the training set\n",
    "tf.random.set_seed(1234)\n",
    "model = Sequential([\n",
    "    Dense(30, activation=\"relu\"),\n",
    "    Dense(1, activation=\"exponential\")\n",
    "])\n",
    "model.compile(\"adam\", \"mse\")\n",
    "%time hist = model.fit(X_train_sc, y_train, epochs=100, verbose=False)\n",
    "\n",
    "# Compute the error for each model on the validation set and select model with lowest error\n",
    "mseExpAnnTrain = mean_squared_error(y_train, model.predict(X_train_sc))\n",
    "mseExpAnnVal = mean_squared_error(y_val, model.predict(X_val_sc))\n",
    "\n",
    "mseTrain = {\"Exp ANN\": mseExpAnnTrain}\n",
    "mseVal = {\"Exp ANN\": mseExpAnnVal}\n",
    "\n",
    "# Evaluate only the final model on the test set\n",
    "mean_squared_error(y_test, model.predict(X_test_sc))\n",
    "model.evaluate(X_test_sc, y_test, verbose=False)"
   ]
  },
  {
   "cell_type": "markdown",
   "metadata": {},
   "source": [
    "## Early Stopping"
   ]
  },
  {
   "cell_type": "code",
   "execution_count": 20,
   "metadata": {},
   "outputs": [
    {
     "name": "stdout",
     "output_type": "stream",
     "text": [
      "CPU times: total: 27.7 s\n",
      "Wall time: 23.5 s\n",
      "Keeping model at epoch #48.\n"
     ]
    }
   ],
   "source": [
    "from tensorflow.keras.callbacks import EarlyStopping\n",
    "\n",
    "tf.random.set_seed(1234)\n",
    "model = Sequential([\n",
    "    Dense(30, activation=\"relu\"),\n",
    "    Dense(1, activation=\"exponential\")\n",
    "])\n",
    "model.compile(\"adam\", \"mse\")\n",
    "\n",
    "es = EarlyStopping(restore_best_weights=True, patience=10)\n",
    "\n",
    "%time hist = model.fit(X_train_sc, y_train, epochs=1_000, \\\n",
    "    callbacks=[es], validation_data=(X_val_sc, y_val), verbose=False)\n",
    "print(f\"Keeping model at epoch #{len(hist.history['loss'])-10}.\")"
   ]
  },
  {
   "cell_type": "code",
   "execution_count": 21,
   "metadata": {},
   "outputs": [
    {
     "data": {
      "image/png": "[encoded data removed]",
      "text/plain": [
       "<Figure size 432x288 with 1 Axes>"
      ]
     },
     "metadata": {
      "needs_background": "light"
     },
     "output_type": "display_data"
    }
   ],
   "source": [
    "# Loss curve\n",
    "plt.plot(hist.history[\"loss\"])\n",
    "plt.plot(hist.history[\"val_loss\"])\n",
    "plt.legend([\"Training\", \"Validation\"]);"
   ]
  },
  {
   "cell_type": "code",
   "execution_count": 22,
   "metadata": {},
   "outputs": [
    {
     "name": "stderr",
     "output_type": "stream",
     "text": [
      "'file' is not recognized as an internal or external command,\n",
      "operable program or batch file.\n"
     ]
    }
   ],
   "source": [
    "# Other callbacks\n",
    "from tensorflow.keras.callbacks import ModelCheckpoint\n",
    "\n",
    "tf.random.set_seed(1234)\n",
    "model = Sequential([\n",
    "    Dense(30, activation=\"relu\"),\n",
    "    Dense(1, activation=\"exponential\")\n",
    "])\n",
    "model.compile(\"adam\", \"mse\")\n",
    "\n",
    "# On Colab, save models to Google Drive.\n",
    "mc = ModelCheckpoint(\"best-model.h5\", monitor=\"val_loss\",\n",
    "        save_best_only=True)\n",
    "es = EarlyStopping(restore_best_weights=True, patience=5)\n",
    "\n",
    "hist = model.fit(X_train_sc, y_train, epochs=100, \\\n",
    "    validation_split=0.1, callbacks=[mc, es], verbose=False)"
   ]
  },
  {
   "cell_type": "markdown",
   "metadata": {},
   "source": [
    "## Classification "
   ]
  },
  {
   "cell_type": "markdown",
   "metadata": {},
   "source": [
    "### Softmax activation for final layer\n",
    "- Creates a probability vector: Softmax(x) = $\\frac{e_i^x}{\\Sigma_j e^x_j}$"
   ]
  },
  {
   "cell_type": "markdown",
   "metadata": {},
   "source": [
    "### Data Set Up"
   ]
  },
  {
   "cell_type": "code",
   "execution_count": 23,
   "metadata": {},
   "outputs": [],
   "source": [
    "# Import data\n",
    "from sklearn.datasets import load_iris\n",
    "iris = load_iris()\n",
    "names = [\"SepalLength\", \"SepalWidth\", \"PetalLength\", \"PetalWidth\"]\n",
    "features = pd.DataFrame(iris.data, columns = names)"
   ]
  },
  {
   "cell_type": "code",
   "execution_count": 24,
   "metadata": {},
   "outputs": [],
   "source": [
    "# Target variable\n",
    "target = iris.target\n",
    "target = target.reshape(-1, 1)"
   ]
  },
  {
   "cell_type": "code",
   "execution_count": 25,
   "metadata": {},
   "outputs": [
    {
     "name": "stdout",
     "output_type": "stream",
     "text": [
      "[0 1 2]\n",
      "[50 50 50]\n"
     ]
    }
   ],
   "source": [
    "# Frequency table\n",
    "classes, counts = np.unique(\n",
    "        target,\n",
    "        return_counts=True\n",
    ")\n",
    "print(classes)\n",
    "print(counts)"
   ]
  },
  {
   "cell_type": "markdown",
   "metadata": {},
   "source": [
    "### Modelling"
   ]
  },
  {
   "cell_type": "code",
   "execution_count": 30,
   "metadata": {},
   "outputs": [],
   "source": [
    "# Split the data into train and test\n",
    "X_train, X_test, y_train, y_test = train_test_split(features, target, random_state=24)"
   ]
  },
  {
   "cell_type": "code",
   "execution_count": 60,
   "metadata": {},
   "outputs": [
    {
     "name": "stdout",
     "output_type": "stream",
     "text": [
      "Number of features: 4\n",
      "Number of categories: 3\n"
     ]
    }
   ],
   "source": [
    "# Number of features and categories\n",
    "NUM_FEATURES = len(features.columns)\n",
    "NUM_CATS = len(np.unique(target))\n",
    "\n",
    "print(\"Number of features:\", NUM_FEATURES)\n",
    "print(\"Number of categories:\", NUM_CATS)"
   ]
  },
  {
   "cell_type": "code",
   "execution_count": 32,
   "metadata": {},
   "outputs": [],
   "source": [
    "# Function to return a Keras model\n",
    "def build_model(seed=42):\n",
    "    tf.random.set_seed(seed)\n",
    "    return Sequential([\n",
    "        Dense(30, activation=\"relu\"),\n",
    "        Dense(NUM_CATS, activation=\"softmax\") # softmax for classification\n",
    "    ])"
   ]
  },
  {
   "cell_type": "code",
   "execution_count": 36,
   "metadata": {},
   "outputs": [
    {
     "name": "stdout",
     "output_type": "stream",
     "text": [
      "CPU times: total: 4.08 s\n",
      "Wall time: 3.45 s\n",
      "Stopped after 170 epochs.\n"
     ]
    }
   ],
   "source": [
    "model = build_model()\n",
    "model.compile(\"adam\", \"SparseCategoricalCrossentropy\", \\\n",
    "        metrics=[\"accuracy\"])\n",
    "\n",
    "es = EarlyStopping(restore_best_weights=True, patience=50,\n",
    "        monitor=\"val_accuracy\")\n",
    "%time histES = model.fit(X_train, y_train, epochs=500, \\\n",
    "        validation_split=0.25, callbacks=[es], verbose=False);\n",
    "\n",
    "print(f\"Stopped after {len(histES.history['loss'])} epochs.\")\n",
    "\n"
   ]
  },
  {
   "cell_type": "code",
   "execution_count": 37,
   "metadata": {},
   "outputs": [
    {
     "data": {
      "text/plain": [
       "[0.34775248169898987, 0.9736841917037964]"
      ]
     },
     "execution_count": 37,
     "metadata": {},
     "output_type": "execute_result"
    }
   ],
   "source": [
    "# Evaluate model - note it shows both loss and accuracy\n",
    "model.evaluate(X_test, y_test, verbose=False)"
   ]
  },
  {
   "cell_type": "markdown",
   "metadata": {},
   "source": [
    "### Predictions"
   ]
  },
  {
   "cell_type": "code",
   "execution_count": 38,
   "metadata": {},
   "outputs": [
    {
     "name": "stdout",
     "output_type": "stream",
     "text": [
      "1/1 [==============================] - 0s 34ms/step\n"
     ]
    },
    {
     "data": {
      "text/plain": [
       "array([[0.00407997, 0.2903609 , 0.70555913],\n",
       "       [0.00736918, 0.33165058, 0.66098017],\n",
       "       [0.12062447, 0.6610642 , 0.21831135],\n",
       "       [0.05547402, 0.63195974, 0.3125663 ]], dtype=float32)"
      ]
     },
     "execution_count": 38,
     "metadata": {},
     "output_type": "execute_result"
    }
   ],
   "source": [
    "y_pred = model.predict(X_test.head(4))\n",
    "y_pred"
   ]
  },
  {
   "cell_type": "code",
   "execution_count": 39,
   "metadata": {},
   "outputs": [
    {
     "data": {
      "text/plain": [
       "array([2, 2, 1, 1], dtype=int64)"
      ]
     },
     "execution_count": 39,
     "metadata": {},
     "output_type": "execute_result"
    }
   ],
   "source": [
    "# Add 'keepdims=True' to get a column vector.\n",
    "np.argmax(y_pred, axis=1)"
   ]
  },
  {
   "cell_type": "code",
   "execution_count": 40,
   "metadata": {},
   "outputs": [
    {
     "data": {
      "text/plain": [
       "array(['virginica', 'virginica', 'versicolor', 'versicolor'], dtype='<U10')"
      ]
     },
     "execution_count": 40,
     "metadata": {},
     "output_type": "execute_result"
    }
   ],
   "source": [
    "# show predictions as their class names\n",
    "iris.target_names[np.argmax(y_pred, axis=1)]"
   ]
  },
  {
   "cell_type": "markdown",
   "metadata": {},
   "source": [
    "### One Hot Encoding"
   ]
  },
  {
   "cell_type": "code",
   "execution_count": 42,
   "metadata": {},
   "outputs": [],
   "source": [
    "from sklearn.preprocessing import OneHotEncoder\n",
    "\n",
    "enc = OneHotEncoder(sparse=False)\n",
    "\n",
    "y_train_oh = enc.fit_transform(y_train)\n",
    "y_test_oh = enc.transform(y_test)"
   ]
  },
  {
   "cell_type": "code",
   "execution_count": 45,
   "metadata": {},
   "outputs": [
    {
     "data": {
      "text/plain": [
       "[0.29562538862228394, 0.9736841917037964]"
      ]
     },
     "execution_count": 45,
     "metadata": {},
     "output_type": "execute_result"
    }
   ],
   "source": [
    "# Classifier given one-hot outputs\n",
    "\n",
    "# Create the model (new loss function!)\n",
    "model = build_model()\n",
    "model.compile(\"adam\", \"CategoricalCrossentropy\", \\\n",
    "    metrics=[\"accuracy\"])\n",
    "\n",
    "# Fit the model (new target variables)\n",
    "model.fit(X_train, y_train_oh, epochs=100, verbose=False);\n",
    "\n",
    "# Evaluate the model (new target variables)\n",
    "model.evaluate(X_test, y_test_oh, verbose=False)"
   ]
  },
  {
   "cell_type": "code",
   "execution_count": 58,
   "metadata": {},
   "outputs": [
    {
     "data": {
      "text/plain": [
       "[]"
      ]
     },
     "execution_count": 58,
     "metadata": {},
     "output_type": "execute_result"
    }
   ],
   "source": [
    "# Categorical boolean mask\n",
    "categorical_features_mask = (features.dtypes==object)\n",
    "\n",
    "#filter categorical columns using mask and turn into a list\n",
    "categorical_cols = features.columns[categorical_features_mask].tolist()\n",
    "categorical_cols"
   ]
  },
  {
   "cell_type": "markdown",
   "metadata": {},
   "source": [
    "## Poisson Regression, Deviance and Loss"
   ]
  },
  {
   "cell_type": "markdown",
   "metadata": {},
   "source": [
    "### The model\n",
    "Have $[(xi,yi)]_{i=1,…,n}$ for $ x_i∈R^{47} $ and $ y_i∈N_0 $.\n",
    "\n",
    "Assume the distribution\n",
    "\n",
    "$Y_i∼Poisson(λ(x_i))$\n",
    "\n",
    "We have $\\mathbb{E}Y_i=λ(x_i)$. The NN takes $x_i$ and predicts $\\mathbb{E}Y_i$.\n"
   ]
  },
  {
   "cell_type": "markdown",
   "metadata": {},
   "source": [
    "### Poisson Probabilities \n",
    "Since the PMF of the N∼Poisson(λ) distribution is $\\mathbb{P}(N=k)=\\frac {λ^ke{−λ}} / {k!}$ then the PMF of $Y_i∼Poisson(λ(x_i))$ is\n",
    "$$\\mathbb{P}(Y_i=y_i)=\\frac{λ(x_i)^{y_i}e{−λ(xi)}} {y_i!}$$\n",
    "\n",
    "The likelihood of a sample is then:\n",
    "$$\\mathbb{P}(Y_1=y_1,…,Y_n=y_n)=\\prod_{i=1}^n \\mathbb{P}(Y_i=y_i)$$\n",
    "\n",
    "Therefore, the likelihod of $[(x_i,y_i)]_{i=1,…,n}$ is:\n",
    "$$L= \\prod_{i=1}^n \\frac{λ(x_i)^{y_i}e{−λ(xi)}} {y_i!}$$\n",
    "\n",
    "So the log-likelihood is:\n",
    "$$l = \\sum_{i=1}^n y_i log(\\lambda(x_i)) - \\lambda(x_i) - log(y_i!)$$\n",
    "\n",
    "We want to maximise the likelihood:\n",
    "$$\\lambda^* = ... = arg min_\\lambda \\frac {1} {n} \\sum_{i=1}^n \\lambda (x_i) - y_i log(\\lambda(x_i))$$\n",
    "\n",
    "Hence, Poisson Loss is:\n",
    "$$PoissonLoss = \\frac {1} {n} \\sum_{i=1}^n \\lambda (x_i) - y_i log(\\lambda(x_i))\n",
    "\n",
    "\n"
   ]
  },
  {
   "cell_type": "markdown",
   "metadata": {},
   "source": [
    "### Poisson Deviance\n",
    "$$ D = 2 \\sum_{i=1}^n y_i log(\\frac{y_i}{\\lambda(x_i)}) - (y_i-\\lambda(x_i))"
   ]
  },
  {
   "cell_type": "markdown",
   "metadata": {},
   "source": [
    "## Optimisation"
   ]
  },
  {
   "cell_type": "markdown",
   "metadata": {},
   "source": [
    "### Batch gradient descent\n",
    "Go over all the training data\n",
    "\n",
    "    for i in range(numEpochs):\n",
    "      gradient = evaluate_gradient(loss_function, data, weights)\n",
    "      weights = weights - learningRate * gradient\n"
   ]
  },
  {
   "cell_type": "markdown",
   "metadata": {},
   "source": [
    "### Stochastic gradient descent\n",
    "Pick a random training example\n",
    "\n",
    "    for i in range(numEpochs):\n",
    "      rnd.shuffle(data)\n",
    "      for example in data:\n",
    "        gradient = evaluate_gradient(loss_function, example, weights)\n",
    "        weights = weights - learningRate * gradient\n"
   ]
  },
  {
   "cell_type": "markdown",
   "metadata": {},
   "source": [
    "### Mini-batch gradient descent\n",
    "Take a group of training examples\n",
    "\n",
    "    for i in range(numEpochs):\n",
    "      rnd.shuffle(data)\n",
    "      for b in range(numBatches):\n",
    "        batch = data[b*batchSize:(b+1)*batchSize]\n",
    "        gradient = evaluate_gradient(loss_function, batch, weights)\n",
    "        weights = weights - learningRate * gradient\n",
    "\n",
    "Why?\n",
    "- We have to - data is too big\n",
    "- Faster - lots of quick noisy steps > a few slow super accurate steps\n",
    "- Noise helps us jump out of local minima"
   ]
  },
  {
   "cell_type": "markdown",
   "metadata": {},
   "source": [
    "## Classes and Objects\n",
    "Often, the built-in types (int, double, list, etc.) aren’t enough. Need to make a new type of object.\n",
    "\n",
    "Example - students with name, zID, grades + shared way to calculate WAM"
   ]
  },
  {
   "cell_type": "code",
   "execution_count": 49,
   "metadata": {},
   "outputs": [],
   "source": [
    "class Student:\n",
    "    def __init__(self, name, zID, grades): \n",
    "        self.name = name\n",
    "        self.zID = zID\n",
    "        self.grades = grades\n",
    "\n",
    "# The first parameter for each function inside a class is self."
   ]
  },
  {
   "cell_type": "code",
   "execution_count": 50,
   "metadata": {},
   "outputs": [],
   "source": [
    "#Adding a method\n",
    "COURSE_CREDITS = {\"ACTL3143\": 6, \"ACTL5001\": 12}\n",
    "\n",
    "class Student:\n",
    "  def __init__(self, name, zID, grades):\n",
    "    self.name = name\n",
    "    self.zID = zID\n",
    "    self.grades = grades\n",
    "\n",
    "  def wam(self):\n",
    "    \"\"\"\n",
    "    Calculate the weighted average mark for this student.\n",
    "    \"\"\"\n",
    "    total_credits = 0\n",
    "    total_grade = 0\n",
    "    for course, grade in self.grades.items():\n",
    "      total_credits += COURSE_CREDITS[course]\n",
    "      total_grade += grade * COURSE_CREDITS[course]\n",
    "    return total_grade / total_credits"
   ]
  },
  {
   "cell_type": "code",
   "execution_count": 51,
   "metadata": {},
   "outputs": [],
   "source": [
    "don = Student(\"Don Quixote\", 111222,\n",
    "    {\"ACTL3143\": 100, \"ACTL5001\": 50})\n",
    "zhuge = Student(\"Zhuge Liang\", 123456,\n",
    "    {\"ACTL3143\": 100, \"ACTL5001\": 100})"
   ]
  },
  {
   "cell_type": "code",
   "execution_count": 52,
   "metadata": {},
   "outputs": [
    {
     "data": {
      "text/plain": [
       "66.66666666666667"
      ]
     },
     "execution_count": 52,
     "metadata": {},
     "output_type": "execute_result"
    }
   ],
   "source": [
    "don.wam()\n",
    "#syntax is object.method()"
   ]
  },
  {
   "cell_type": "code",
   "execution_count": 53,
   "metadata": {},
   "outputs": [
    {
     "name": "stdout",
     "output_type": "stream",
     "text": [
      "Help on method wam in module __main__:\n",
      "\n",
      "wam() method of __main__.Student instance\n",
      "    Calculate the weighted average mark for this student.\n",
      "\n"
     ]
    }
   ],
   "source": [
    "help(zhuge.wam)"
   ]
  },
  {
   "cell_type": "markdown",
   "metadata": {},
   "source": [
    "## Lambda Functions"
   ]
  },
  {
   "cell_type": "code",
   "execution_count": 55,
   "metadata": {},
   "outputs": [
    {
     "data": {
      "text/plain": [
       "['Bert', 'Patrick', 'Josephine']"
      ]
     },
     "execution_count": 55,
     "metadata": {},
     "output_type": "execute_result"
    }
   ],
   "source": [
    "# sort students by length of name \n",
    "names = [\"Josephine\", \"Patrick\", \"Bert\"]\n",
    "sorted(names, key=len)"
   ]
  },
  {
   "cell_type": "code",
   "execution_count": 56,
   "metadata": {},
   "outputs": [
    {
     "data": {
      "text/plain": [
       "['Patrick', 'Bert', 'Josephine']"
      ]
     },
     "execution_count": 56,
     "metadata": {},
     "output_type": "execute_result"
    }
   ],
   "source": [
    "#sort students by second letter using new function\n",
    "def secondLetter(name):\n",
    "    return name[1]\n",
    "\n",
    "sorted(names, key=secondLetter)"
   ]
  },
  {
   "cell_type": "code",
   "execution_count": 57,
   "metadata": {},
   "outputs": [
    {
     "data": {
      "text/plain": [
       "['Patrick', 'Bert', 'Josephine']"
      ]
     },
     "execution_count": 57,
     "metadata": {},
     "output_type": "execute_result"
    }
   ],
   "source": [
    "# sort students by second letter using a lambda function\n",
    "sorted(names, key=lambda name: name[1])"
   ]
  }
 ],
 "metadata": {
  "interpreter": {
   "hash": "c931f5753cb3acf1f4642c0cfb5a159d24101420bc9fe73ae8953710c0fa058b"
  },
  "kernelspec": {
   "display_name": "Python 3.10.4 64-bit",
   "language": "python",
   "name": "python3"
  },
  "language_info": {
   "codemirror_mode": {
    "name": "ipython",
    "version": 3
   },
   "file_extension": ".py",
   "mimetype": "text/x-python",
   "name": "python",
   "nbconvert_exporter": "python",
   "pygments_lexer": "ipython3",
   "version": "3.10.4"
  },
  "orig_nbformat": 4
 },
 "nbformat": 4,
 "nbformat_minor": 2
}
