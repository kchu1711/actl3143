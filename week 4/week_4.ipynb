{
 "cells": [
  {
   "cell_type": "markdown",
   "metadata": {},
   "source": [
    "# Network Architectures for Tabular Data"
   ]
  },
  {
   "cell_type": "markdown",
   "metadata": {},
   "source": [
    "## Load Packages"
   ]
  },
  {
   "cell_type": "code",
   "execution_count": 44,
   "metadata": {},
   "outputs": [],
   "source": [
    "import matplotlib.pyplot as plt\n",
    "import numpy as np\n",
    "import pandas as pd\n",
    "import seaborn as sns\n",
    "import tensorflow as tf\n",
    "\n",
    "from tensorflow.keras.models import Sequential\n",
    "from tensorflow.keras.layers import Dense\n",
    "from tensorflow.keras.callbacks import EarlyStopping\n",
    "\n",
    "from sklearn.model_selection import train_test_split\n",
    "from sklearn.compose import make_column_transformer\n",
    "from sklearn.pipeline import make_pipeline\n",
    "from sklearn.preprocessing import OneHotEncoder, StandardScaler"
   ]
  },
  {
   "cell_type": "markdown",
   "metadata": {},
   "source": [
    "## Ordinal Variables"
   ]
  },
  {
   "cell_type": "markdown",
   "metadata": {},
   "source": [
    "### Load in the data"
   ]
  },
  {
   "cell_type": "code",
   "execution_count": 4,
   "metadata": {},
   "outputs": [
    {
     "data": {
      "text/html": [
       "<div>\n",
       "<style scoped>\n",
       "    .dataframe tbody tr th:only-of-type {\n",
       "        vertical-align: middle;\n",
       "    }\n",
       "\n",
       "    .dataframe tbody tr th {\n",
       "        vertical-align: top;\n",
       "    }\n",
       "\n",
       "    .dataframe thead th {\n",
       "        text-align: right;\n",
       "    }\n",
       "</style>\n",
       "<table border=\"1\" class=\"dataframe\">\n",
       "  <thead>\n",
       "    <tr style=\"text-align: right;\">\n",
       "      <th></th>\n",
       "      <th>ClaimNb</th>\n",
       "      <th>Exposure</th>\n",
       "      <th>Area</th>\n",
       "      <th>VehPower</th>\n",
       "      <th>VehAge</th>\n",
       "      <th>DrivAge</th>\n",
       "      <th>BonusMalus</th>\n",
       "      <th>VehBrand</th>\n",
       "      <th>VehGas</th>\n",
       "      <th>Density</th>\n",
       "      <th>Region</th>\n",
       "    </tr>\n",
       "  </thead>\n",
       "  <tbody>\n",
       "    <tr>\n",
       "      <th>5835</th>\n",
       "      <td>1.0</td>\n",
       "      <td>1.0</td>\n",
       "      <td>D</td>\n",
       "      <td>6.0</td>\n",
       "      <td>1.0</td>\n",
       "      <td>70.0</td>\n",
       "      <td>50.0</td>\n",
       "      <td>B5</td>\n",
       "      <td>Diesel</td>\n",
       "      <td>634.0</td>\n",
       "      <td>R53</td>\n",
       "    </tr>\n",
       "    <tr>\n",
       "      <th>24702</th>\n",
       "      <td>0.0</td>\n",
       "      <td>1.0</td>\n",
       "      <td>A</td>\n",
       "      <td>7.0</td>\n",
       "      <td>8.0</td>\n",
       "      <td>60.0</td>\n",
       "      <td>50.0</td>\n",
       "      <td>B2</td>\n",
       "      <td>Regular</td>\n",
       "      <td>49.0</td>\n",
       "      <td>R24</td>\n",
       "    </tr>\n",
       "    <tr>\n",
       "      <th>12735</th>\n",
       "      <td>0.0</td>\n",
       "      <td>1.0</td>\n",
       "      <td>B</td>\n",
       "      <td>7.0</td>\n",
       "      <td>3.0</td>\n",
       "      <td>54.0</td>\n",
       "      <td>50.0</td>\n",
       "      <td>B4</td>\n",
       "      <td>Regular</td>\n",
       "      <td>57.0</td>\n",
       "      <td>R24</td>\n",
       "    </tr>\n",
       "  </tbody>\n",
       "</table>\n",
       "</div>"
      ],
      "text/plain": [
       "       ClaimNb  Exposure Area  VehPower  VehAge  DrivAge  BonusMalus VehBrand  \\\n",
       "5835       1.0       1.0    D       6.0     1.0     70.0        50.0       B5   \n",
       "24702      0.0       1.0    A       7.0     8.0     60.0        50.0       B2   \n",
       "12735      0.0       1.0    B       7.0     3.0     54.0        50.0       B4   \n",
       "\n",
       "        VehGas  Density Region  \n",
       "5835    Diesel    634.0    R53  \n",
       "24702  Regular     49.0    R24  \n",
       "12735  Regular     57.0    R24  "
      ]
     },
     "execution_count": 4,
     "metadata": {},
     "output_type": "execute_result"
    }
   ],
   "source": [
    "freq = pd.read_csv(\"french-motor.csv\").drop(\"IDpol\", axis=1).head(25_000)\n",
    "freq.sample(3)"
   ]
  },
  {
   "cell_type": "markdown",
   "metadata": {},
   "source": [
    "### Split into training and test sets"
   ]
  },
  {
   "cell_type": "code",
   "execution_count": 5,
   "metadata": {},
   "outputs": [],
   "source": [
    "X_train, X_test, y_train, y_test = train_test_split(\n",
    "  freq.drop(\"ClaimNb\", axis=1), freq[\"ClaimNb\"], random_state=2022)\n",
    "\n",
    "X_train = X_train.reset_index(drop=True) # Index starts at 0 again.\n",
    "X_test = X_test.reset_index(drop=True)"
   ]
  },
  {
   "cell_type": "markdown",
   "metadata": {},
   "source": [
    "### Ordinal & binary categories"
   ]
  },
  {
   "cell_type": "code",
   "execution_count": 16,
   "metadata": {},
   "outputs": [
    {
     "data": {
      "text/plain": [
       "[array(['A', 'B', 'C', 'D', 'E', 'F'], dtype=object),\n",
       " array(['Diesel', 'Regular'], dtype=object)]"
      ]
     },
     "execution_count": 16,
     "metadata": {},
     "output_type": "execute_result"
    }
   ],
   "source": [
    "# Using OrdinalEncoder to encode categorical features to an integer array\n",
    "from sklearn.preprocessing import OrdinalEncoder\n",
    "oe = OrdinalEncoder()\n",
    "oe.fit(X_train[[\"Area\", \"VehGas\"]])\n",
    "oe.categories_"
   ]
  },
  {
   "cell_type": "code",
   "execution_count": 17,
   "metadata": {},
   "outputs": [
    {
     "name": "stdout",
     "output_type": "stream",
     "text": [
      "The Area value A gets turned into 0.\n",
      "The Area value B gets turned into 1.\n",
      "The Area value C gets turned into 2.\n",
      "The Area value D gets turned into 3.\n",
      "The Area value E gets turned into 4.\n",
      "The Area value F gets turned into 5.\n"
     ]
    }
   ],
   "source": [
    "# To demonstrate the effect of the OrdinalEncoder and what values the features have been encoded to\n",
    "for i, area in enumerate(oe.categories_[0]):\n",
    "    print(f\"The Area value {area} gets turned into {i}.\")"
   ]
  },
  {
   "cell_type": "code",
   "execution_count": 19,
   "metadata": {},
   "outputs": [],
   "source": [
    "X_train_ord = oe.transform(X_train[[\"Area\", \"VehGas\"]])\n",
    "X_test_ord = oe.transform(X_test[[\"Area\", \"VehGas\"]])"
   ]
  },
  {
   "cell_type": "code",
   "execution_count": 18,
   "metadata": {},
   "outputs": [],
   "source": [
    "# Apply the OrdinalEncoder to the training and test sets\n",
    "ct = make_column_transformer(\n",
    "  (OrdinalEncoder(), [\"Area\", \"VehGas\"]),\n",
    "  (\"drop\", [\"VehBrand\", \"Region\"]),\n",
    "  remainder=StandardScaler()\n",
    ")\n",
    "X_train_ct = ct.fit_transform(X_train)"
   ]
  },
  {
   "cell_type": "markdown",
   "metadata": {},
   "source": [
    "## Categorical Variables and Entity Embeddings\n",
    "Embedding is a mapping of a categorical variable into an n-dimensional vector. The matrix allows us to discover non-linear relationships.\n"
   ]
  },
  {
   "cell_type": "markdown",
   "metadata": {},
   "source": [
    "### 1 categorical variable"
   ]
  },
  {
   "cell_type": "code",
   "execution_count": 9,
   "metadata": {},
   "outputs": [
    {
     "name": "stdout",
     "output_type": "stream",
     "text": [
      "The Region value R11 gets turned into 0.\n",
      "The Region value R21 gets turned into 1.\n",
      "The Region value R22 gets turned into 2.\n"
     ]
    }
   ],
   "source": [
    "oe = OrdinalEncoder()\n",
    "X_train_reg = oe.fit_transform(X_train[[\"Region\"]])\n",
    "X_test_reg = oe.transform(X_test[[\"Region\"]])\n",
    "\n",
    "for i, reg in enumerate(oe.categories_[0][:3]):\n",
    "  print(f\"The Region value {reg} gets turned into {i}.\")"
   ]
  },
  {
   "cell_type": "code",
   "execution_count": 10,
   "metadata": {},
   "outputs": [
    {
     "name": "stdout",
     "output_type": "stream",
     "text": [
      "Epoch 2: early stopping\n"
     ]
    },
    {
     "data": {
      "text/plain": [
       "0.7615119814872742"
      ]
     },
     "execution_count": 10,
     "metadata": {},
     "output_type": "execute_result"
    }
   ],
   "source": [
    "# Create the model\n",
    "from tensorflow.keras.layers import Embedding\n",
    "NUM_REGIONS = len(np.unique(X_train[[\"Region\"]]))\n",
    "\n",
    "tf.random.set_seed(12)\n",
    "model = Sequential([\n",
    "  Embedding(input_dim=NUM_REGIONS, output_dim=2),\n",
    "  Dense(1, activation=\"exponential\")\n",
    "])\n",
    "\n",
    "model.compile(optimizer=\"adam\", loss=\"poisson\")\n",
    "\n",
    "# Fitting the model\n",
    "es = EarlyStopping(verbose=True)\n",
    "hist = model.fit(X_train_reg, y_train, epochs=100, verbose=False,\n",
    "    validation_split=0.2, callbacks=[es])\n",
    "hist.history[\"val_loss\"][-1]"
   ]
  },
  {
   "cell_type": "code",
   "execution_count": 11,
   "metadata": {},
   "outputs": [
    {
     "data": {
      "text/plain": [
       "array([[ 0.07579127, -0.09698265],\n",
       "       [-0.02545219,  0.02037343],\n",
       "       [-0.02193114,  0.02019609],\n",
       "       [ 0.10964777, -0.07145162],\n",
       "       [ 0.28104314, -0.35352397],\n",
       "       [ 0.24430592, -0.22409698],\n",
       "       [ 0.20545132, -0.25034478],\n",
       "       [-0.08415247,  0.1411713 ],\n",
       "       [ 0.39271775, -0.317791  ],\n",
       "       [-0.01779692, -0.03396926],\n",
       "       [ 0.05147856, -0.10029511],\n",
       "       [ 0.43893147, -0.37886578],\n",
       "       [ 0.21585901, -0.2490051 ],\n",
       "       [ 0.37309232, -0.4300747 ],\n",
       "       [-0.06571068,  0.02424351],\n",
       "       [-0.04966045,  0.07198226],\n",
       "       [ 0.17270812, -0.25676844],\n",
       "       [ 0.32889083, -0.31970406],\n",
       "       [ 0.15872598, -0.11443847],\n",
       "       [-0.0698033 ,  0.03172505],\n",
       "       [-0.04183149,  0.07438329],\n",
       "       [-0.15571742,  0.06051371]], dtype=float32)"
      ]
     },
     "execution_count": 11,
     "metadata": {},
     "output_type": "execute_result"
    }
   ],
   "source": [
    "# Embedding Layer\n",
    "model.layers[0].get_weights()[0]"
   ]
  },
  {
   "cell_type": "code",
   "execution_count": 12,
   "metadata": {},
   "outputs": [
    {
     "data": {
      "image/png": "[encoded data removed]",
      "text/plain": [
       "<Figure size 432x288 with 1 Axes>"
      ]
     },
     "metadata": {
      "needs_background": "light"
     },
     "output_type": "display_data"
    }
   ],
   "source": [
    "# plotting the embeddings\n",
    "points = model.layers[0].get_weights()[0]\n",
    "plt.scatter(points[:,0], points[:,1])\n",
    "for i in range(NUM_REGIONS):\n",
    "  plt.text(points[i,0]+0.01, points[i,1] , s=oe.categories_[0][i])"
   ]
  },
  {
   "cell_type": "markdown",
   "metadata": {},
   "source": [
    "Desired structure - embeddings + other inputs\n",
    "\n",
    "<img src = \"Embeddings & other inputs.PNG\" width=\"500\"/> \n",
    "\n",
    "This cannot be done with Sequential models..."
   ]
  },
  {
   "cell_type": "markdown",
   "metadata": {},
   "source": [
    "## Keras' Functional API"
   ]
  },
  {
   "cell_type": "code",
   "execution_count": 13,
   "metadata": {},
   "outputs": [],
   "source": [
    "# Packages required\n",
    "from tensorflow.keras.models import Model\n",
    "from tensorflow.keras.layers import Input"
   ]
  },
  {
   "cell_type": "markdown",
   "metadata": {},
   "source": [
    "### Converting Sequential models"
   ]
  },
  {
   "cell_type": "code",
   "execution_count": 20,
   "metadata": {},
   "outputs": [
    {
     "data": {
      "text/plain": [
       "0.7956936359405518"
      ]
     },
     "execution_count": 20,
     "metadata": {},
     "output_type": "execute_result"
    }
   ],
   "source": [
    "# Method 1 to create model - sequential\n",
    "tf.random.set_seed(12)\n",
    "\n",
    "model = Sequential([\n",
    "  Dense(30, \"relu\"),\n",
    "  Dense(1, \"exponential\")\n",
    "])\n",
    "\n",
    "model.compile(\n",
    "  optimizer=\"adam\",\n",
    "  loss=\"poisson\")\n",
    "\n",
    "hist = model.fit(\n",
    "  X_train_ord, y_train,\n",
    "  epochs=1, verbose=0,\n",
    "  validation_split=0.2)\n",
    "hist.history[\"val_loss\"][-1]"
   ]
  },
  {
   "cell_type": "code",
   "execution_count": 21,
   "metadata": {},
   "outputs": [
    {
     "data": {
      "text/plain": [
       "0.7956936359405518"
      ]
     },
     "execution_count": 21,
     "metadata": {},
     "output_type": "execute_result"
    }
   ],
   "source": [
    "# Method 2 to create model - inputs and outputs\n",
    "tf.random.set_seed(12)\n",
    "\n",
    "inputs = Input(shape=(2,))\n",
    "x = Dense(30, \"relu\")(inputs)\n",
    "out = Dense(1, \"exponential\")(x)\n",
    "model = Model(inputs, out)\n",
    "\n",
    "model.compile(\n",
    "  optimizer=\"adam\",\n",
    "  loss=\"poisson\")\n",
    "\n",
    "hist = model.fit(\n",
    "  X_train_ord, y_train,\n",
    "  epochs=1, verbose=0,\n",
    "  validation_split=0.2)\n",
    "hist.history[\"val_loss\"][-1]"
   ]
  },
  {
   "cell_type": "markdown",
   "metadata": {},
   "source": [
    "## Wide and Deep Network Architecture"
   ]
  },
  {
   "cell_type": "markdown",
   "metadata": {},
   "source": [
    "<img src = \"Wide and Deep Network.PNG\" width=\"200\"/>"
   ]
  },
  {
   "cell_type": "code",
   "execution_count": 25,
   "metadata": {},
   "outputs": [],
   "source": [
    "from tensorflow.keras.layers \\\n",
    "    import Concatenate\n",
    "\n",
    "input_ = Input(shape=X_train.shape[1:], name=\"input\")\n",
    "hidden1 = Dense(30, activation=\"relu\", name=\"hidden1\")(input_)\n",
    "hidden2 = Dense(30, activation=\"relu\", name=\"hidden2\")(hidden1)\n",
    "concat = Concatenate(name=\"combined\")([input_, hidden2])\n",
    "output = Dense(1, name=\"output\")(concat)\n",
    "model = Model(inputs=[input_], outputs=[output])"
   ]
  },
  {
   "cell_type": "code",
   "execution_count": 35,
   "metadata": {},
   "outputs": [
    {
     "name": "stdout",
     "output_type": "stream",
     "text": [
      "You must install pydot (`pip install pydot`) and install graphviz (see instructions at https://graphviz.gitlab.io/download/) for plot_model/model_to_dot to work.\n"
     ]
    }
   ],
   "source": [
    "# Inspect the model\n",
    "from tensorflow.keras.utils import plot_model\n",
    "plot_model(model)"
   ]
  },
  {
   "cell_type": "code",
   "execution_count": 28,
   "metadata": {},
   "outputs": [
    {
     "name": "stdout",
     "output_type": "stream",
     "text": [
      "Model: \"model_2\"\n",
      "___________________________________________________________________________\n",
      " Layer (type)           Output Shape     Param #  Connected to             \n",
      "===========================================================================\n",
      " input (InputLayer)     [(None, 10)]     0        []                       \n",
      "                                                                           \n",
      " hidden1 (Dense)        (None, 30)       330      ['input[0][0]']          \n",
      "                                                                           \n",
      " hidden2 (Dense)        (None, 30)       930      ['hidden1[0][0]']        \n",
      "                                                                           \n",
      " combined (Concatenate)  (None, 40)      0        ['input[0][0]',          \n",
      "                                                   'hidden2[0][0]']        \n",
      "                                                                           \n",
      " output (Dense)         (None, 1)        41       ['combined[0][0]']       \n",
      "                                                                           \n",
      "===========================================================================\n",
      "Total params: 1,301\n",
      "Trainable params: 1,301\n",
      "Non-trainable params: 0\n",
      "___________________________________________________________________________\n"
     ]
    }
   ],
   "source": [
    "model.summary(line_length=75)"
   ]
  },
  {
   "cell_type": "markdown",
   "metadata": {},
   "source": [
    "# French Motor Dataset with Embeddings"
   ]
  },
  {
   "cell_type": "markdown",
   "metadata": {},
   "source": [
    "## Pre-process the inputs"
   ]
  },
  {
   "cell_type": "code",
   "execution_count": null,
   "metadata": {},
   "outputs": [],
   "source": [
    "# Transform the categorical variables to integers\n",
    "NUM_BRANDS, NUM_REGIONS = X_train.nunique()[[\"VehBrand\", \"Region\"]]\n",
    "\n",
    "ct = make_column_transformer(\n",
    "  (OrdinalEncoder(), [\"VehBrand\", \"Region\", \"Area\", \"VehGas\"]),\n",
    "  remainder=StandardScaler()\n",
    ")\n",
    "\n",
    "X_train_ct = ct.fit_transform(X_train)\n",
    "X_test_ct = ct.transform(X_test)"
   ]
  },
  {
   "cell_type": "code",
   "execution_count": null,
   "metadata": {},
   "outputs": [],
   "source": [
    "# Split the brand and region data apart from the rest\n",
    "X_train_brand = X_train_ct[:,0]; X_test_brand = X_test_ct[:,0]\n",
    "X_train_region = X_train_ct[:,1]; X_test_region = X_test_ct[:,1]\n",
    "X_train_rest = X_train_ct[:,2:]; X_test_rest = X_test_ct[:,2:]"
   ]
  },
  {
   "cell_type": "markdown",
   "metadata": {},
   "source": [
    "## Organise the inputs"
   ]
  },
  {
   "cell_type": "code",
   "execution_count": null,
   "metadata": {},
   "outputs": [],
   "source": [
    "# Make a Keras Input for: vehical brand, region and others\n",
    "vehBrand = Input(shape=(1,), name=\"vehBrand\")\n",
    "region = Input(shape=(1,), name=\"region\")\n",
    "otherInputs = Input(shape=X_train_rest.shape[1:], name=\"otherInputs\")"
   ]
  },
  {
   "cell_type": "code",
   "execution_count": null,
   "metadata": {},
   "outputs": [],
   "source": [
    "# Create embeddings and join them with the other inputs.\n",
    "from tensorflow.keras.layers import Reshape\n",
    "\n",
    "tf.random.set_seed(1337)\n",
    "vehBrandEE = Embedding(input_dim=NUM_BRANDS, output_dim=2,\n",
    "    name=\"vehBrandEE\")(vehBrand)\n",
    "vehBrandEE = Reshape(target_shape=(2,))(vehBrandEE)\n",
    "\n",
    "regionEE = Embedding(input_dim=NUM_REGIONS, output_dim=2,\n",
    "    name=\"regionEE\")(region)\n",
    "regionEE = Reshape(target_shape=(2,))(regionEE)\n",
    "\n",
    "x = Concatenate(name=\"combined\")([vehBrandEE, regionEE, otherInputs])"
   ]
  },
  {
   "cell_type": "markdown",
   "metadata": {},
   "source": [
    "### Complete the model and fit it"
   ]
  },
  {
   "cell_type": "code",
   "execution_count": null,
   "metadata": {},
   "outputs": [
    {
     "data": {
      "text/plain": [
       "0.6861889958381653"
      ]
     },
     "execution_count": 42,
     "metadata": {},
     "output_type": "execute_result"
    }
   ],
   "source": [
    "x = Dense(30, \"relu\", name=\"hidden\")(x)\n",
    "out = Dense(1, \"exponential\", name=\"out\")(x)\n",
    "\n",
    "model = Model([vehBrand, region, otherInputs], out)\n",
    "model.compile(optimizer=\"adam\", loss=\"poisson\")\n",
    "\n",
    "hist = model.fit((X_train_brand, X_train_region, X_train_rest),\n",
    "    y_train, epochs=100, verbose=0,\n",
    "    callbacks=[EarlyStopping(patience=5)], validation_split=0.2)\n",
    "np.min(hist.history[\"val_loss\"])"
   ]
  },
  {
   "cell_type": "markdown",
   "metadata": {},
   "source": [
    "### Plotting this model"
   ]
  },
  {
   "cell_type": "code",
   "execution_count": null,
   "metadata": {},
   "outputs": [
    {
     "name": "stdout",
     "output_type": "stream",
     "text": [
      "You must install pydot (`pip install pydot`) and install graphviz (see instructions at https://graphviz.gitlab.io/download/) for plot_model/model_to_dot to work.\n"
     ]
    }
   ],
   "source": [
    "plot_model(model)"
   ]
  }
 ],
 "metadata": {
  "kernelspec": {
   "display_name": "Python 3.8.5 64-bit",
   "language": "python",
   "name": "python3"
  },
  "language_info": {
   "codemirror_mode": {
    "name": "ipython",
    "version": 3
   },
   "file_extension": ".py",
   "mimetype": "text/x-python",
   "name": "python",
   "nbconvert_exporter": "python",
   "pygments_lexer": "ipython3",
   "version": "3.8.5"
  },
  "orig_nbformat": 4,
  "vscode": {
   "interpreter": {
    "hash": "9c3f32f0e3a6954989d0df9c4a056f706f920da1328c651fc842d13f2f82bb3f"
   }
  }
 },
 "nbformat": 4,
 "nbformat_minor": 2
}
