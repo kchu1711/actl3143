{
 "cells": [
  {
   "cell_type": "markdown",
   "metadata": {},
   "source": [
    "# Network Architectures for Tabular Data"
   ]
  },
  {
   "cell_type": "markdown",
   "metadata": {},
   "source": [
    "## Load Packages"
   ]
  },
  {
   "cell_type": "code",
   "execution_count": 1,
   "metadata": {},
   "outputs": [],
   "source": [
    "import matplotlib.pyplot as plt\n",
    "import numpy as np\n",
    "import pandas as pd\n",
    "import seaborn as sns\n",
    "import tensorflow as tf\n",
    "\n",
    "from tensorflow.keras.models import Sequential\n",
    "from tensorflow.keras.layers import Dense\n",
    "from tensorflow.keras.callbacks import EarlyStopping\n",
    "\n",
    "from sklearn.model_selection import train_test_split\n",
    "from sklearn.compose import make_column_transformer\n",
    "from sklearn.pipeline import make_pipeline\n",
    "from sklearn.preprocessing import OneHotEncoder, StandardScaler"
   ]
  },
  {
   "cell_type": "markdown",
   "metadata": {},
   "source": [
    "## Ordinal Variables"
   ]
  },
  {
   "cell_type": "markdown",
   "metadata": {},
   "source": [
    "### Load in the data"
   ]
  },
  {
   "cell_type": "code",
   "execution_count": 2,
   "metadata": {},
   "outputs": [
    {
     "data": {
      "text/html": [
       "<div>\n",
       "<style scoped>\n",
       "    .dataframe tbody tr th:only-of-type {\n",
       "        vertical-align: middle;\n",
       "    }\n",
       "\n",
       "    .dataframe tbody tr th {\n",
       "        vertical-align: top;\n",
       "    }\n",
       "\n",
       "    .dataframe thead th {\n",
       "        text-align: right;\n",
       "    }\n",
       "</style>\n",
       "<table border=\"1\" class=\"dataframe\">\n",
       "  <thead>\n",
       "    <tr style=\"text-align: right;\">\n",
       "      <th></th>\n",
       "      <th>ClaimNb</th>\n",
       "      <th>Exposure</th>\n",
       "      <th>Area</th>\n",
       "      <th>VehPower</th>\n",
       "      <th>VehAge</th>\n",
       "      <th>DrivAge</th>\n",
       "      <th>BonusMalus</th>\n",
       "      <th>VehBrand</th>\n",
       "      <th>VehGas</th>\n",
       "      <th>Density</th>\n",
       "      <th>Region</th>\n",
       "    </tr>\n",
       "  </thead>\n",
       "  <tbody>\n",
       "    <tr>\n",
       "      <th>17834</th>\n",
       "      <td>0.0</td>\n",
       "      <td>0.12</td>\n",
       "      <td>C</td>\n",
       "      <td>6.0</td>\n",
       "      <td>10.0</td>\n",
       "      <td>61.0</td>\n",
       "      <td>50.0</td>\n",
       "      <td>B2</td>\n",
       "      <td>Diesel</td>\n",
       "      <td>392.0</td>\n",
       "      <td>R82</td>\n",
       "    </tr>\n",
       "    <tr>\n",
       "      <th>13942</th>\n",
       "      <td>0.0</td>\n",
       "      <td>0.02</td>\n",
       "      <td>D</td>\n",
       "      <td>6.0</td>\n",
       "      <td>6.0</td>\n",
       "      <td>61.0</td>\n",
       "      <td>50.0</td>\n",
       "      <td>B2</td>\n",
       "      <td>Diesel</td>\n",
       "      <td>798.0</td>\n",
       "      <td>R54</td>\n",
       "    </tr>\n",
       "    <tr>\n",
       "      <th>3084</th>\n",
       "      <td>1.0</td>\n",
       "      <td>0.48</td>\n",
       "      <td>D</td>\n",
       "      <td>6.0</td>\n",
       "      <td>1.0</td>\n",
       "      <td>41.0</td>\n",
       "      <td>57.0</td>\n",
       "      <td>B12</td>\n",
       "      <td>Diesel</td>\n",
       "      <td>720.0</td>\n",
       "      <td>R73</td>\n",
       "    </tr>\n",
       "  </tbody>\n",
       "</table>\n",
       "</div>"
      ],
      "text/plain": [
       "       ClaimNb  Exposure Area  VehPower  VehAge  DrivAge  BonusMalus VehBrand  \\\n",
       "17834      0.0      0.12    C       6.0    10.0     61.0        50.0       B2   \n",
       "13942      0.0      0.02    D       6.0     6.0     61.0        50.0       B2   \n",
       "3084       1.0      0.48    D       6.0     1.0     41.0        57.0      B12   \n",
       "\n",
       "       VehGas  Density Region  \n",
       "17834  Diesel    392.0    R82  \n",
       "13942  Diesel    798.0    R54  \n",
       "3084   Diesel    720.0    R73  "
      ]
     },
     "execution_count": 2,
     "metadata": {},
     "output_type": "execute_result"
    }
   ],
   "source": [
    "freq = pd.read_csv(\"french-motor.csv\").drop(\"IDpol\", axis=1).head(25_000)\n",
    "freq.sample(3)"
   ]
  },
  {
   "cell_type": "markdown",
   "metadata": {},
   "source": [
    "### Split into training and test sets"
   ]
  },
  {
   "cell_type": "code",
   "execution_count": 3,
   "metadata": {},
   "outputs": [],
   "source": [
    "X_train, X_test, y_train, y_test = train_test_split(\n",
    "  freq.drop(\"ClaimNb\", axis=1), freq[\"ClaimNb\"], random_state=2022)\n",
    "\n",
    "X_train = X_train.reset_index(drop=True) # Index starts at 0 again.\n",
    "X_test = X_test.reset_index(drop=True)"
   ]
  },
  {
   "cell_type": "markdown",
   "metadata": {},
   "source": [
    "### Ordinal & binary categories"
   ]
  },
  {
   "cell_type": "code",
   "execution_count": 4,
   "metadata": {},
   "outputs": [
    {
     "data": {
      "text/plain": [
       "[array(['A', 'B', 'C', 'D', 'E', 'F'], dtype=object),\n",
       " array(['Diesel', 'Regular'], dtype=object)]"
      ]
     },
     "execution_count": 4,
     "metadata": {},
     "output_type": "execute_result"
    }
   ],
   "source": [
    "# Using OrdinalEncoder to encode categorical features to an integer array\n",
    "from sklearn.preprocessing import OrdinalEncoder\n",
    "oe = OrdinalEncoder()\n",
    "oe.fit(X_train[[\"Area\", \"VehGas\"]])\n",
    "oe.categories_"
   ]
  },
  {
   "cell_type": "code",
   "execution_count": 5,
   "metadata": {},
   "outputs": [
    {
     "name": "stdout",
     "output_type": "stream",
     "text": [
      "The Area value A gets turned into 0.\n",
      "The Area value B gets turned into 1.\n",
      "The Area value C gets turned into 2.\n",
      "The Area value D gets turned into 3.\n",
      "The Area value E gets turned into 4.\n",
      "The Area value F gets turned into 5.\n"
     ]
    }
   ],
   "source": [
    "# To demonstrate the effect of the OrdinalEncoder and what values the features have been encoded to\n",
    "for i, area in enumerate(oe.categories_[0]):\n",
    "    print(f\"The Area value {area} gets turned into {i}.\")"
   ]
  },
  {
   "cell_type": "code",
   "execution_count": 6,
   "metadata": {},
   "outputs": [],
   "source": [
    "X_train_ord = oe.transform(X_train[[\"Area\", \"VehGas\"]])\n",
    "X_test_ord = oe.transform(X_test[[\"Area\", \"VehGas\"]])"
   ]
  },
  {
   "cell_type": "code",
   "execution_count": 7,
   "metadata": {},
   "outputs": [],
   "source": [
    "# Apply the OrdinalEncoder to the training and test sets\n",
    "ct = make_column_transformer(\n",
    "  (OrdinalEncoder(), [\"Area\", \"VehGas\"]),\n",
    "  (\"drop\", [\"VehBrand\", \"Region\"]),\n",
    "  remainder=StandardScaler()\n",
    ")\n",
    "X_train_ct = ct.fit_transform(X_train)"
   ]
  },
  {
   "cell_type": "markdown",
   "metadata": {},
   "source": [
    "## Categorical Variables and Entity Embeddings\n",
    "Embedding is a mapping of a categorical variable into an n-dimensional vector. The matrix allows us to discover non-linear relationships.\n"
   ]
  },
  {
   "cell_type": "markdown",
   "metadata": {},
   "source": [
    "### 1 categorical variable"
   ]
  },
  {
   "cell_type": "code",
   "execution_count": 8,
   "metadata": {},
   "outputs": [
    {
     "name": "stdout",
     "output_type": "stream",
     "text": [
      "The Region value R11 gets turned into 0.\n",
      "The Region value R21 gets turned into 1.\n",
      "The Region value R22 gets turned into 2.\n"
     ]
    }
   ],
   "source": [
    "oe = OrdinalEncoder()\n",
    "X_train_reg = oe.fit_transform(X_train[[\"Region\"]])\n",
    "X_test_reg = oe.transform(X_test[[\"Region\"]])\n",
    "\n",
    "for i, reg in enumerate(oe.categories_[0][:3]):\n",
    "  print(f\"The Region value {reg} gets turned into {i}.\")"
   ]
  },
  {
   "cell_type": "code",
   "execution_count": 9,
   "metadata": {},
   "outputs": [
    {
     "name": "stdout",
     "output_type": "stream",
     "text": [
      "Epoch 2: early stopping\n"
     ]
    },
    {
     "data": {
      "text/plain": [
       "0.7615119814872742"
      ]
     },
     "execution_count": 9,
     "metadata": {},
     "output_type": "execute_result"
    }
   ],
   "source": [
    "# Create the model\n",
    "from tensorflow.keras.layers import Embedding\n",
    "NUM_REGIONS = len(np.unique(X_train[[\"Region\"]]))\n",
    "\n",
    "tf.random.set_seed(12)\n",
    "model = Sequential([\n",
    "  Embedding(input_dim=NUM_REGIONS, output_dim=2),\n",
    "  Dense(1, activation=\"exponential\")\n",
    "])\n",
    "\n",
    "model.compile(optimizer=\"adam\", loss=\"poisson\")\n",
    "\n",
    "# Fitting the model\n",
    "es = EarlyStopping(verbose=True)\n",
    "hist = model.fit(X_train_reg, y_train, epochs=100, verbose=False,\n",
    "    validation_split=0.2, callbacks=[es])\n",
    "hist.history[\"val_loss\"][-1]"
   ]
  },
  {
   "cell_type": "code",
   "execution_count": 10,
   "metadata": {},
   "outputs": [
    {
     "data": {
      "text/plain": [
       "array([[ 0.07579127, -0.09698265],\n",
       "       [-0.02545219,  0.02037343],\n",
       "       [-0.02193114,  0.02019609],\n",
       "       [ 0.10964777, -0.07145162],\n",
       "       [ 0.28104314, -0.35352397],\n",
       "       [ 0.24430592, -0.22409698],\n",
       "       [ 0.20545132, -0.25034478],\n",
       "       [-0.08415247,  0.1411713 ],\n",
       "       [ 0.39271775, -0.317791  ],\n",
       "       [-0.01779692, -0.03396926],\n",
       "       [ 0.05147856, -0.10029511],\n",
       "       [ 0.43893147, -0.37886578],\n",
       "       [ 0.21585901, -0.2490051 ],\n",
       "       [ 0.37309232, -0.4300747 ],\n",
       "       [-0.06571068,  0.02424351],\n",
       "       [-0.04966045,  0.07198226],\n",
       "       [ 0.17270812, -0.25676844],\n",
       "       [ 0.32889083, -0.31970406],\n",
       "       [ 0.15872598, -0.11443847],\n",
       "       [-0.0698033 ,  0.03172505],\n",
       "       [-0.04183149,  0.07438329],\n",
       "       [-0.15571742,  0.06051371]], dtype=float32)"
      ]
     },
     "execution_count": 10,
     "metadata": {},
     "output_type": "execute_result"
    }
   ],
   "source": [
    "# Embedding Layer\n",
    "model.layers[0].get_weights()[0]"
   ]
  },
  {
   "cell_type": "code",
   "execution_count": 11,
   "metadata": {},
   "outputs": [
    {
     "data": {
      "image/png": "[encoded data removed]",
      "text/plain": [
       "<Figure size 432x288 with 1 Axes>"
      ]
     },
     "metadata": {
      "needs_background": "light"
     },
     "output_type": "display_data"
    }
   ],
   "source": [
    "# plotting the embeddings\n",
    "points = model.layers[0].get_weights()[0]\n",
    "plt.scatter(points[:,0], points[:,1])\n",
    "for i in range(NUM_REGIONS):\n",
    "  plt.text(points[i,0]+0.01, points[i,1] , s=oe.categories_[0][i])"
   ]
  },
  {
   "cell_type": "markdown",
   "metadata": {},
   "source": [
    "Desired structure - embeddings + other inputs\n",
    "\n",
    "<img src = \"Embeddings & other inputs.PNG\" width=\"500\"/> \n",
    "\n",
    "This cannot be done with Sequential models..."
   ]
  },
  {
   "cell_type": "markdown",
   "metadata": {},
   "source": [
    "## Keras' Functional API"
   ]
  },
  {
   "cell_type": "code",
   "execution_count": 12,
   "metadata": {},
   "outputs": [],
   "source": [
    "# Packages required\n",
    "from tensorflow.keras.models import Model\n",
    "from tensorflow.keras.layers import Input"
   ]
  },
  {
   "cell_type": "markdown",
   "metadata": {},
   "source": [
    "### Converting Sequential models"
   ]
  },
  {
   "cell_type": "code",
   "execution_count": 13,
   "metadata": {},
   "outputs": [
    {
     "data": {
      "text/plain": [
       "0.7956936359405518"
      ]
     },
     "execution_count": 13,
     "metadata": {},
     "output_type": "execute_result"
    }
   ],
   "source": [
    "# Method 1 to create model - sequential\n",
    "tf.random.set_seed(12)\n",
    "\n",
    "model = Sequential([\n",
    "  Dense(30, \"relu\"),\n",
    "  Dense(1, \"exponential\")\n",
    "])\n",
    "\n",
    "model.compile(\n",
    "  optimizer=\"adam\",\n",
    "  loss=\"poisson\")\n",
    "\n",
    "hist = model.fit(\n",
    "  X_train_ord, y_train,\n",
    "  epochs=1, verbose=0,\n",
    "  validation_split=0.2)\n",
    "hist.history[\"val_loss\"][-1]"
   ]
  },
  {
   "cell_type": "code",
   "execution_count": 14,
   "metadata": {},
   "outputs": [
    {
     "data": {
      "text/plain": [
       "0.7956936359405518"
      ]
     },
     "execution_count": 14,
     "metadata": {},
     "output_type": "execute_result"
    }
   ],
   "source": [
    "# Method 2 to create model - inputs and outputs\n",
    "tf.random.set_seed(12)\n",
    "\n",
    "inputs = Input(shape=(2,))\n",
    "x = Dense(30, \"relu\")(inputs)\n",
    "out = Dense(1, \"exponential\")(x)\n",
    "model = Model(inputs, out)\n",
    "\n",
    "model.compile(\n",
    "  optimizer=\"adam\",\n",
    "  loss=\"poisson\")\n",
    "\n",
    "hist = model.fit(\n",
    "  X_train_ord, y_train,\n",
    "  epochs=1, verbose=0,\n",
    "  validation_split=0.2)\n",
    "hist.history[\"val_loss\"][-1]"
   ]
  },
  {
   "cell_type": "markdown",
   "metadata": {},
   "source": [
    "## Wide and Deep Network Architecture"
   ]
  },
  {
   "cell_type": "markdown",
   "metadata": {},
   "source": [
    "<img src = \"Wide and Deep Network.PNG\" width=\"200\"/>"
   ]
  },
  {
   "cell_type": "code",
   "execution_count": 15,
   "metadata": {},
   "outputs": [],
   "source": [
    "from tensorflow.keras.layers \\\n",
    "    import Concatenate\n",
    "\n",
    "input_ = Input(shape=X_train.shape[1:], name=\"input\")\n",
    "hidden1 = Dense(30, activation=\"relu\", name=\"hidden1\")(input_)\n",
    "hidden2 = Dense(30, activation=\"relu\", name=\"hidden2\")(hidden1)\n",
    "concat = Concatenate(name=\"combined\")([input_, hidden2])\n",
    "output = Dense(1, name=\"output\")(concat)\n",
    "model = Model(inputs=[input_], outputs=[output])"
   ]
  },
  {
   "cell_type": "code",
   "execution_count": 16,
   "metadata": {},
   "outputs": [
    {
     "data": {
      "image/png": "[encoded data removed]",
      "text/plain": [
       "<IPython.core.display.Image object>"
      ]
     },
     "execution_count": 16,
     "metadata": {},
     "output_type": "execute_result"
    }
   ],
   "source": [
    "# Inspect the model\n",
    "from tensorflow.keras.utils import plot_model\n",
    "plot_model(model)"
   ]
  },
  {
   "cell_type": "code",
   "execution_count": 17,
   "metadata": {},
   "outputs": [
    {
     "name": "stdout",
     "output_type": "stream",
     "text": [
      "Model: \"model_1\"\n",
      "___________________________________________________________________________\n",
      " Layer (type)           Output Shape     Param #  Connected to             \n",
      "===========================================================================\n",
      " input (InputLayer)     [(None, 10)]     0        []                       \n",
      "                                                                           \n",
      " hidden1 (Dense)        (None, 30)       330      ['input[0][0]']          \n",
      "                                                                           \n",
      " hidden2 (Dense)        (None, 30)       930      ['hidden1[0][0]']        \n",
      "                                                                           \n",
      " combined (Concatenate)  (None, 40)      0        ['input[0][0]',          \n",
      "                                                   'hidden2[0][0]']        \n",
      "                                                                           \n",
      " output (Dense)         (None, 1)        41       ['combined[0][0]']       \n",
      "                                                                           \n",
      "===========================================================================\n",
      "Total params: 1,301\n",
      "Trainable params: 1,301\n",
      "Non-trainable params: 0\n",
      "___________________________________________________________________________\n"
     ]
    }
   ],
   "source": [
    "model.summary(line_length=75)"
   ]
  },
  {
   "cell_type": "markdown",
   "metadata": {},
   "source": [
    "## French Motor Dataset with Embeddings"
   ]
  },
  {
   "cell_type": "markdown",
   "metadata": {},
   "source": [
    "### Pre-process the inputs"
   ]
  },
  {
   "cell_type": "code",
   "execution_count": 18,
   "metadata": {},
   "outputs": [],
   "source": [
    "# Transform the categorical variables to integers\n",
    "NUM_BRANDS, NUM_REGIONS = X_train.nunique()[[\"VehBrand\", \"Region\"]]\n",
    "\n",
    "ct = make_column_transformer(\n",
    "  (OrdinalEncoder(), [\"VehBrand\", \"Region\", \"Area\", \"VehGas\"]),\n",
    "  remainder=StandardScaler()\n",
    ")\n",
    "\n",
    "X_train_ct = ct.fit_transform(X_train)\n",
    "X_test_ct = ct.transform(X_test)"
   ]
  },
  {
   "cell_type": "code",
   "execution_count": 19,
   "metadata": {},
   "outputs": [],
   "source": [
    "# Split the brand and region data apart from the rest\n",
    "X_train_brand = X_train_ct[:,0]; X_test_brand = X_test_ct[:,0]\n",
    "X_train_region = X_train_ct[:,1]; X_test_region = X_test_ct[:,1]\n",
    "X_train_rest = X_train_ct[:,2:]; X_test_rest = X_test_ct[:,2:]"
   ]
  },
  {
   "cell_type": "markdown",
   "metadata": {},
   "source": [
    "### Organise the inputs"
   ]
  },
  {
   "cell_type": "code",
   "execution_count": 20,
   "metadata": {},
   "outputs": [],
   "source": [
    "# Make a Keras Input for: vehical brand, region and others\n",
    "vehBrand = Input(shape=(1,), name=\"vehBrand\")\n",
    "region = Input(shape=(1,), name=\"region\")\n",
    "otherInputs = Input(shape=X_train_rest.shape[1:], name=\"otherInputs\")"
   ]
  },
  {
   "cell_type": "code",
   "execution_count": 21,
   "metadata": {},
   "outputs": [],
   "source": [
    "# Create embeddings and join them with the other inputs.\n",
    "from tensorflow.keras.layers import Reshape\n",
    "\n",
    "tf.random.set_seed(1337)\n",
    "vehBrandEE = Embedding(input_dim=NUM_BRANDS, output_dim=2,\n",
    "    name=\"vehBrandEE\")(vehBrand)\n",
    "vehBrandEE = Reshape(target_shape=(2,))(vehBrandEE)\n",
    "\n",
    "regionEE = Embedding(input_dim=NUM_REGIONS, output_dim=2,\n",
    "    name=\"regionEE\")(region)\n",
    "regionEE = Reshape(target_shape=(2,))(regionEE)\n",
    "\n",
    "x = Concatenate(name=\"combined\")([vehBrandEE, regionEE, otherInputs])"
   ]
  },
  {
   "cell_type": "markdown",
   "metadata": {},
   "source": [
    "### Complete the model and fit it"
   ]
  },
  {
   "cell_type": "code",
   "execution_count": 22,
   "metadata": {},
   "outputs": [
    {
     "data": {
      "text/plain": [
       "0.6861889958381653"
      ]
     },
     "execution_count": 22,
     "metadata": {},
     "output_type": "execute_result"
    }
   ],
   "source": [
    "x = Dense(30, \"relu\", name=\"hidden\")(x)\n",
    "out = Dense(1, \"exponential\", name=\"out\")(x)\n",
    "\n",
    "model = Model([vehBrand, region, otherInputs], out)\n",
    "model.compile(optimizer=\"adam\", loss=\"poisson\")\n",
    "\n",
    "hist = model.fit((X_train_brand, X_train_region, X_train_rest),\n",
    "    y_train, epochs=100, verbose=0,\n",
    "    callbacks=[EarlyStopping(patience=5)], validation_split=0.2)\n",
    "np.min(hist.history[\"val_loss\"])"
   ]
  },
  {
   "cell_type": "markdown",
   "metadata": {},
   "source": [
    "### Plotting this model"
   ]
  },
  {
   "cell_type": "code",
   "execution_count": 23,
   "metadata": {},
   "outputs": [
    {
     "data": {
      "image/png": "[encoded data removed]",
      "text/plain": [
       "<IPython.core.display.Image object>"
      ]
     },
     "execution_count": 23,
     "metadata": {},
     "output_type": "execute_result"
    }
   ],
   "source": [
    "plot_model(model)"
   ]
  },
  {
   "cell_type": "code",
   "execution_count": 24,
   "metadata": {},
   "outputs": [
    {
     "data": {
      "image/png": "[encoded data removed]",
      "text/plain": [
       "<IPython.core.display.Image object>"
      ]
     },
     "execution_count": 24,
     "metadata": {},
     "output_type": "execute_result"
    }
   ],
   "source": [
    "# Why we need to reshape\n",
    "plot_model(model, layer_range=(\"\", \"combined\"), show_shapes=True)"
   ]
  },
  {
   "cell_type": "markdown",
   "metadata": {},
   "source": [
    "### Slicing up one Input"
   ]
  },
  {
   "cell_type": "code",
   "execution_count": 25,
   "metadata": {},
   "outputs": [
    {
     "data": {
      "text/plain": [
       "0.6861889958381653"
      ]
     },
     "execution_count": 25,
     "metadata": {},
     "output_type": "execute_result"
    }
   ],
   "source": [
    "tf.random.set_seed(1337)\n",
    "inputs = Input(shape=(X_train_ct.shape[1],))\n",
    "\n",
    "vehBrandEE = Embedding(input_dim=NUM_BRANDS, output_dim=2, name=\"vehBrandEE\")(inputs[:,0])\n",
    "regionEE = Embedding(input_dim=NUM_REGIONS, output_dim=2, name=\"regionEE\")(inputs[:,1])\n",
    "\n",
    "x = Concatenate(name=\"combined\")([vehBrandEE, regionEE, inputs[:,2:]])\n",
    "x = Dense(30, \"relu\", name=\"hidden\")(x)\n",
    "out = Dense(1, \"exponential\", name=\"out\")(x)\n",
    "\n",
    "model = Model(inputs, out)\n",
    "model.compile(optimizer=\"adam\", loss=\"poisson\")\n",
    "\n",
    "hist = model.fit(X_train_ct, y_train, epochs=100, verbose=0, callbacks=[EarlyStopping(patience=5)], validation_split=0.2)\n",
    "np.min(hist.history[\"val_loss\"])"
   ]
  },
  {
   "cell_type": "code",
   "execution_count": 26,
   "metadata": {},
   "outputs": [
    {
     "data": {
      "image/png": "[encoded data removed]",
      "text/plain": [
       "<IPython.core.display.Image object>"
      ]
     },
     "execution_count": 26,
     "metadata": {},
     "output_type": "execute_result"
    }
   ],
   "source": [
    "plot_model(model, show_shapes=True)"
   ]
  },
  {
   "cell_type": "markdown",
   "metadata": {},
   "source": [
    "### Scale by Exposure"
   ]
  },
  {
   "cell_type": "markdown",
   "metadata": {},
   "source": [
    "We have $\\{(x_i,y_i)\\}_{i=1,...,n}$ for $x_i \\in \\mathbb{R}^{47}$ and $y_i \\in \\mathbb{N}_0$\n",
    "\n",
    "- **MODEL 1**: $Y_i$ ~ Poisson($\\lambda (x_i)$)\n",
    "\n",
    "    But the exposures are different for each policy. \n",
    "\n",
    "    $\\lambda (x_i)$ is the expected number of claims for the duration of policy i's contract\n",
    "\n",
    "\n",
    "- **MODEL 2**: $Y_i$ ~ Poisson($Exposure_i \\times \\lambda (x_i)$)\n",
    "    \n",
    "    $Exposure_i\\not \\in x_i$ \n",
    "    \n",
    "    $\\lambda(x_i)$ is the rate per year"
   ]
  },
  {
   "cell_type": "markdown",
   "metadata": {},
   "source": [
    "#### Just take continuous variables"
   ]
  },
  {
   "cell_type": "code",
   "execution_count": 27,
   "metadata": {},
   "outputs": [],
   "source": [
    "ct = make_column_transformer(\n",
    "  (\"passthrough\", [\"Exposure\"]),\n",
    "  (\"drop\", [\"VehBrand\", \"Region\", \"Area\", \"VehGas\"]),\n",
    "  remainder=StandardScaler()\n",
    ")\n",
    "X_train_ct = ct.fit_transform(X_train)\n",
    "X_test_ct = ct.transform(X_test)"
   ]
  },
  {
   "cell_type": "code",
   "execution_count": 28,
   "metadata": {},
   "outputs": [],
   "source": [
    "# split exposure apart from the rest\n",
    "X_train_exp = X_train_ct[:,0]; X_test_exp = X_test_ct[:,0]\n",
    "X_train_rest = X_train_ct[:,1:]; X_test_rest = X_test_ct[:,1:]"
   ]
  },
  {
   "cell_type": "code",
   "execution_count": 29,
   "metadata": {},
   "outputs": [],
   "source": [
    "# organise the inputs\n",
    "exposure = Input(shape=(1,), name=\"exposure\")\n",
    "otherInputs = Input(shape=X_train_rest.shape[1:], name=\"otherInputs\")"
   ]
  },
  {
   "cell_type": "code",
   "execution_count": 30,
   "metadata": {},
   "outputs": [
    {
     "ename": "KeyboardInterrupt",
     "evalue": "",
     "output_type": "error",
     "traceback": [
      "\u001b[1;31m---------------------------------------------------------------------------\u001b[0m",
      "\u001b[1;31mKeyboardInterrupt\u001b[0m                         Traceback (most recent call last)",
      "\u001b[1;32mc:\\Users\\kchu1\\Documents\\Coding\\actl3143\\week 4\\week_4.ipynb Cell 52'\u001b[0m in \u001b[0;36m<cell line: 15>\u001b[1;34m()\u001b[0m\n\u001b[0;32m     <a href='vscode-notebook-cell:/c%3A/Users/kchu1/Documents/Coding/actl3143/week%204/week_4.ipynb#ch0000051?line=11'>12</a>\u001b[0m model\u001b[39m.\u001b[39mcompile(optimizer\u001b[39m=\u001b[39m\u001b[39m\"\u001b[39m\u001b[39madam\u001b[39m\u001b[39m\"\u001b[39m, loss\u001b[39m=\u001b[39m\u001b[39m\"\u001b[39m\u001b[39mpoisson\u001b[39m\u001b[39m\"\u001b[39m)\n\u001b[0;32m     <a href='vscode-notebook-cell:/c%3A/Users/kchu1/Documents/Coding/actl3143/week%204/week_4.ipynb#ch0000051?line=13'>14</a>\u001b[0m es \u001b[39m=\u001b[39m EarlyStopping(patience\u001b[39m=\u001b[39m\u001b[39m10\u001b[39m, restore_best_weights\u001b[39m=\u001b[39m\u001b[39mTrue\u001b[39;00m, verbose\u001b[39m=\u001b[39m\u001b[39m1\u001b[39m)\n\u001b[1;32m---> <a href='vscode-notebook-cell:/c%3A/Users/kchu1/Documents/Coding/actl3143/week%204/week_4.ipynb#ch0000051?line=14'>15</a>\u001b[0m hist \u001b[39m=\u001b[39m model\u001b[39m.\u001b[39;49mfit((X_train_exp, X_train_rest), y_train, epochs\u001b[39m=\u001b[39;49m\u001b[39m100\u001b[39;49m, verbose\u001b[39m=\u001b[39;49m\u001b[39m0\u001b[39;49m, callbacks\u001b[39m=\u001b[39;49m[es], validation_split\u001b[39m=\u001b[39;49m\u001b[39m0.2\u001b[39;49m)\n\u001b[0;32m     <a href='vscode-notebook-cell:/c%3A/Users/kchu1/Documents/Coding/actl3143/week%204/week_4.ipynb#ch0000051?line=15'>16</a>\u001b[0m np\u001b[39m.\u001b[39mmin(hist\u001b[39m.\u001b[39mhistory[\u001b[39m\"\u001b[39m\u001b[39mval_loss\u001b[39m\u001b[39m\"\u001b[39m])\n",
      "File \u001b[1;32mc:\\Users\\kchu1\\Documents\\Coding\\.env\\lib\\site-packages\\keras\\utils\\traceback_utils.py:64\u001b[0m, in \u001b[0;36mfilter_traceback.<locals>.error_handler\u001b[1;34m(*args, **kwargs)\u001b[0m\n\u001b[0;32m     62\u001b[0m filtered_tb \u001b[39m=\u001b[39m \u001b[39mNone\u001b[39;00m\n\u001b[0;32m     63\u001b[0m \u001b[39mtry\u001b[39;00m:\n\u001b[1;32m---> 64\u001b[0m   \u001b[39mreturn\u001b[39;00m fn(\u001b[39m*\u001b[39;49margs, \u001b[39m*\u001b[39;49m\u001b[39m*\u001b[39;49mkwargs)\n\u001b[0;32m     65\u001b[0m \u001b[39mexcept\u001b[39;00m \u001b[39mException\u001b[39;00m \u001b[39mas\u001b[39;00m e:  \u001b[39m# pylint: disable=broad-except\u001b[39;00m\n\u001b[0;32m     66\u001b[0m   filtered_tb \u001b[39m=\u001b[39m _process_traceback_frames(e\u001b[39m.\u001b[39m__traceback__)\n",
      "File \u001b[1;32mc:\\Users\\kchu1\\Documents\\Coding\\.env\\lib\\site-packages\\keras\\engine\\training.py:1409\u001b[0m, in \u001b[0;36mModel.fit\u001b[1;34m(self, x, y, batch_size, epochs, verbose, callbacks, validation_split, validation_data, shuffle, class_weight, sample_weight, initial_epoch, steps_per_epoch, validation_steps, validation_batch_size, validation_freq, max_queue_size, workers, use_multiprocessing)\u001b[0m\n\u001b[0;32m   1402\u001b[0m \u001b[39mwith\u001b[39;00m tf\u001b[39m.\u001b[39mprofiler\u001b[39m.\u001b[39mexperimental\u001b[39m.\u001b[39mTrace(\n\u001b[0;32m   1403\u001b[0m     \u001b[39m'\u001b[39m\u001b[39mtrain\u001b[39m\u001b[39m'\u001b[39m,\n\u001b[0;32m   1404\u001b[0m     epoch_num\u001b[39m=\u001b[39mepoch,\n\u001b[0;32m   1405\u001b[0m     step_num\u001b[39m=\u001b[39mstep,\n\u001b[0;32m   1406\u001b[0m     batch_size\u001b[39m=\u001b[39mbatch_size,\n\u001b[0;32m   1407\u001b[0m     _r\u001b[39m=\u001b[39m\u001b[39m1\u001b[39m):\n\u001b[0;32m   1408\u001b[0m   callbacks\u001b[39m.\u001b[39mon_train_batch_begin(step)\n\u001b[1;32m-> 1409\u001b[0m   tmp_logs \u001b[39m=\u001b[39m \u001b[39mself\u001b[39;49m\u001b[39m.\u001b[39;49mtrain_function(iterator)\n\u001b[0;32m   1410\u001b[0m   \u001b[39mif\u001b[39;00m data_handler\u001b[39m.\u001b[39mshould_sync:\n\u001b[0;32m   1411\u001b[0m     context\u001b[39m.\u001b[39masync_wait()\n",
      "File \u001b[1;32mc:\\Users\\kchu1\\Documents\\Coding\\.env\\lib\\site-packages\\tensorflow\\python\\util\\traceback_utils.py:150\u001b[0m, in \u001b[0;36mfilter_traceback.<locals>.error_handler\u001b[1;34m(*args, **kwargs)\u001b[0m\n\u001b[0;32m    148\u001b[0m filtered_tb \u001b[39m=\u001b[39m \u001b[39mNone\u001b[39;00m\n\u001b[0;32m    149\u001b[0m \u001b[39mtry\u001b[39;00m:\n\u001b[1;32m--> 150\u001b[0m   \u001b[39mreturn\u001b[39;00m fn(\u001b[39m*\u001b[39;49margs, \u001b[39m*\u001b[39;49m\u001b[39m*\u001b[39;49mkwargs)\n\u001b[0;32m    151\u001b[0m \u001b[39mexcept\u001b[39;00m \u001b[39mException\u001b[39;00m \u001b[39mas\u001b[39;00m e:\n\u001b[0;32m    152\u001b[0m   filtered_tb \u001b[39m=\u001b[39m _process_traceback_frames(e\u001b[39m.\u001b[39m__traceback__)\n",
      "File \u001b[1;32mc:\\Users\\kchu1\\Documents\\Coding\\.env\\lib\\site-packages\\tensorflow\\python\\eager\\def_function.py:915\u001b[0m, in \u001b[0;36mFunction.__call__\u001b[1;34m(self, *args, **kwds)\u001b[0m\n\u001b[0;32m    912\u001b[0m compiler \u001b[39m=\u001b[39m \u001b[39m\"\u001b[39m\u001b[39mxla\u001b[39m\u001b[39m\"\u001b[39m \u001b[39mif\u001b[39;00m \u001b[39mself\u001b[39m\u001b[39m.\u001b[39m_jit_compile \u001b[39melse\u001b[39;00m \u001b[39m\"\u001b[39m\u001b[39mnonXla\u001b[39m\u001b[39m\"\u001b[39m\n\u001b[0;32m    914\u001b[0m \u001b[39mwith\u001b[39;00m OptionalXlaContext(\u001b[39mself\u001b[39m\u001b[39m.\u001b[39m_jit_compile):\n\u001b[1;32m--> 915\u001b[0m   result \u001b[39m=\u001b[39m \u001b[39mself\u001b[39;49m\u001b[39m.\u001b[39;49m_call(\u001b[39m*\u001b[39;49margs, \u001b[39m*\u001b[39;49m\u001b[39m*\u001b[39;49mkwds)\n\u001b[0;32m    917\u001b[0m new_tracing_count \u001b[39m=\u001b[39m \u001b[39mself\u001b[39m\u001b[39m.\u001b[39mexperimental_get_tracing_count()\n\u001b[0;32m    918\u001b[0m without_tracing \u001b[39m=\u001b[39m (tracing_count \u001b[39m==\u001b[39m new_tracing_count)\n",
      "File \u001b[1;32mc:\\Users\\kchu1\\Documents\\Coding\\.env\\lib\\site-packages\\tensorflow\\python\\eager\\def_function.py:947\u001b[0m, in \u001b[0;36mFunction._call\u001b[1;34m(self, *args, **kwds)\u001b[0m\n\u001b[0;32m    944\u001b[0m   \u001b[39mself\u001b[39m\u001b[39m.\u001b[39m_lock\u001b[39m.\u001b[39mrelease()\n\u001b[0;32m    945\u001b[0m   \u001b[39m# In this case we have created variables on the first call, so we run the\u001b[39;00m\n\u001b[0;32m    946\u001b[0m   \u001b[39m# defunned version which is guaranteed to never create variables.\u001b[39;00m\n\u001b[1;32m--> 947\u001b[0m   \u001b[39mreturn\u001b[39;00m \u001b[39mself\u001b[39;49m\u001b[39m.\u001b[39;49m_stateless_fn(\u001b[39m*\u001b[39;49margs, \u001b[39m*\u001b[39;49m\u001b[39m*\u001b[39;49mkwds)  \u001b[39m# pylint: disable=not-callable\u001b[39;00m\n\u001b[0;32m    948\u001b[0m \u001b[39melif\u001b[39;00m \u001b[39mself\u001b[39m\u001b[39m.\u001b[39m_stateful_fn \u001b[39mis\u001b[39;00m \u001b[39mnot\u001b[39;00m \u001b[39mNone\u001b[39;00m:\n\u001b[0;32m    949\u001b[0m   \u001b[39m# Release the lock early so that multiple threads can perform the call\u001b[39;00m\n\u001b[0;32m    950\u001b[0m   \u001b[39m# in parallel.\u001b[39;00m\n\u001b[0;32m    951\u001b[0m   \u001b[39mself\u001b[39m\u001b[39m.\u001b[39m_lock\u001b[39m.\u001b[39mrelease()\n",
      "File \u001b[1;32mc:\\Users\\kchu1\\Documents\\Coding\\.env\\lib\\site-packages\\tensorflow\\python\\eager\\function.py:2453\u001b[0m, in \u001b[0;36mFunction.__call__\u001b[1;34m(self, *args, **kwargs)\u001b[0m\n\u001b[0;32m   2450\u001b[0m \u001b[39mwith\u001b[39;00m \u001b[39mself\u001b[39m\u001b[39m.\u001b[39m_lock:\n\u001b[0;32m   2451\u001b[0m   (graph_function,\n\u001b[0;32m   2452\u001b[0m    filtered_flat_args) \u001b[39m=\u001b[39m \u001b[39mself\u001b[39m\u001b[39m.\u001b[39m_maybe_define_function(args, kwargs)\n\u001b[1;32m-> 2453\u001b[0m \u001b[39mreturn\u001b[39;00m graph_function\u001b[39m.\u001b[39;49m_call_flat(\n\u001b[0;32m   2454\u001b[0m     filtered_flat_args, captured_inputs\u001b[39m=\u001b[39;49mgraph_function\u001b[39m.\u001b[39;49mcaptured_inputs)\n",
      "File \u001b[1;32mc:\\Users\\kchu1\\Documents\\Coding\\.env\\lib\\site-packages\\tensorflow\\python\\eager\\function.py:1860\u001b[0m, in \u001b[0;36mConcreteFunction._call_flat\u001b[1;34m(self, args, captured_inputs, cancellation_manager)\u001b[0m\n\u001b[0;32m   1856\u001b[0m possible_gradient_type \u001b[39m=\u001b[39m gradients_util\u001b[39m.\u001b[39mPossibleTapeGradientTypes(args)\n\u001b[0;32m   1857\u001b[0m \u001b[39mif\u001b[39;00m (possible_gradient_type \u001b[39m==\u001b[39m gradients_util\u001b[39m.\u001b[39mPOSSIBLE_GRADIENT_TYPES_NONE\n\u001b[0;32m   1858\u001b[0m     \u001b[39mand\u001b[39;00m executing_eagerly):\n\u001b[0;32m   1859\u001b[0m   \u001b[39m# No tape is watching; skip to running the function.\u001b[39;00m\n\u001b[1;32m-> 1860\u001b[0m   \u001b[39mreturn\u001b[39;00m \u001b[39mself\u001b[39m\u001b[39m.\u001b[39m_build_call_outputs(\u001b[39mself\u001b[39;49m\u001b[39m.\u001b[39;49m_inference_function\u001b[39m.\u001b[39;49mcall(\n\u001b[0;32m   1861\u001b[0m       ctx, args, cancellation_manager\u001b[39m=\u001b[39;49mcancellation_manager))\n\u001b[0;32m   1862\u001b[0m forward_backward \u001b[39m=\u001b[39m \u001b[39mself\u001b[39m\u001b[39m.\u001b[39m_select_forward_and_backward_functions(\n\u001b[0;32m   1863\u001b[0m     args,\n\u001b[0;32m   1864\u001b[0m     possible_gradient_type,\n\u001b[0;32m   1865\u001b[0m     executing_eagerly)\n\u001b[0;32m   1866\u001b[0m forward_function, args_with_tangents \u001b[39m=\u001b[39m forward_backward\u001b[39m.\u001b[39mforward()\n",
      "File \u001b[1;32mc:\\Users\\kchu1\\Documents\\Coding\\.env\\lib\\site-packages\\tensorflow\\python\\eager\\function.py:497\u001b[0m, in \u001b[0;36m_EagerDefinedFunction.call\u001b[1;34m(self, ctx, args, cancellation_manager)\u001b[0m\n\u001b[0;32m    495\u001b[0m \u001b[39mwith\u001b[39;00m _InterpolateFunctionError(\u001b[39mself\u001b[39m):\n\u001b[0;32m    496\u001b[0m   \u001b[39mif\u001b[39;00m cancellation_manager \u001b[39mis\u001b[39;00m \u001b[39mNone\u001b[39;00m:\n\u001b[1;32m--> 497\u001b[0m     outputs \u001b[39m=\u001b[39m execute\u001b[39m.\u001b[39;49mexecute(\n\u001b[0;32m    498\u001b[0m         \u001b[39mstr\u001b[39;49m(\u001b[39mself\u001b[39;49m\u001b[39m.\u001b[39;49msignature\u001b[39m.\u001b[39;49mname),\n\u001b[0;32m    499\u001b[0m         num_outputs\u001b[39m=\u001b[39;49m\u001b[39mself\u001b[39;49m\u001b[39m.\u001b[39;49m_num_outputs,\n\u001b[0;32m    500\u001b[0m         inputs\u001b[39m=\u001b[39;49margs,\n\u001b[0;32m    501\u001b[0m         attrs\u001b[39m=\u001b[39;49mattrs,\n\u001b[0;32m    502\u001b[0m         ctx\u001b[39m=\u001b[39;49mctx)\n\u001b[0;32m    503\u001b[0m   \u001b[39melse\u001b[39;00m:\n\u001b[0;32m    504\u001b[0m     outputs \u001b[39m=\u001b[39m execute\u001b[39m.\u001b[39mexecute_with_cancellation(\n\u001b[0;32m    505\u001b[0m         \u001b[39mstr\u001b[39m(\u001b[39mself\u001b[39m\u001b[39m.\u001b[39msignature\u001b[39m.\u001b[39mname),\n\u001b[0;32m    506\u001b[0m         num_outputs\u001b[39m=\u001b[39m\u001b[39mself\u001b[39m\u001b[39m.\u001b[39m_num_outputs,\n\u001b[1;32m   (...)\u001b[0m\n\u001b[0;32m    509\u001b[0m         ctx\u001b[39m=\u001b[39mctx,\n\u001b[0;32m    510\u001b[0m         cancellation_manager\u001b[39m=\u001b[39mcancellation_manager)\n",
      "File \u001b[1;32mc:\\Users\\kchu1\\Documents\\Coding\\.env\\lib\\site-packages\\tensorflow\\python\\eager\\execute.py:54\u001b[0m, in \u001b[0;36mquick_execute\u001b[1;34m(op_name, num_outputs, inputs, attrs, ctx, name)\u001b[0m\n\u001b[0;32m     52\u001b[0m \u001b[39mtry\u001b[39;00m:\n\u001b[0;32m     53\u001b[0m   ctx\u001b[39m.\u001b[39mensure_initialized()\n\u001b[1;32m---> 54\u001b[0m   tensors \u001b[39m=\u001b[39m pywrap_tfe\u001b[39m.\u001b[39;49mTFE_Py_Execute(ctx\u001b[39m.\u001b[39;49m_handle, device_name, op_name,\n\u001b[0;32m     55\u001b[0m                                       inputs, attrs, num_outputs)\n\u001b[0;32m     56\u001b[0m \u001b[39mexcept\u001b[39;00m core\u001b[39m.\u001b[39m_NotOkStatusException \u001b[39mas\u001b[39;00m e:\n\u001b[0;32m     57\u001b[0m   \u001b[39mif\u001b[39;00m name \u001b[39mis\u001b[39;00m \u001b[39mnot\u001b[39;00m \u001b[39mNone\u001b[39;00m:\n",
      "\u001b[1;31mKeyboardInterrupt\u001b[0m: "
     ]
    }
   ],
   "source": [
    "# Make & fit the model\n",
    "# Feed the continuous inputs to some normal dense layers.\n",
    "tf.random.set_seed(1337)\n",
    "x = Dense(30, \"relu\", name=\"hidden1\")(otherInputs)\n",
    "x = Dense(30, \"relu\", name=\"hidden2\")(x)\n",
    "lambda_ = Dense(1, \"exponential\", name=\"lambda\")(x)\n",
    "\n",
    "from tensorflow.keras.layers import Multiply\n",
    "\n",
    "out = Multiply(name=\"out\")([lambda_, exposure])\n",
    "model = Model([exposure, otherInputs], out)\n",
    "model.compile(optimizer=\"adam\", loss=\"poisson\")\n",
    "\n",
    "es = EarlyStopping(patience=10, restore_best_weights=True, verbose=1)\n",
    "hist = model.fit((X_train_exp, X_train_rest), y_train, epochs=100, verbose=0, callbacks=[es], validation_split=0.2)\n",
    "np.min(hist.history[\"val_loss\"])"
   ]
  },
  {
   "cell_type": "code",
   "execution_count": null,
   "metadata": {},
   "outputs": [
    {
     "data": {
      "image/png": "[encoded data removed]",
      "text/plain": [
       "<IPython.core.display.Image object>"
      ]
     },
     "execution_count": 59,
     "metadata": {},
     "output_type": "execute_result"
    }
   ],
   "source": [
    "plot_model(model)"
   ]
  },
  {
   "cell_type": "markdown",
   "metadata": {},
   "source": [
    "## Multi-task Learning - Swedish third party motor insurance"
   ]
  },
  {
   "cell_type": "markdown",
   "metadata": {},
   "source": [
    "### Import data and split into training and test"
   ]
  },
  {
   "cell_type": "code",
   "execution_count": null,
   "metadata": {},
   "outputs": [
    {
     "data": {
      "text/html": [
       "<div>\n",
       "<style scoped>\n",
       "    .dataframe tbody tr th:only-of-type {\n",
       "        vertical-align: middle;\n",
       "    }\n",
       "\n",
       "    .dataframe tbody tr th {\n",
       "        vertical-align: top;\n",
       "    }\n",
       "\n",
       "    .dataframe thead th {\n",
       "        text-align: right;\n",
       "    }\n",
       "</style>\n",
       "<table border=\"1\" class=\"dataframe\">\n",
       "  <thead>\n",
       "    <tr style=\"text-align: right;\">\n",
       "      <th></th>\n",
       "      <th>Kilometres</th>\n",
       "      <th>Zone</th>\n",
       "      <th>Bonus</th>\n",
       "      <th>Make</th>\n",
       "      <th>Insured</th>\n",
       "      <th>Claims</th>\n",
       "      <th>Payment</th>\n",
       "      <th>frequency</th>\n",
       "      <th>severity</th>\n",
       "      <th>risk_premium</th>\n",
       "    </tr>\n",
       "  </thead>\n",
       "  <tbody>\n",
       "    <tr>\n",
       "      <th>0</th>\n",
       "      <td>1</td>\n",
       "      <td>1</td>\n",
       "      <td>1</td>\n",
       "      <td>1</td>\n",
       "      <td>455.13</td>\n",
       "      <td>108</td>\n",
       "      <td>392491</td>\n",
       "      <td>0.237295</td>\n",
       "      <td>3634.175926</td>\n",
       "      <td>862.371191</td>\n",
       "    </tr>\n",
       "    <tr>\n",
       "      <th>1</th>\n",
       "      <td>1</td>\n",
       "      <td>1</td>\n",
       "      <td>1</td>\n",
       "      <td>2</td>\n",
       "      <td>69.17</td>\n",
       "      <td>19</td>\n",
       "      <td>46221</td>\n",
       "      <td>0.274686</td>\n",
       "      <td>2432.684211</td>\n",
       "      <td>668.223218</td>\n",
       "    </tr>\n",
       "    <tr>\n",
       "      <th>2</th>\n",
       "      <td>1</td>\n",
       "      <td>1</td>\n",
       "      <td>1</td>\n",
       "      <td>3</td>\n",
       "      <td>72.88</td>\n",
       "      <td>13</td>\n",
       "      <td>15694</td>\n",
       "      <td>0.178375</td>\n",
       "      <td>1207.230769</td>\n",
       "      <td>215.340285</td>\n",
       "    </tr>\n",
       "  </tbody>\n",
       "</table>\n",
       "</div>"
      ],
      "text/plain": [
       "   Kilometres  Zone  Bonus  Make  Insured  Claims  Payment  frequency  \\\n",
       "0           1     1      1     1   455.13     108   392491   0.237295   \n",
       "1           1     1      1     2    69.17      19    46221   0.274686   \n",
       "2           1     1      1     3    72.88      13    15694   0.178375   \n",
       "\n",
       "      severity  risk_premium  \n",
       "0  3634.175926    862.371191  \n",
       "1  2432.684211    668.223218  \n",
       "2  1207.230769    215.340285  "
      ]
     },
     "execution_count": 60,
     "metadata": {},
     "output_type": "execute_result"
    }
   ],
   "source": [
    "url = \"http://www.statsci.org/data/general/motorins.txt\"\n",
    "df = pd.read_csv(url, sep=\"\\t\") \\\n",
    "  .assign(\n",
    "    frequency = lambda x: x.Claims / x.Insured,\n",
    "    severity = lambda x: np.where(x.Claims == 0, 0, x.Payment / x.Claims),\n",
    "    risk_premium = lambda x: x.Payment / x.Insured\n",
    "  )\n",
    "train, test = train_test_split(df, test_size=0.2, random_state=12345)\n",
    "df.head(3)"
   ]
  },
  {
   "cell_type": "markdown",
   "metadata": {},
   "source": [
    "### Summarise the targets"
   ]
  },
  {
   "cell_type": "code",
   "execution_count": null,
   "metadata": {},
   "outputs": [
    {
     "name": "stdout",
     "output_type": "stream",
     "text": [
      "0.0474910948615842 4959.405313081085 235.5275881805785\n"
     ]
    }
   ],
   "source": [
    "totals = train.loc[:, [\"Insured\", \"Claims\", \"Payment\"]].agg('sum')\n",
    "train_average_frequency = totals[\"Claims\"] / totals[\"Insured\"]\n",
    "train_average_severity = totals[\"Payment\"] / totals[\"Claims\"]\n",
    "train_average_risk_premium = totals[\"Payment\"] / totals[\"Insured\"]\n",
    "print(train_average_frequency,\n",
    "  train_average_severity,\n",
    "  train_average_risk_premium)"
   ]
  },
  {
   "cell_type": "markdown",
   "metadata": {},
   "source": [
    "### Organise the inputs"
   ]
  },
  {
   "cell_type": "code",
   "execution_count": null,
   "metadata": {},
   "outputs": [],
   "source": [
    "zone_input = Input(shape=(1,), name='zone_input') \n",
    "make_input = Input(shape=(1,), name='make_input')\n",
    "\n",
    "zone_embedding = Embedding(output_dim=2, input_dim=7)(zone_input)\n",
    "zone_embedding = Reshape(target_shape=(2,))(zone_embedding)\n",
    "make_embedding = Embedding(output_dim=2, input_dim=9)(make_input)\n",
    "make_embedding = Reshape(target_shape=(2,))(make_embedding)\n",
    "\n",
    "kilometres_input = Input(shape=(1,), name='kilometres_input') \n",
    "bonus_input = Input(shape=(1,), name='bonus_input')\n",
    "\n",
    "x = Concatenate(name=\"combined\")(\n",
    "  [zone_embedding, make_embedding, kilometres_input, bonus_input])"
   ]
  },
  {
   "cell_type": "markdown",
   "metadata": {},
   "source": [
    "### Add layers and outputs, create model"
   ]
  },
  {
   "cell_type": "code",
   "execution_count": null,
   "metadata": {},
   "outputs": [],
   "source": [
    "x = Dense(64, activation='relu')(x) \n",
    "x = Dense(64, activation='relu')(x) \n",
    "x = Dense(64, activation='relu')(x)\n",
    "\n",
    "frequency_output = Dense(1, activation='relu', name='frequency')(x) \n",
    "severity_output = Dense(1, activation='relu', name='severity')(x) \n",
    "risk_premium_output = Dense(1, activation='relu', name='risk_premium')(x)\n",
    "\n",
    "model = Model(\n",
    "    inputs=[zone_input, make_input, kilometres_input, bonus_input], \n",
    "    outputs=[frequency_output, severity_output, risk_premium_output])"
   ]
  },
  {
   "cell_type": "code",
   "execution_count": null,
   "metadata": {},
   "outputs": [
    {
     "data": {
      "image/png": "[encoded data removed]",
      "text/plain": [
       "<IPython.core.display.Image object>"
      ]
     },
     "execution_count": 64,
     "metadata": {},
     "output_type": "execute_result"
    }
   ],
   "source": [
    "plot_model(model)"
   ]
  },
  {
   "cell_type": "markdown",
   "metadata": {},
   "source": [
    "### Prepare model and data for fitting"
   ]
  },
  {
   "cell_type": "code",
   "execution_count": null,
   "metadata": {},
   "outputs": [],
   "source": [
    "model.compile(optimizer='adam', \n",
    "  loss = {\n",
    "    'risk_premium': 'mean_squared_error',\n",
    "    'frequency': 'poisson',\n",
    "    'severity': 'mean_squared_logarithmic_error'\n",
    "  }, \n",
    "  loss_weights = {\n",
    "    'risk_premium': 1.0,\n",
    "    'frequency': 1.0,\n",
    "    'severity': 1.0\n",
    "  })"
   ]
  },
  {
   "cell_type": "code",
   "execution_count": null,
   "metadata": {},
   "outputs": [],
   "source": [
    "def InputDataTransformer(x):\n",
    "  return {\n",
    "  'kilometres_input': (x.Kilometres.values - 1) / 5,\n",
    "  'zone_input': x.Zone.values - 1,\n",
    "  'bonus_input': (x.Bonus.values - 1) / 7,\n",
    "  'make_input': x.Make.values - 1}"
   ]
  },
  {
   "cell_type": "markdown",
   "metadata": {},
   "source": [
    "### Fit the data"
   ]
  },
  {
   "cell_type": "code",
   "execution_count": null,
   "metadata": {},
   "outputs": [],
   "source": [
    "model.fit(\n",
    "  InputDataTransformer(train),\n",
    "  {\n",
    "    'frequency': train.frequency.values/train_average_frequency,\n",
    "    'severity': train.severity.values/train_average_severity,\n",
    "    'risk_premium': train.risk_premium.values/train_average_risk_premium\n",
    "  }, \n",
    "  sample_weight = {\n",
    "    'frequency': train.Insured.values,\n",
    "    'severity': train.Claims.values,\n",
    "    'risk_premium': train.Insured.values\n",
    "  },\n",
    "  epochs=40, batch_size=32, verbose=0);"
   ]
  },
  {
   "cell_type": "markdown",
   "metadata": {},
   "source": [
    "## Keras Eager Execution"
   ]
  },
  {
   "cell_type": "markdown",
   "metadata": {},
   "source": [
    "### Find dead ReLU neurons"
   ]
  },
  {
   "cell_type": "code",
   "execution_count": null,
   "metadata": {},
   "outputs": [],
   "source": [
    "acts = model.get_layer(\"hidden\")(X_train.to_numpy()).numpy()\n",
    "acts.mean(axis=0)\n",
    "np.sum(acts.mean(axis=0) == 0)"
   ]
  },
  {
   "cell_type": "markdown",
   "metadata": {},
   "source": [
    "### Trying different seeds "
   ]
  },
  {
   "cell_type": "code",
   "execution_count": null,
   "metadata": {},
   "outputs": [],
   "source": [
    "#Create a function which counts the number of dead ReLU neurons in the first hidden layer for a given seed\n",
    "def count_dead(seed):\n",
    "    tf.random.set_seed(seed)\n",
    "    hidden = Dense(30, activation=\"relu\")\n",
    "    acts = hidden(X_train.to_numpy()).numpy()\n",
    "    return np.sum(acts.mean(axis=0) == 0)\n",
    "\n",
    "# find mediuan dead neurons\n",
    "numDead = [count_dead(seed) for seed in range(1_000)]\n",
    "np.median(numDead)"
   ]
  },
  {
   "cell_type": "code",
   "execution_count": null,
   "metadata": {},
   "outputs": [],
   "source": [
    "# distribution of dead ReLus\n",
    "labels, counts = np.unique(numDead, return_counts=True)\n",
    "plt.bar(labels, counts, align='center');"
   ]
  },
  {
   "cell_type": "markdown",
   "metadata": {},
   "source": [
    "## Regularisation"
   ]
  },
  {
   "cell_type": "markdown",
   "metadata": {},
   "source": [
    "### Traditional regularisation\n",
    "Say all the m weights are in the vector θ. We can change the loss functions to:\n",
    "\n",
    "**$l_1 regularisation$**\n",
    "$$ Loss _{1:n} = 1/n \\sum_{i=1}^n Loss_i + \\lambda \\sum_{j=1} ^m |{\\theta_j}|$$\n",
    "\n",
    "**$l_2 regularisation$**\n",
    "$$ Loss _{1:n} = 1/n \\sum_{i=1}^n Loss_i + \\lambda \\sum_{j=1} ^m |{\\theta_j^2}|$$\n"
   ]
  },
  {
   "cell_type": "code",
   "execution_count": null,
   "metadata": {},
   "outputs": [],
   "source": [
    "from tensorflow.keras.regularizers import l1, l2\n",
    "\n",
    "def l1_model(regulariserStrength=0.01):\n",
    "  tf.random.set_seed(123)\n",
    "  model = Sequential([\n",
    "      Dense(30,\n",
    "        activation=\"leaky_relu\",\n",
    "        name=\"hidden1\"),\n",
    "      Dense(30,\n",
    "        activation=\"leaky_relu\",\n",
    "        kernel_regularizer=l1(regulariserStrength),\n",
    "        name=\"hidden2\"),\n",
    "      Dense(1, \n",
    "        activation=\"exponential\",\n",
    "        name=\"output\")\n",
    "  ])\n",
    "\n",
    "  model.compile(\"adam\", \"mse\")\n",
    "  model.fit(X_train_sc, y_train, epochs=4, verbose=0)\n",
    "  return model"
   ]
  },
  {
   "cell_type": "markdown",
   "metadata": {},
   "source": [
    "### Weights before and after $l_1$"
   ]
  },
  {
   "cell_type": "code",
   "execution_count": null,
   "metadata": {},
   "outputs": [],
   "source": [
    "model = l1_model(0)\n",
    "weights = model.get_layer(\"hidden2\").get_weights()[0].flatten()\n",
    "print(f\"Number of weights almost 0: {np.sum(np.abs(weights) < 1e-5)}\")\n",
    "plt.hist(weights, bins=100);"
   ]
  },
  {
   "cell_type": "code",
   "execution_count": null,
   "metadata": {},
   "outputs": [],
   "source": [
    "model = l1_model(0.1)\n",
    "weights = model.get_layer(\"hidden2\").get_weights()[0].flatten()\n",
    "print(f\"Number of weights almost 0: {np.sum(np.abs(weights) < 1e-5)}\")\n",
    "plt.hist(weights, bins=100);"
   ]
  },
  {
   "cell_type": "markdown",
   "metadata": {},
   "source": [
    "## Dropout"
   ]
  },
  {
   "cell_type": "markdown",
   "metadata": {},
   "source": [
    "- Type of explicit regularisation \n",
    "- In each layer, neurons are randomly dropped by a specified probability\n",
    "- Each neuron has to be as useful as possible on neurons trained with dropout cannot co-adapt with their neighbouring neurons\n",
    "- Cannot rely excessively on just a few input neurons --> must pay attention to each of their input neurons\n",
    "- results in a more robust network that generalises better\n",
    "\n",
    "<img src = \"Dropout.PNG\"/> "
   ]
  },
  {
   "cell_type": "code",
   "execution_count": null,
   "metadata": {},
   "outputs": [],
   "source": [
    "from tensorflow.keras.layers import Dropout\n",
    "\n",
    "tf.random.set_seed(123)\n",
    "model = Sequential([\n",
    "    Dense(30, activation=\"leaky_relu\", name=\"hidden1\"),\n",
    "    Dropout(0.2),\n",
    "    Dense(30, activation=\"leaky_relu\", name=\"hidden2\"),\n",
    "    Dropout(0.2),\n",
    "    Dense(1, activation=\"exponential\", name=\"output\")\n",
    "])\n",
    "\n",
    "model.compile(\"adam\", \"mse\")\n",
    "model.fit(X_train_sc, y_train, epochs=4, verbose=0);"
   ]
  },
  {
   "cell_type": "markdown",
   "metadata": {},
   "source": [
    "### Making predictions"
   ]
  },
  {
   "cell_type": "code",
   "execution_count": null,
   "metadata": {},
   "outputs": [],
   "source": [
    "# as usual\n",
    "model.predict(X_test_sc[:3,:])"
   ]
  },
  {
   "cell_type": "code",
   "execution_count": null,
   "metadata": {},
   "outputs": [],
   "source": [
    "# make model think it is still training\n",
    "model(X_test_sc[:3,:], training=True)"
   ]
  },
  {
   "cell_type": "markdown",
   "metadata": {},
   "source": [
    "### Monte Carlo Dropout"
   ]
  },
  {
   "cell_type": "code",
   "execution_count": null,
   "metadata": {},
   "outputs": [],
   "source": [
    "## intentionally leave dropout on when making predictions\n",
    "predictions = [model(X_test_sc[:3,:], training=True) for _ in range(10)]\n",
    "allPredictions = np.concatenate(predictions, axis=1)\n",
    "np.mean(allPredictions, axis=1)"
   ]
  }
 ],
 "metadata": {
  "kernelspec": {
   "display_name": "Python 3.8.5 ('.env': venv)",
   "language": "python",
   "name": "python3"
  },
  "language_info": {
   "codemirror_mode": {
    "name": "ipython",
    "version": 3
   },
   "file_extension": ".py",
   "mimetype": "text/x-python",
   "name": "python",
   "nbconvert_exporter": "python",
   "pygments_lexer": "ipython3",
   "version": "3.8.5"
  },
  "orig_nbformat": 4,
  "vscode": {
   "interpreter": {
    "hash": "66cd1895dff7263adb7ff11628d05a59612ea005dbfde567253ef0e3682a2146"
   }
  }
 },
 "nbformat": 4,
 "nbformat_minor": 2
}
