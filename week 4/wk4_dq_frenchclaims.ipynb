{
 "cells": [
  {
   "cell_type": "markdown",
   "metadata": {},
   "source": [
    "# ACTL3143/5111 Week 4 StoryWall Notebook"
   ]
  },
  {
   "cell_type": "markdown",
   "metadata": {},
   "source": [
    "## 1. Load Packages"
   ]
  },
  {
   "cell_type": "code",
   "execution_count": 1,
   "metadata": {},
   "outputs": [],
   "source": [
    "import matplotlib.pyplot as plt\n",
    "import numpy as np\n",
    "import pandas as pd\n",
    "import seaborn as sns\n",
    "import tensorflow as tf\n",
    "\n",
    "from copy import deepcopy\n",
    "from sklearn.model_selection import train_test_split, GroupShuffleSplit\n",
    "from sklearn.compose import make_column_transformer\n",
    "from sklearn.pipeline import make_pipeline\n",
    "from sklearn.preprocessing import OneHotEncoder, StandardScaler, OrdinalEncoder\n",
    "\n",
    "from tensorflow.keras.models import Model\n",
    "from tensorflow.keras.models import Sequential\n",
    "from tensorflow.keras.callbacks import EarlyStopping\n",
    "from tensorflow.keras.utils import plot_model\n",
    "\n",
    "from tensorflow.keras.layers import Input, Embedding, Reshape, Dense, Concatenate\n",
    "from tensorflow.keras.regularizers import l1\n",
    "\n",
    "from sklearn.metrics import confusion_matrix, RocCurveDisplay, PrecisionRecallDisplay"
   ]
  },
  {
   "cell_type": "markdown",
   "metadata": {},
   "source": [
    "## 2. Data Preparation"
   ]
  },
  {
   "cell_type": "markdown",
   "metadata": {},
   "source": [
    "### 2.1 Load Data"
   ]
  },
  {
   "cell_type": "markdown",
   "metadata": {},
   "source": [
    "Read in data"
   ]
  },
  {
   "cell_type": "code",
   "execution_count": 2,
   "metadata": {},
   "outputs": [],
   "source": [
    "from sklearn.datasets import fetch_openml\n",
    "freq = fetch_openml(data_id=41214, as_frame=True).frame"
   ]
  },
  {
   "cell_type": "markdown",
   "metadata": {},
   "source": [
    "Examine the data"
   ]
  },
  {
   "cell_type": "code",
   "execution_count": 3,
   "metadata": {},
   "outputs": [
    {
     "name": "stdout",
     "output_type": "stream",
     "text": [
      "<class 'pandas.core.frame.DataFrame'>\n",
      "RangeIndex: 678013 entries, 0 to 678012\n",
      "Data columns (total 12 columns):\n",
      " #   Column      Non-Null Count   Dtype   \n",
      "---  ------      --------------   -----   \n",
      " 0   IDpol       678013 non-null  float64 \n",
      " 1   ClaimNb     678013 non-null  float64 \n",
      " 2   Exposure    678013 non-null  float64 \n",
      " 3   Area        678013 non-null  category\n",
      " 4   VehPower    678013 non-null  float64 \n",
      " 5   VehAge      678013 non-null  float64 \n",
      " 6   DrivAge     678013 non-null  float64 \n",
      " 7   BonusMalus  678013 non-null  float64 \n",
      " 8   VehBrand    678013 non-null  category\n",
      " 9   VehGas      678013 non-null  object  \n",
      " 10  Density     678013 non-null  float64 \n",
      " 11  Region      678013 non-null  category\n",
      "dtypes: category(3), float64(8), object(1)\n",
      "memory usage: 48.5+ MB\n"
     ]
    }
   ],
   "source": [
    "freq.info()"
   ]
  },
  {
   "cell_type": "code",
   "execution_count": 4,
   "metadata": {},
   "outputs": [
    {
     "data": {
      "text/html": [
       "<div>\n",
       "<style scoped>\n",
       "    .dataframe tbody tr th:only-of-type {\n",
       "        vertical-align: middle;\n",
       "    }\n",
       "\n",
       "    .dataframe tbody tr th {\n",
       "        vertical-align: top;\n",
       "    }\n",
       "\n",
       "    .dataframe thead th {\n",
       "        text-align: right;\n",
       "    }\n",
       "</style>\n",
       "<table border=\"1\" class=\"dataframe\">\n",
       "  <thead>\n",
       "    <tr style=\"text-align: right;\">\n",
       "      <th></th>\n",
       "      <th>IDpol</th>\n",
       "      <th>ClaimNb</th>\n",
       "      <th>Exposure</th>\n",
       "      <th>VehPower</th>\n",
       "      <th>VehAge</th>\n",
       "      <th>DrivAge</th>\n",
       "      <th>BonusMalus</th>\n",
       "      <th>Density</th>\n",
       "    </tr>\n",
       "  </thead>\n",
       "  <tbody>\n",
       "    <tr>\n",
       "      <th>count</th>\n",
       "      <td>6.780130e+05</td>\n",
       "      <td>678013.000000</td>\n",
       "      <td>678013.000000</td>\n",
       "      <td>678013.000000</td>\n",
       "      <td>678013.000000</td>\n",
       "      <td>678013.000000</td>\n",
       "      <td>678013.000000</td>\n",
       "      <td>678013.000000</td>\n",
       "    </tr>\n",
       "    <tr>\n",
       "      <th>mean</th>\n",
       "      <td>2.621857e+06</td>\n",
       "      <td>0.053247</td>\n",
       "      <td>0.528750</td>\n",
       "      <td>6.454631</td>\n",
       "      <td>7.044265</td>\n",
       "      <td>45.499122</td>\n",
       "      <td>59.761502</td>\n",
       "      <td>1792.422405</td>\n",
       "    </tr>\n",
       "    <tr>\n",
       "      <th>std</th>\n",
       "      <td>1.641783e+06</td>\n",
       "      <td>0.240117</td>\n",
       "      <td>0.364442</td>\n",
       "      <td>2.050906</td>\n",
       "      <td>5.666232</td>\n",
       "      <td>14.137444</td>\n",
       "      <td>15.636658</td>\n",
       "      <td>3958.646564</td>\n",
       "    </tr>\n",
       "    <tr>\n",
       "      <th>min</th>\n",
       "      <td>1.000000e+00</td>\n",
       "      <td>0.000000</td>\n",
       "      <td>0.002732</td>\n",
       "      <td>4.000000</td>\n",
       "      <td>0.000000</td>\n",
       "      <td>18.000000</td>\n",
       "      <td>50.000000</td>\n",
       "      <td>1.000000</td>\n",
       "    </tr>\n",
       "    <tr>\n",
       "      <th>25%</th>\n",
       "      <td>1.157951e+06</td>\n",
       "      <td>0.000000</td>\n",
       "      <td>0.180000</td>\n",
       "      <td>5.000000</td>\n",
       "      <td>2.000000</td>\n",
       "      <td>34.000000</td>\n",
       "      <td>50.000000</td>\n",
       "      <td>92.000000</td>\n",
       "    </tr>\n",
       "    <tr>\n",
       "      <th>50%</th>\n",
       "      <td>2.272152e+06</td>\n",
       "      <td>0.000000</td>\n",
       "      <td>0.490000</td>\n",
       "      <td>6.000000</td>\n",
       "      <td>6.000000</td>\n",
       "      <td>44.000000</td>\n",
       "      <td>50.000000</td>\n",
       "      <td>393.000000</td>\n",
       "    </tr>\n",
       "    <tr>\n",
       "      <th>75%</th>\n",
       "      <td>4.046274e+06</td>\n",
       "      <td>0.000000</td>\n",
       "      <td>0.990000</td>\n",
       "      <td>7.000000</td>\n",
       "      <td>11.000000</td>\n",
       "      <td>55.000000</td>\n",
       "      <td>64.000000</td>\n",
       "      <td>1658.000000</td>\n",
       "    </tr>\n",
       "    <tr>\n",
       "      <th>max</th>\n",
       "      <td>6.114330e+06</td>\n",
       "      <td>16.000000</td>\n",
       "      <td>2.010000</td>\n",
       "      <td>15.000000</td>\n",
       "      <td>100.000000</td>\n",
       "      <td>100.000000</td>\n",
       "      <td>230.000000</td>\n",
       "      <td>27000.000000</td>\n",
       "    </tr>\n",
       "  </tbody>\n",
       "</table>\n",
       "</div>"
      ],
      "text/plain": [
       "              IDpol        ClaimNb       Exposure       VehPower  \\\n",
       "count  6.780130e+05  678013.000000  678013.000000  678013.000000   \n",
       "mean   2.621857e+06       0.053247       0.528750       6.454631   \n",
       "std    1.641783e+06       0.240117       0.364442       2.050906   \n",
       "min    1.000000e+00       0.000000       0.002732       4.000000   \n",
       "25%    1.157951e+06       0.000000       0.180000       5.000000   \n",
       "50%    2.272152e+06       0.000000       0.490000       6.000000   \n",
       "75%    4.046274e+06       0.000000       0.990000       7.000000   \n",
       "max    6.114330e+06      16.000000       2.010000      15.000000   \n",
       "\n",
       "              VehAge        DrivAge     BonusMalus        Density  \n",
       "count  678013.000000  678013.000000  678013.000000  678013.000000  \n",
       "mean        7.044265      45.499122      59.761502    1792.422405  \n",
       "std         5.666232      14.137444      15.636658    3958.646564  \n",
       "min         0.000000      18.000000      50.000000       1.000000  \n",
       "25%         2.000000      34.000000      50.000000      92.000000  \n",
       "50%         6.000000      44.000000      50.000000     393.000000  \n",
       "75%        11.000000      55.000000      64.000000    1658.000000  \n",
       "max       100.000000     100.000000     230.000000   27000.000000  "
      ]
     },
     "execution_count": 4,
     "metadata": {},
     "output_type": "execute_result"
    }
   ],
   "source": [
    "freq.describe()"
   ]
  },
  {
   "cell_type": "markdown",
   "metadata": {},
   "source": [
    "### 2.2 Pre-processing"
   ]
  },
  {
   "cell_type": "markdown",
   "metadata": {},
   "source": [
    "Create a group_id variable as in the dataset there appear to be many observations related to the same policy."
   ]
  },
  {
   "cell_type": "code",
   "execution_count": 5,
   "metadata": {},
   "outputs": [],
   "source": [
    "df_freq = freq.iloc[freq.drop(['IDpol','Exposure','ClaimNb'], axis=1).drop_duplicates().index]\n",
    "df_freq = df_freq.reset_index(drop=True)\n",
    "df_freq['GroupID'] = df_freq.index+1\n",
    "df_freq = pd.merge(freq,df_freq, how='left')\n",
    "df_freq['GroupID'] = df_freq['GroupID'].fillna(method='ffill')"
   ]
  },
  {
   "cell_type": "code",
   "execution_count": 6,
   "metadata": {},
   "outputs": [
    {
     "data": {
      "text/plain": [
       "1      429415\n",
       "2       83221\n",
       "3       11597\n",
       "4        2390\n",
       "5         675\n",
       "        ...  \n",
       "68          1\n",
       "69          1\n",
       "147         1\n",
       "130         1\n",
       "117         1\n",
       "Name: IDpol, Length: 125, dtype: int64"
      ]
     },
     "execution_count": 6,
     "metadata": {},
     "output_type": "execute_result"
    }
   ],
   "source": [
    "#Group sizes of suspected clusters\n",
    "df_freq.groupby(\"GroupID\").count()[\"IDpol\"].value_counts()"
   ]
  },
  {
   "cell_type": "markdown",
   "metadata": {},
   "source": [
    "As per Noll et al., we apply the following feature pre-processing:\n",
    "- **VehPower**: 6 categorical classes where >= 9 is grouped together\n",
    "- **VehAge**: 3 categorical classes $[0,1), [1,10], (10,\\infty)$\n",
    "- **DrivAge**: 7 categorical classes $[18,21), [21,26), [26,31), [31,41), [41 51), [51,71), [71,\\infty)$\n",
    "- **BonusMalus**: continuous feature capped at 150\n",
    "- **ClaimNb**: integer, capped at 4 - this corrects unreasonable data entries as per F.Loser\n",
    "\n",
    "These steps reflects homogeneity within class labels and every class label should receive a sufficient volume of observations. They also account for any unreasonable data entries discovered.\n",
    "(Refer to the paper for further details https://deliverypdf.ssrn.com/delivery.php?ID=609118119089001101090004122093118002032050073078086039018103069073095120119006064070057009021101116003110067093080097064076106009059069023087031030081112016068004034015043026083106109029120125081087120011098111110105003124018105067020119067064028114&EXT=pdf&INDEX=TRUE)"
   ]
  },
  {
   "cell_type": "code",
   "execution_count": 7,
   "metadata": {},
   "outputs": [],
   "source": [
    "df_freq[\"ClaimNb\"] = df_freq.ClaimNb.clip(upper = 4)\n",
    "df_freq[\"VehPower\"] = df_freq.VehPower.clip(upper = 9)\n",
    "df_freq[\"VehAge\"] = pd.cut(df_freq[\"VehAge\"], [np.NINF, 0, 10, np.inf], labels = [\"1\", \"2\", \"3\"])\n",
    "df_freq[\"DrivAge\"] = pd.cut(df_freq[\"DrivAge\"], [np.NINF, 20, 25, 30, 40, 50, 70, np.inf], labels = [\"1\", \"2\", \"3\", \"4\", \"5\", \"6\", \"7\"])\n",
    "df_freq[\"BonusMalus\"] = df_freq.BonusMalus.clip(upper = 150)\n"
   ]
  },
  {
   "cell_type": "code",
   "execution_count": 8,
   "metadata": {},
   "outputs": [
    {
     "name": "stdout",
     "output_type": "stream",
     "text": [
      "<class 'pandas.core.frame.DataFrame'>\n",
      "Int64Index: 678013 entries, 0 to 678012\n",
      "Data columns (total 13 columns):\n",
      " #   Column      Non-Null Count   Dtype   \n",
      "---  ------      --------------   -----   \n",
      " 0   IDpol       678013 non-null  float64 \n",
      " 1   ClaimNb     678013 non-null  float64 \n",
      " 2   Exposure    678013 non-null  float64 \n",
      " 3   Area        678013 non-null  category\n",
      " 4   VehPower    678013 non-null  float64 \n",
      " 5   VehAge      678013 non-null  category\n",
      " 6   DrivAge     678013 non-null  category\n",
      " 7   BonusMalus  678013 non-null  float64 \n",
      " 8   VehBrand    678013 non-null  category\n",
      " 9   VehGas      678013 non-null  object  \n",
      " 10  Density     678013 non-null  float64 \n",
      " 11  Region      678013 non-null  category\n",
      " 12  GroupID     678013 non-null  float64 \n",
      "dtypes: category(5), float64(7), object(1)\n",
      "memory usage: 49.8+ MB\n"
     ]
    }
   ],
   "source": [
    "df_freq.info()"
   ]
  },
  {
   "cell_type": "markdown",
   "metadata": {},
   "source": [
    "### 2.3 Split into training and test set"
   ]
  },
  {
   "cell_type": "markdown",
   "metadata": {},
   "source": [
    "We will perform a stratified sampling / splitting data set based on the GroupID column. This uses GroupShuffleSplit."
   ]
  },
  {
   "cell_type": "code",
   "execution_count": 9,
   "metadata": {},
   "outputs": [],
   "source": [
    "df_freq_gss = deepcopy(df_freq)\n",
    "splitter = GroupShuffleSplit(test_size=0.2, n_splits=2, random_state=999)\n",
    "split = splitter.split(df_freq_gss, groups=df_freq_gss['GroupID'])\n",
    "train_inds, test_inds = next(split)\n",
    "train = df_freq_gss.iloc[train_inds]\n",
    "test = df_freq_gss.iloc[test_inds]"
   ]
  },
  {
   "cell_type": "markdown",
   "metadata": {},
   "source": [
    "Repeat for training and val split"
   ]
  },
  {
   "cell_type": "code",
   "execution_count": 10,
   "metadata": {},
   "outputs": [],
   "source": [
    "train_gss = deepcopy(train)\n",
    "splitter = GroupShuffleSplit(test_size=0.25, n_splits=2, random_state=999)\n",
    "split = splitter.split(train_gss, groups=train_gss['GroupID'])\n",
    "train_inds, val_inds = next(split)\n",
    "train = train_gss.iloc[train_inds]\n",
    "val = train_gss.iloc[val_inds]"
   ]
  },
  {
   "cell_type": "markdown",
   "metadata": {},
   "source": [
    "Check proportion of training set to test set"
   ]
  },
  {
   "cell_type": "code",
   "execution_count": 11,
   "metadata": {},
   "outputs": [
    {
     "name": "stdout",
     "output_type": "stream",
     "text": [
      "0.5999000019173674\n",
      "0.19908615321535134\n"
     ]
    }
   ],
   "source": [
    "print(len(train)/len(df_freq_gss))\n",
    "print(len(test)/len(df_freq_gss))"
   ]
  },
  {
   "cell_type": "markdown",
   "metadata": {},
   "source": [
    "Check if average claims frequencies are similar between the sets"
   ]
  },
  {
   "cell_type": "code",
   "execution_count": 12,
   "metadata": {},
   "outputs": [
    {
     "name": "stdout",
     "output_type": "stream",
     "text": [
      "0.10028975631135799\n",
      "0.10140733979863278\n"
     ]
    }
   ],
   "source": [
    "print(train['ClaimNb'].sum() / train['Exposure'].sum())\n",
    "print(test['ClaimNb'].sum() / test['Exposure'].sum())"
   ]
  },
  {
   "cell_type": "markdown",
   "metadata": {},
   "source": [
    "Check the sum of Exposure and count of ClaimNb in the train and test sets."
   ]
  },
  {
   "cell_type": "code",
   "execution_count": 13,
   "metadata": {},
   "outputs": [
    {
     "name": "stdout",
     "output_type": "stream",
     "text": [
      "              Exposure ClaimNb\n",
      "                   sum   count\n",
      "ClaimNb                       \n",
      "0.0      202042.084705  386370\n",
      "1.0       12334.057460   19238\n",
      "2.0         708.523661    1074\n",
      "3.0          26.060000      44\n",
      "4.0           5.960000      14\n",
      "\n",
      "-------------------------\n",
      "\n",
      "             Exposure ClaimNb\n",
      "                  sum   count\n",
      "ClaimNb                      \n",
      "0.0      67257.515447  128115\n",
      "1.0       4169.483080    6488\n",
      "2.0        222.010951     362\n",
      "3.0         12.390000      17\n",
      "4.0          0.080000       1\n"
     ]
    }
   ],
   "source": [
    "print(train.groupby(by=['ClaimNb']).agg({'Exposure':['sum'],'ClaimNb':['count']}))\n",
    "print('\\n-------------------------\\n')\n",
    "print(test.groupby(by=['ClaimNb']).agg({'Exposure':['sum'],'ClaimNb':['count']}))"
   ]
  },
  {
   "cell_type": "code",
   "execution_count": 14,
   "metadata": {},
   "outputs": [],
   "source": [
    "## Usual splitting method\n",
    "#target = df_freq['ClaimNb']\n",
    "#features = df_freq.drop(['ClaimNb'], axis=1)\n",
    "#X_train, X_test, y_train, y_test = train_test_split(features, target, test_size=0.2, random_state=2022)\n",
    "#X_train, X_val, y_train, y_val = train_test_split(X_train, y_train, test_size=0.25, random_state=2022)"
   ]
  },
  {
   "cell_type": "markdown",
   "metadata": {},
   "source": [
    "Splitting into X and y (separate features and targets)"
   ]
  },
  {
   "cell_type": "code",
   "execution_count": 15,
   "metadata": {},
   "outputs": [],
   "source": [
    "y_train = train['ClaimNb']\n",
    "X_train = train.drop(['ClaimNb'], axis=1)\n",
    "\n",
    "y_val = train['ClaimNb']\n",
    "X_val= train.drop(['ClaimNb'], axis=1)\n",
    "\n",
    "y_test = test['ClaimNb']\n",
    "X_test = test.drop(['ClaimNb'], axis=1)"
   ]
  },
  {
   "cell_type": "markdown",
   "metadata": {},
   "source": [
    "### 2.4 Further Processing"
   ]
  },
  {
   "cell_type": "markdown",
   "metadata": {},
   "source": [
    "Transform the categorical variables to integers"
   ]
  },
  {
   "cell_type": "code",
   "execution_count": 16,
   "metadata": {},
   "outputs": [],
   "source": [
    "NUM_BRANDS, NUM_REGIONS = X_train.nunique()[[\"VehBrand\", \"Region\"]]\n",
    "\n",
    "ct = make_column_transformer(\n",
    "  (OrdinalEncoder(), [\"VehBrand\", \"Region\", \"Area\", \"VehGas\",\"VehAge\",\"DrivAge\"]),\n",
    "  remainder=StandardScaler()\n",
    ")\n",
    "\n",
    "X_train_ct = ct.fit_transform(X_train)\n",
    "X_val_ct = ct.fit_transform(X_val)\n",
    "X_test_ct = ct.transform(X_test)"
   ]
  },
  {
   "cell_type": "markdown",
   "metadata": {},
   "source": [
    "# 3. Modelling"
   ]
  },
  {
   "cell_type": "markdown",
   "metadata": {},
   "source": [
    "## 3.1 Organise the inputs"
   ]
  },
  {
   "cell_type": "markdown",
   "metadata": {},
   "source": [
    "Split the brand and region data apart from the rest"
   ]
  },
  {
   "cell_type": "code",
   "execution_count": 17,
   "metadata": {},
   "outputs": [],
   "source": [
    "X_train_brand = X_train_ct[:,0]; X_val_brand = X_train_ct[:,0]; X_test_brand = X_test_ct[:,0]\n",
    "X_train_region = X_train_ct[:,1]; X_val_region = X_train_ct[:,1]; X_test_region = X_test_ct[:,1]\n",
    "X_train_rest = X_train_ct[:,2:]; X_val_rest = X_train_ct[:,2]; X_test_rest = X_test_ct[:,2:]"
   ]
  },
  {
   "cell_type": "markdown",
   "metadata": {},
   "source": [
    "Make a Keras Input for: vehical brand, region and others"
   ]
  },
  {
   "cell_type": "code",
   "execution_count": 18,
   "metadata": {},
   "outputs": [],
   "source": [
    "vehBrand = Input(shape=(1,), name=\"vehBrand\")\n",
    "region = Input(shape=(1,), name=\"region\")\n",
    "otherInputs = Input(shape=X_train_rest.shape[1:], name=\"otherInputs\")"
   ]
  },
  {
   "cell_type": "markdown",
   "metadata": {},
   "source": [
    "Create embeddings and join them with the other inputs.\n"
   ]
  },
  {
   "cell_type": "code",
   "execution_count": 19,
   "metadata": {},
   "outputs": [],
   "source": [
    "tf.random.set_seed(2022)\n",
    "vehBrandEE = Embedding(input_dim=NUM_BRANDS, output_dim=2,\n",
    "    name=\"vehBrandEE\")(vehBrand)\n",
    "vehBrandEE = Reshape(target_shape=(2,))(vehBrandEE)\n",
    "\n",
    "regionEE = Embedding(input_dim=NUM_REGIONS, output_dim=2,\n",
    "    name=\"regionEE\")(region)\n",
    "regionEE = Reshape(target_shape=(2,))(regionEE)\n",
    "\n",
    "x = Concatenate(name=\"combined\")([vehBrandEE, regionEE, otherInputs])"
   ]
  },
  {
   "cell_type": "markdown",
   "metadata": {},
   "source": [
    "## 3.2 Complete the model and fit it"
   ]
  },
  {
   "cell_type": "code",
   "execution_count": 20,
   "metadata": {},
   "outputs": [
    {
     "name": "stdout",
     "output_type": "stream",
     "text": [
      "Epoch 1/100\n",
      "10169/10169 [==============================] - 9s 822us/step - loss: 0.2670 - accuracy: 0.9440 - val_loss: 0.1502 - val_accuracy: 0.9705\n",
      "Epoch 2/100\n",
      "10169/10169 [==============================] - 8s 811us/step - loss: 0.2256 - accuracy: 0.9448 - val_loss: 0.1500 - val_accuracy: 0.9705\n",
      "Epoch 3/100\n",
      "10169/10169 [==============================] - 9s 868us/step - loss: 0.2256 - accuracy: 0.9448 - val_loss: 0.1486 - val_accuracy: 0.9705\n",
      "Epoch 4/100\n",
      "10169/10169 [==============================] - 8s 833us/step - loss: 0.2256 - accuracy: 0.9448 - val_loss: 0.1498 - val_accuracy: 0.9705\n",
      "Epoch 5/100\n",
      "10169/10169 [==============================] - 8s 808us/step - loss: 0.2255 - accuracy: 0.9448 - val_loss: 0.1508 - val_accuracy: 0.9705\n",
      "Epoch 6/100\n",
      "10169/10169 [==============================] - 8s 820us/step - loss: 0.2256 - accuracy: 0.9448 - val_loss: 0.1500 - val_accuracy: 0.9705\n",
      "Epoch 7/100\n",
      "10169/10169 [==============================] - 8s 810us/step - loss: 0.2256 - accuracy: 0.9448 - val_loss: 0.1484 - val_accuracy: 0.9705\n",
      "Epoch 8/100\n",
      "10169/10169 [==============================] - 9s 838us/step - loss: 0.2256 - accuracy: 0.9448 - val_loss: 0.1509 - val_accuracy: 0.9705\n",
      "Epoch 9/100\n",
      "10169/10169 [==============================] - 9s 865us/step - loss: 0.2255 - accuracy: 0.9448 - val_loss: 0.1485 - val_accuracy: 0.9705\n",
      "Epoch 10/100\n",
      "10169/10169 [==============================] - 9s 882us/step - loss: 0.2255 - accuracy: 0.9448 - val_loss: 0.1524 - val_accuracy: 0.9705\n",
      "Epoch 11/100\n",
      "10169/10169 [==============================] - 9s 849us/step - loss: 0.2256 - accuracy: 0.9448 - val_loss: 0.1515 - val_accuracy: 0.9705\n",
      "Epoch 12/100\n",
      "10169/10169 [==============================] - 9s 856us/step - loss: 0.2256 - accuracy: 0.9448 - val_loss: 0.1493 - val_accuracy: 0.9705\n"
     ]
    },
    {
     "data": {
      "text/plain": [
       "0.14842279255390167"
      ]
     },
     "execution_count": 20,
     "metadata": {},
     "output_type": "execute_result"
    }
   ],
   "source": [
    "x = Dense(32, \"relu\", kernel_regularizer=l1(0.01),name=\"hidden1\")(x)\n",
    "x = Dense(16, \"relu\", kernel_regularizer=l1(0.01),name=\"hidden2\")(x)\n",
    "out = Dense(1, \"exponential\", name=\"out\")(x)\n",
    "\n",
    "model = Model([vehBrand, region, otherInputs], out)\n",
    "model.compile(optimizer=\"adam\", loss=\"poisson\", metrics=[\"accuracy\"])\n",
    "\n",
    "hist = model.fit((X_train_brand, X_train_region, X_train_rest),\n",
    "    y_train, \n",
    "    epochs=100, \n",
    "    callbacks=[EarlyStopping(patience=5)],\n",
    "    validation_split = 0.2\n",
    "    )\n",
    "    \n",
    "np.min(hist.history[\"val_loss\"])"
   ]
  },
  {
   "cell_type": "code",
   "execution_count": 22,
   "metadata": {},
   "outputs": [
    {
     "data": {
      "image/png": "[encoded data removed]",
      "text/plain": [
       "<Figure size 432x288 with 1 Axes>"
      ]
     },
     "metadata": {
      "needs_background": "light"
     },
     "output_type": "display_data"
    }
   ],
   "source": [
    "plt.plot(hist.history[\"loss\"])\n",
    "plt.xlabel(\"Epoch\")\n",
    "plt.ylabel(\"MSE\");"
   ]
  },
  {
   "cell_type": "code",
   "execution_count": 23,
   "metadata": {},
   "outputs": [
    {
     "data": {
      "image/png": "[encoded data removed]",
      "text/plain": [
       "<IPython.core.display.Image object>"
      ]
     },
     "execution_count": 23,
     "metadata": {},
     "output_type": "execute_result"
    }
   ],
   "source": [
    "plot_model(model, show_shapes=True)"
   ]
  },
  {
   "cell_type": "markdown",
   "metadata": {},
   "source": [
    "## 3.3 Model Evaluation"
   ]
  },
  {
   "cell_type": "markdown",
   "metadata": {},
   "source": [
    "Evaluate the model"
   ]
  },
  {
   "cell_type": "code",
   "execution_count": 24,
   "metadata": {},
   "outputs": [
    {
     "name": "stdout",
     "output_type": "stream",
     "text": [
      "4219/4219 [==============================] - 2s 583us/step - loss: 0.2125 - accuracy: 0.9491\n"
     ]
    },
    {
     "data": {
      "text/plain": [
       "[0.21245254576206207, 0.949119508266449]"
      ]
     },
     "execution_count": 24,
     "metadata": {},
     "output_type": "execute_result"
    }
   ],
   "source": [
    "model.evaluate((X_test_brand, X_test_region, X_test_rest), y_test)"
   ]
  },
  {
   "cell_type": "markdown",
   "metadata": {},
   "source": [
    "Make the predictions on test data"
   ]
  },
  {
   "cell_type": "code",
   "execution_count": 50,
   "metadata": {},
   "outputs": [
    {
     "name": "stdout",
     "output_type": "stream",
     "text": [
      "4219/4219 [==============================] - 2s 511us/step\n"
     ]
    },
    {
     "data": {
      "text/plain": [
       "array([[0.05750427],\n",
       "       [0.05750417],\n",
       "       [0.05750425],\n",
       "       ...,\n",
       "       [0.05750408],\n",
       "       [0.05750411],\n",
       "       [0.05750414]], dtype=float32)"
      ]
     },
     "execution_count": 50,
     "metadata": {},
     "output_type": "execute_result"
    }
   ],
   "source": [
    "y_pred = model.predict((X_test_brand, X_test_region, X_test_rest))\n",
    "y_pred\n"
   ]
  },
  {
   "cell_type": "code",
   "execution_count": 36,
   "metadata": {},
   "outputs": [
    {
     "data": {
      "text/plain": [
       "0.05750423"
      ]
     },
     "execution_count": 36,
     "metadata": {},
     "output_type": "execute_result"
    }
   ],
   "source": [
    "np.mean(y_pred)"
   ]
  },
  {
   "cell_type": "code",
   "execution_count": 47,
   "metadata": {},
   "outputs": [
    {
     "data": {
      "text/html": [
       "<div>\n",
       "<style scoped>\n",
       "    .dataframe tbody tr th:only-of-type {\n",
       "        vertical-align: middle;\n",
       "    }\n",
       "\n",
       "    .dataframe tbody tr th {\n",
       "        vertical-align: top;\n",
       "    }\n",
       "\n",
       "    .dataframe thead th {\n",
       "        text-align: right;\n",
       "    }\n",
       "</style>\n",
       "<table border=\"1\" class=\"dataframe\">\n",
       "  <thead>\n",
       "    <tr style=\"text-align: right;\">\n",
       "      <th></th>\n",
       "      <th>Prediction</th>\n",
       "    </tr>\n",
       "  </thead>\n",
       "  <tbody>\n",
       "    <tr>\n",
       "      <th>0</th>\n",
       "      <td>0.057504</td>\n",
       "    </tr>\n",
       "    <tr>\n",
       "      <th>1</th>\n",
       "      <td>0.057504</td>\n",
       "    </tr>\n",
       "    <tr>\n",
       "      <th>2</th>\n",
       "      <td>0.057504</td>\n",
       "    </tr>\n",
       "    <tr>\n",
       "      <th>3</th>\n",
       "      <td>0.057504</td>\n",
       "    </tr>\n",
       "    <tr>\n",
       "      <th>4</th>\n",
       "      <td>0.057504</td>\n",
       "    </tr>\n",
       "    <tr>\n",
       "      <th>...</th>\n",
       "      <td>...</td>\n",
       "    </tr>\n",
       "    <tr>\n",
       "      <th>134978</th>\n",
       "      <td>0.057504</td>\n",
       "    </tr>\n",
       "    <tr>\n",
       "      <th>134979</th>\n",
       "      <td>0.057504</td>\n",
       "    </tr>\n",
       "    <tr>\n",
       "      <th>134980</th>\n",
       "      <td>0.057504</td>\n",
       "    </tr>\n",
       "    <tr>\n",
       "      <th>134981</th>\n",
       "      <td>0.057504</td>\n",
       "    </tr>\n",
       "    <tr>\n",
       "      <th>134982</th>\n",
       "      <td>0.057504</td>\n",
       "    </tr>\n",
       "  </tbody>\n",
       "</table>\n",
       "<p>134983 rows × 1 columns</p>\n",
       "</div>"
      ],
      "text/plain": [
       "        Prediction\n",
       "0         0.057504\n",
       "1         0.057504\n",
       "2         0.057504\n",
       "3         0.057504\n",
       "4         0.057504\n",
       "...            ...\n",
       "134978    0.057504\n",
       "134979    0.057504\n",
       "134980    0.057504\n",
       "134981    0.057504\n",
       "134982    0.057504\n",
       "\n",
       "[134983 rows x 1 columns]"
      ]
     },
     "execution_count": 47,
     "metadata": {},
     "output_type": "execute_result"
    }
   ],
   "source": [
    "y_pred_df = pd.DataFrame(y_pred)\n",
    "y_pred_df.columns = [\"Prediction\"]\n",
    "y_pred_df"
   ]
  },
  {
   "cell_type": "code",
   "execution_count": 46,
   "metadata": {},
   "outputs": [
    {
     "name": "stdout",
     "output_type": "stream",
     "text": [
      "           Prediction\n",
      "                count\n",
      "Prediction           \n",
      "0              134983\n"
     ]
    }
   ],
   "source": [
    "print(y_pred_df.groupby(by=['Prediction']).agg({'Prediction':['count']}))"
   ]
  }
 ],
 "metadata": {
  "kernelspec": {
   "display_name": "Python 3.8.5 ('.env': venv)",
   "language": "python",
   "name": "python3"
  },
  "language_info": {
   "codemirror_mode": {
    "name": "ipython",
    "version": 3
   },
   "file_extension": ".py",
   "mimetype": "text/x-python",
   "name": "python",
   "nbconvert_exporter": "python",
   "pygments_lexer": "ipython3",
   "version": "3.8.5"
  },
  "orig_nbformat": 4,
  "vscode": {
   "interpreter": {
    "hash": "66cd1895dff7263adb7ff11628d05a59612ea005dbfde567253ef0e3682a2146"
   }
  }
 },
 "nbformat": 4,
 "nbformat_minor": 2
}
