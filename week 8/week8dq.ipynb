{
 "cells": [
  {
   "cell_type": "markdown",
   "metadata": {},
   "source": [
    "# Week 8 Discussion Question: National Motor Vehicle Crash Causation Survey"
   ]
  },
  {
   "cell_type": "markdown",
   "metadata": {},
   "source": [
    "## Load Packages"
   ]
  },
  {
   "cell_type": "code",
   "execution_count": 1,
   "metadata": {},
   "outputs": [],
   "source": [
    "from pathlib import Path\n",
    "\n",
    "import matplotlib.pyplot as plt\n",
    "import numpy as np\n",
    "import pandas as pd\n",
    "import seaborn as sns\n",
    "import tensorflow as tf\n",
    "\n",
    "import random as rnd\n",
    "\n",
    "from sklearn.model_selection import train_test_split\n",
    "\n",
    "from sklearn.feature_extraction.text import CountVectorizer, TfidfVectorizer\n",
    "import spacy\n",
    "\n",
    "from tensorflow.keras.models import Model\n",
    "from tensorflow.keras.models import Sequential\n",
    "from tensorflow.keras.callbacks import EarlyStopping\n",
    "from tensorflow.keras.utils import plot_model\n",
    "\n",
    "from tensorflow.keras.layers import Input, Flatten, Dense, SimpleRNN, LSTM, GRU\n",
    "from tensorflow.keras.regularizers import l1"
   ]
  },
  {
   "cell_type": "markdown",
   "metadata": {},
   "source": [
    "## Import dataset"
   ]
  },
  {
   "cell_type": "code",
   "execution_count": 2,
   "metadata": {},
   "outputs": [
    {
     "name": "stdout",
     "output_type": "stream",
     "text": [
      "shape of DataFrame: (6949, 16)\n"
     ]
    }
   ],
   "source": [
    "if not Path(\"NHTSA_NMVCCS_extract.parquet.gzip\").exists():\n",
    "    print(\"Downloading dataset\")\n",
    "    !wget https://github.com/JSchelldorfer/ActuarialDataScience/raw/master/12%20-%20NLP%20Using%20Transformers/NHTSA_NMVCCS_extract.parquet.gzip\n",
    "\n",
    "df = pd.read_parquet(\"NHTSA_NMVCCS_extract.parquet.gzip\")\n",
    "print(f\"shape of DataFrame: {df.shape}\")"
   ]
  },
  {
   "cell_type": "markdown",
   "metadata": {},
   "source": [
    "## Data Cleaning"
   ]
  },
  {
   "cell_type": "code",
   "execution_count": 3,
   "metadata": {},
   "outputs": [],
   "source": [
    "def lemmatize(txt):\n",
    "    nlp = spacy.load(\"en_core_web_sm\")\n",
    "    doc = nlp(txt)\n",
    "    goodTokens = [token.lemma_.lower() for token in doc \\\n",
    "        if not token.like_num and \\\n",
    "           not token.is_punct and \\\n",
    "           not token.is_space and \\\n",
    "           not token.is_currency and \\\n",
    "           not token.is_stop]\n",
    "    return \" \".join(goodTokens)"
   ]
  },
  {
   "cell_type": "code",
   "execution_count": 4,
   "metadata": {},
   "outputs": [],
   "source": [
    "def splitDataset(lemma):\n",
    "    weatherCols = [f\"WEATHER{i}\" for i in range(1, 9)]\n",
    "    target = df[\"INJSEVB\"]\n",
    "    \n",
    "    if lemma == True:\n",
    "        df[\"SUMMARY_EN_LEMMA\"] = df[\"SUMMARY_EN\"].apply(lemmatize)\n",
    "        weatherCols = [f\"WEATHER{i}\" for i in range(1, 9)]\n",
    "        features = df[[\"SUMMARY_EN_LEMMA\"] + weatherCols]\n",
    "    else:\n",
    "        features = df[[\"SUMMARY_EN\"] + weatherCols]\n",
    "\n",
    "    X_main, X_test, y_main, y_test = \\\n",
    "    train_test_split(features, target, test_size=0.2, random_state=1)\n",
    "\n",
    "    # As 0.25 x 0.8 = 0.2\n",
    "    X_train, X_val, y_train, y_val = \\\n",
    "    train_test_split(X_main, y_main, test_size=0.25, random_state=1)\n",
    "\n",
    "    return X_train, X_val, X_test, y_train, y_val, y_test"
   ]
  },
  {
   "cell_type": "code",
   "execution_count": 5,
   "metadata": {},
   "outputs": [],
   "source": [
    "def vectorise_dataset(X, vect, txtCol=\"SUMMARY_EN\", dataframe=False):\n",
    "    X_vects = vect.transform(X[txtCol]).todense()\n",
    "    X_other = X.drop(txtCol, axis=1)\n",
    "\n",
    "    if not dataframe:\n",
    "        return np.concatenate([X_vects, X_other], axis=1)\n",
    "    else:\n",
    "        # Add column names and indices to the combined dataframe.\n",
    "        vocab = list(vect.get_feature_names_out())\n",
    "        X_vects_df = pd.DataFrame(X_vects, columns=vocab, index=X.index)\n",
    "        return pd.concat([X_vects_df, X_other], axis=1)"
   ]
  },
  {
   "cell_type": "code",
   "execution_count": 6,
   "metadata": {},
   "outputs": [],
   "source": [
    "def processData(lemma, vectorizerType):\n",
    "    \n",
    "    # select text vectorizer\n",
    "    if vectorizerType == \"CountVectorizer\":\n",
    "        vectorizer = CountVectorizer\n",
    "    elif vectorizerType == \"TfidfVectorizer\":\n",
    "        vectorizer = TfidfVectorizer\n",
    "    vect = vectorizer(max_features = 1_000, token_pattern=u'(?ui)\\\\b\\\\w*[a-z]+\\\\w*\\\\b', stop_words = \"english\")\n",
    "\n",
    "    # apply the vectorizer to the training data\n",
    "    if lemma == True:\n",
    "        vect.fit(X_train[\"SUMMARY_EN_LEMMA\"])\n",
    "        X_train_ct = vectorise_dataset(X_train, vect, \"SUMMARY_EN_LEMMA\")\n",
    "        X_val_ct = vectorise_dataset(X_val, vect, \"SUMMARY_EN_LEMMA\")\n",
    "        X_test_ct = vectorise_dataset(X_test, vect, \"SUMMARY_EN_LEMMA\")\n",
    "    else:\n",
    "        vect.fit(X_train[\"SUMMARY_EN\"])\n",
    "        # transform the training, validation and test data\n",
    "        X_train_ct = vectorise_dataset(X_train, vect)\n",
    "        X_val_ct = vectorise_dataset(X_val, vect)\n",
    "        X_test_ct = vectorise_dataset(X_test, vect)\n",
    "\n",
    "    \n",
    "\n",
    "    return X_train_ct, X_val_ct, X_test_ct, y_train, y_val, y_test, vect"
   ]
  },
  {
   "cell_type": "markdown",
   "metadata": {},
   "source": [
    "## Model"
   ]
  },
  {
   "cell_type": "code",
   "execution_count": 7,
   "metadata": {},
   "outputs": [],
   "source": [
    "def build_model(numFeatures):\n",
    "    tf.random.set_seed(42)\n",
    "    \n",
    "    model = Sequential([\n",
    "        Dense(1_000, input_dim=numFeatures, activation=\"relu\"),\n",
    "        Dense(1, activation=\"sigmoid\")\n",
    "    ])\n",
    "    \n",
    "    model.compile(optimizer = \"adam\",\n",
    "        loss=\"BinaryCrossentropy\",\n",
    "        metrics=[\"accuracy\"])\n",
    "    \n",
    "    return model"
   ]
  },
  {
   "cell_type": "markdown",
   "metadata": {},
   "source": [
    "## Count Vectorizer"
   ]
  },
  {
   "cell_type": "markdown",
   "metadata": {},
   "source": [
    "Data processing"
   ]
  },
  {
   "cell_type": "code",
   "execution_count": 8,
   "metadata": {},
   "outputs": [],
   "source": [
    "X_train, X_val, X_test, y_train, y_val, y_test = splitDataset(lemma=False)\n",
    "X_train_ct, X_val_ct, X_test_ct, y_train, y_val, y_test, vect = processData(lemma=False, vectorizerType=\"CountVectorizer\")"
   ]
  },
  {
   "cell_type": "markdown",
   "metadata": {},
   "source": [
    "Define Model"
   ]
  },
  {
   "cell_type": "code",
   "execution_count": 9,
   "metadata": {},
   "outputs": [
    {
     "name": "stdout",
     "output_type": "stream",
     "text": [
      "Model: \"sequential\"\n",
      "_________________________________________________________________\n",
      " Layer (type)                Output Shape              Param #   \n",
      "=================================================================\n",
      " dense (Dense)               (None, 1000)              1009000   \n",
      "                                                                 \n",
      " dense_1 (Dense)             (None, 1)                 1001      \n",
      "                                                                 \n",
      "=================================================================\n",
      "Total params: 1,010,001\n",
      "Trainable params: 1,010,001\n",
      "Non-trainable params: 0\n",
      "_________________________________________________________________\n"
     ]
    }
   ],
   "source": [
    "numFeatures = X_train_ct.shape[1]\n",
    "modelCV = build_model(numFeatures)\n",
    "modelCV.summary()"
   ]
  },
  {
   "cell_type": "markdown",
   "metadata": {},
   "source": [
    "Fit model"
   ]
  },
  {
   "cell_type": "code",
   "execution_count": 10,
   "metadata": {},
   "outputs": [
    {
     "name": "stdout",
     "output_type": "stream",
     "text": [
      "Restoring model weights from the end of the best epoch: 2.\n",
      "Epoch 3: early stopping\n"
     ]
    }
   ],
   "source": [
    "es = EarlyStopping(patience=1, restore_best_weights=True,\n",
    "    monitor=\"val_accuracy\", verbose=2)\n",
    "hist = modelCV.fit(X_train_ct, y_train, epochs=10, \\\n",
    "    callbacks=[es], validation_data=(X_val_ct, y_val), verbose=0);"
   ]
  },
  {
   "cell_type": "markdown",
   "metadata": {},
   "source": [
    "Model Assessment"
   ]
  },
  {
   "cell_type": "code",
   "execution_count": 11,
   "metadata": {},
   "outputs": [],
   "source": [
    "train = modelCV.evaluate(X_train_ct, y_train, verbose=0)\n",
    "val = modelCV.evaluate(X_val_ct, y_val, verbose=0)\n"
   ]
  },
  {
   "cell_type": "code",
   "execution_count": 12,
   "metadata": {},
   "outputs": [],
   "source": [
    "bceTrain = {\"CountVectorizer\": train[0]}\n",
    "bceVal = {\"CountVectorizer\": val[0]}\n",
    "\n",
    "accuracyTrain = {\"CountVectorizer\": train[1]}\n",
    "accuracyVal = {\"CountVectorizer\": val[1]}"
   ]
  },
  {
   "cell_type": "markdown",
   "metadata": {},
   "source": [
    "## TfidfVectorizer"
   ]
  },
  {
   "cell_type": "markdown",
   "metadata": {},
   "source": [
    "Data processing"
   ]
  },
  {
   "cell_type": "code",
   "execution_count": 13,
   "metadata": {},
   "outputs": [],
   "source": [
    "X_train, X_val, X_test, y_train, y_val, y_test = splitDataset(lemma=False)\n",
    "X_train_ct, X_val_ct, X_test_ct, y_train, y_val, y_test, vect = processData(lemma=False, vectorizerType=\"TfidfVectorizer\")"
   ]
  },
  {
   "cell_type": "markdown",
   "metadata": {},
   "source": [
    "Define model"
   ]
  },
  {
   "cell_type": "code",
   "execution_count": 14,
   "metadata": {},
   "outputs": [
    {
     "name": "stdout",
     "output_type": "stream",
     "text": [
      "Model: \"sequential_1\"\n",
      "_________________________________________________________________\n",
      " Layer (type)                Output Shape              Param #   \n",
      "=================================================================\n",
      " dense_2 (Dense)             (None, 1000)              1009000   \n",
      "                                                                 \n",
      " dense_3 (Dense)             (None, 1)                 1001      \n",
      "                                                                 \n",
      "=================================================================\n",
      "Total params: 1,010,001\n",
      "Trainable params: 1,010,001\n",
      "Non-trainable params: 0\n",
      "_________________________________________________________________\n"
     ]
    }
   ],
   "source": [
    "numFeatures = X_train_ct.shape[1]\n",
    "modelTF = build_model(numFeatures)\n",
    "modelTF.summary()"
   ]
  },
  {
   "cell_type": "markdown",
   "metadata": {},
   "source": [
    "Fit model"
   ]
  },
  {
   "cell_type": "code",
   "execution_count": 15,
   "metadata": {},
   "outputs": [
    {
     "name": "stdout",
     "output_type": "stream",
     "text": [
      "Restoring model weights from the end of the best epoch: 3.\n",
      "Epoch 4: early stopping\n"
     ]
    }
   ],
   "source": [
    "es = EarlyStopping(patience=1, restore_best_weights=True,\n",
    "    monitor=\"val_accuracy\", verbose=2)\n",
    "hist = modelTF.fit(X_train_ct, y_train, epochs=10, \\\n",
    "    callbacks=[es], validation_data=(X_val_ct, y_val), verbose=0);"
   ]
  },
  {
   "cell_type": "markdown",
   "metadata": {},
   "source": [
    "Model Assessment"
   ]
  },
  {
   "cell_type": "code",
   "execution_count": 16,
   "metadata": {},
   "outputs": [],
   "source": [
    "train = modelTF.evaluate(X_train_ct, y_train, verbose=0)\n",
    "val = modelTF.evaluate(X_val_ct, y_val, verbose=0)"
   ]
  },
  {
   "cell_type": "code",
   "execution_count": 17,
   "metadata": {},
   "outputs": [],
   "source": [
    "bceTrain[\"TfidfVectorizer\"] = train[0]\n",
    "bceVal[\"TfidfVectorizer\"] = val[0]\n",
    "accuracyTrain[\"TfidfVectorizer\"] = train[1]\n",
    "accuracyVal[\"TfidfVectorizer\"] = val[1]"
   ]
  },
  {
   "cell_type": "markdown",
   "metadata": {},
   "source": [
    "## Best Model"
   ]
  },
  {
   "cell_type": "markdown",
   "metadata": {},
   "source": [
    "Select model with highest val accuracy"
   ]
  },
  {
   "cell_type": "code",
   "execution_count": 18,
   "metadata": {},
   "outputs": [
    {
     "data": {
      "text/html": [
       "<div>\n",
       "<style scoped>\n",
       "    .dataframe tbody tr th:only-of-type {\n",
       "        vertical-align: middle;\n",
       "    }\n",
       "\n",
       "    .dataframe tbody tr th {\n",
       "        vertical-align: top;\n",
       "    }\n",
       "\n",
       "    .dataframe thead th {\n",
       "        text-align: right;\n",
       "    }\n",
       "</style>\n",
       "<table border=\"1\" class=\"dataframe\">\n",
       "  <thead>\n",
       "    <tr style=\"text-align: right;\">\n",
       "      <th></th>\n",
       "      <th>Model</th>\n",
       "      <th>BinaryCrossEntropy</th>\n",
       "    </tr>\n",
       "  </thead>\n",
       "  <tbody>\n",
       "    <tr>\n",
       "      <th>1</th>\n",
       "      <td>TfidfVectorizer</td>\n",
       "      <td>0.153816</td>\n",
       "    </tr>\n",
       "    <tr>\n",
       "      <th>0</th>\n",
       "      <td>CountVectorizer</td>\n",
       "      <td>0.106384</td>\n",
       "    </tr>\n",
       "  </tbody>\n",
       "</table>\n",
       "</div>"
      ],
      "text/plain": [
       "             Model  BinaryCrossEntropy\n",
       "1  TfidfVectorizer            0.153816\n",
       "0  CountVectorizer            0.106384"
      ]
     },
     "execution_count": 18,
     "metadata": {},
     "output_type": "execute_result"
    }
   ],
   "source": [
    "bceTrainResults = pd.DataFrame({\n",
    "    \"Model\": bceTrain.keys(), \"BinaryCrossEntropy\": bceTrain.values()\n",
    "})\n",
    "bceTrainResults.sort_values(\"BinaryCrossEntropy\", ascending=False)"
   ]
  },
  {
   "cell_type": "code",
   "execution_count": 19,
   "metadata": {},
   "outputs": [
    {
     "data": {
      "text/html": [
       "<div>\n",
       "<style scoped>\n",
       "    .dataframe tbody tr th:only-of-type {\n",
       "        vertical-align: middle;\n",
       "    }\n",
       "\n",
       "    .dataframe tbody tr th {\n",
       "        vertical-align: top;\n",
       "    }\n",
       "\n",
       "    .dataframe thead th {\n",
       "        text-align: right;\n",
       "    }\n",
       "</style>\n",
       "<table border=\"1\" class=\"dataframe\">\n",
       "  <thead>\n",
       "    <tr style=\"text-align: right;\">\n",
       "      <th></th>\n",
       "      <th>Model</th>\n",
       "      <th>BinaryCrossEntropy</th>\n",
       "    </tr>\n",
       "  </thead>\n",
       "  <tbody>\n",
       "    <tr>\n",
       "      <th>1</th>\n",
       "      <td>TfidfVectorizer</td>\n",
       "      <td>93.190964</td>\n",
       "    </tr>\n",
       "    <tr>\n",
       "      <th>0</th>\n",
       "      <td>CountVectorizer</td>\n",
       "      <td>10.047592</td>\n",
       "    </tr>\n",
       "  </tbody>\n",
       "</table>\n",
       "</div>"
      ],
      "text/plain": [
       "             Model  BinaryCrossEntropy\n",
       "1  TfidfVectorizer           93.190964\n",
       "0  CountVectorizer           10.047592"
      ]
     },
     "execution_count": 19,
     "metadata": {},
     "output_type": "execute_result"
    }
   ],
   "source": [
    "bceValResults= pd.DataFrame({\n",
    "    \"Model\": bceVal.keys(), \"BinaryCrossEntropy\": bceVal.values()\n",
    "})\n",
    "bceValResults.sort_values(\"BinaryCrossEntropy\", ascending=False)"
   ]
  },
  {
   "cell_type": "code",
   "execution_count": 27,
   "metadata": {},
   "outputs": [
    {
     "data": {
      "text/html": [
       "<div>\n",
       "<style scoped>\n",
       "    .dataframe tbody tr th:only-of-type {\n",
       "        vertical-align: middle;\n",
       "    }\n",
       "\n",
       "    .dataframe tbody tr th {\n",
       "        vertical-align: top;\n",
       "    }\n",
       "\n",
       "    .dataframe thead th {\n",
       "        text-align: right;\n",
       "    }\n",
       "</style>\n",
       "<table border=\"1\" class=\"dataframe\">\n",
       "  <thead>\n",
       "    <tr style=\"text-align: right;\">\n",
       "      <th></th>\n",
       "      <th>Model</th>\n",
       "      <th>Accuracy</th>\n",
       "    </tr>\n",
       "  </thead>\n",
       "  <tbody>\n",
       "    <tr>\n",
       "      <th>0</th>\n",
       "      <td>CountVectorizer</td>\n",
       "      <td>0.969537</td>\n",
       "    </tr>\n",
       "    <tr>\n",
       "      <th>1</th>\n",
       "      <td>TfidfVectorizer</td>\n",
       "      <td>0.950828</td>\n",
       "    </tr>\n",
       "  </tbody>\n",
       "</table>\n",
       "</div>"
      ],
      "text/plain": [
       "             Model  Accuracy\n",
       "0  CountVectorizer  0.969537\n",
       "1  TfidfVectorizer  0.950828"
      ]
     },
     "execution_count": 27,
     "metadata": {},
     "output_type": "execute_result"
    }
   ],
   "source": [
    "accuracyTrainResults= pd.DataFrame({\n",
    "    \"Model\": accuracyTrain.keys(), \"Accuracy\":accuracyTrain.values()\n",
    "})\n",
    "accuracyTrainResults.sort_values(\"Accuracy\", ascending=False)"
   ]
  },
  {
   "cell_type": "code",
   "execution_count": 28,
   "metadata": {},
   "outputs": [
    {
     "data": {
      "text/html": [
       "<div>\n",
       "<style scoped>\n",
       "    .dataframe tbody tr th:only-of-type {\n",
       "        vertical-align: middle;\n",
       "    }\n",
       "\n",
       "    .dataframe tbody tr th {\n",
       "        vertical-align: top;\n",
       "    }\n",
       "\n",
       "    .dataframe thead th {\n",
       "        text-align: right;\n",
       "    }\n",
       "</style>\n",
       "<table border=\"1\" class=\"dataframe\">\n",
       "  <thead>\n",
       "    <tr style=\"text-align: right;\">\n",
       "      <th></th>\n",
       "      <th>Model</th>\n",
       "      <th>Accuracy</th>\n",
       "    </tr>\n",
       "  </thead>\n",
       "  <tbody>\n",
       "    <tr>\n",
       "      <th>0</th>\n",
       "      <td>CountVectorizer</td>\n",
       "      <td>0.892086</td>\n",
       "    </tr>\n",
       "    <tr>\n",
       "      <th>1</th>\n",
       "      <td>TfidfVectorizer</td>\n",
       "      <td>0.889209</td>\n",
       "    </tr>\n",
       "  </tbody>\n",
       "</table>\n",
       "</div>"
      ],
      "text/plain": [
       "             Model  Accuracy\n",
       "0  CountVectorizer  0.892086\n",
       "1  TfidfVectorizer  0.889209"
      ]
     },
     "execution_count": 28,
     "metadata": {},
     "output_type": "execute_result"
    }
   ],
   "source": [
    "accuracyValResults= pd.DataFrame({\n",
    "    \"Model\": accuracyVal.keys(), \"Accuracy\":accuracyVal.values()\n",
    "})\n",
    "accuracyValResults.sort_values(\"Accuracy\", ascending=False)"
   ]
  },
  {
   "cell_type": "markdown",
   "metadata": {},
   "source": [
    "Fit model to test data"
   ]
  },
  {
   "cell_type": "code",
   "execution_count": 22,
   "metadata": {},
   "outputs": [
    {
     "data": {
      "text/plain": [
       "[0.29040345549583435, 0.8892086148262024]"
      ]
     },
     "execution_count": 22,
     "metadata": {},
     "output_type": "execute_result"
    }
   ],
   "source": [
    "X_train, X_val, X_test, y_train, y_val, y_test = splitDataset(lemma=False)\n",
    "X_train_ct, X_val_ct, X_test_ct, y_train, y_val, y_test, vect = processData(lemma=False, vectorizerType=\"CountVectorizer\")\n",
    "modelCV.evaluate(X_test_ct, y_test, verbose=0)"
   ]
  },
  {
   "cell_type": "markdown",
   "metadata": {},
   "source": [
    "Permutation test"
   ]
  },
  {
   "cell_type": "code",
   "execution_count": 23,
   "metadata": {},
   "outputs": [],
   "source": [
    "def permutation_test(model, X, y, numReps=1, seed=42):\n",
    "    \"\"\"\n",
    "    Run the permutation test for variable importance.\n",
    "    Returns matrix of shape (X.shape[1], len(model.evaluate(X, y))).\n",
    "    \"\"\"\n",
    "    rnd.seed(seed)\n",
    "    scores = []    \n",
    "\n",
    "    for j in range(X.shape[1]):\n",
    "        originalColumn = np.copy(X[:, j])\n",
    "        colScores = []\n",
    "\n",
    "        for r in range(numReps):\n",
    "            rnd.shuffle(X[:,j])\n",
    "            colScores.append(model.evaluate(X, y, verbose=0))\n",
    "\n",
    "        scores.append(np.mean(colScores, axis=0))\n",
    "        X[:,j] = originalColumn\n",
    "    \n",
    "    return np.array(scores)"
   ]
  },
  {
   "cell_type": "code",
   "execution_count": 24,
   "metadata": {},
   "outputs": [
    {
     "data": {
      "image/png": "[encoded data removed]",
      "text/plain": [
       "<Figure size 432x288 with 1 Axes>"
      ]
     },
     "metadata": {
      "needs_background": "light"
     },
     "output_type": "display_data"
    }
   ],
   "source": [
    "permScores = permutation_test(modelCV, X_val_ct, y_val)[:,1]\n",
    "plt.plot(permScores);\n",
    "plt.xlabel(\"Input index\"); plt.ylabel(\"Accuracy when shuffled\");"
   ]
  },
  {
   "cell_type": "code",
   "execution_count": 26,
   "metadata": {},
   "outputs": [
    {
     "name": "stdout",
     "output_type": "stream",
     "text": [
      "['transported', 'injuries', 'hospital', 'minor', 'incapacitating', 'local', 'facility', 'trauma', 'treated', 'critical', 'coded', 'medical', 'treatment', 'WEATHER6', 'barrier', 'belted', 'roads', 'intersection', 'v2', 'traveling', 'curve', 'feet', 'conditions', 'weekday', 'possible', 'point', 'wet', 'roadway', 'non', 'injury', 'performance', 'median', 'associated', 'drives', 'turning', 'related', 'super', 'suffered', 'continued', 'direction', 'suddenly', 'north', 'facing', 'moderate', 'scene', 'located', 'noted', 'cause', 'heading', 'passenger']\n"
     ]
    }
   ],
   "source": [
    "inputCols = \\\n",
    "    vectorise_dataset(X_train, vect, \"SUMMARY_EN\", True).columns\n",
    "bestInputInds = np.argsort(permScores)[:50]\n",
    "bestInputs = list(inputCols[bestInputInds])\n",
    "print(bestInputs)"
   ]
  }
 ],
 "metadata": {
  "kernelspec": {
   "display_name": "Python 3.8.5 ('.env': venv)",
   "language": "python",
   "name": "python3"
  },
  "language_info": {
   "codemirror_mode": {
    "name": "ipython",
    "version": 3
   },
   "file_extension": ".py",
   "mimetype": "text/x-python",
   "name": "python",
   "nbconvert_exporter": "python",
   "pygments_lexer": "ipython3",
   "version": "3.8.5"
  },
  "orig_nbformat": 4,
  "vscode": {
   "interpreter": {
    "hash": "66cd1895dff7263adb7ff11628d05a59612ea005dbfde567253ef0e3682a2146"
   }
  }
 },
 "nbformat": 4,
 "nbformat_minor": 2
}
