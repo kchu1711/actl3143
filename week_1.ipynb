{
 "cells": [
  {
   "cell_type": "markdown",
   "metadata": {},
   "source": [
    "# Week 1 "
   ]
  },
  {
   "cell_type": "markdown",
   "metadata": {},
   "source": [
    "## Python Data Types"
   ]
  },
  {
   "cell_type": "markdown",
   "metadata": {},
   "source": [
    "### Variables and Basic Types"
   ]
  },
  {
   "cell_type": "code",
   "execution_count": 6,
   "metadata": {},
   "outputs": [
    {
     "name": "stdout",
     "output_type": "stream",
     "text": [
      "True\n"
     ]
    },
    {
     "data": {
      "text/plain": [
       "False"
      ]
     },
     "execution_count": 6,
     "metadata": {},
     "output_type": "execute_result"
    }
   ],
   "source": [
    "# to show what type the variable is\n",
    "type(2.0)\n",
    "\n",
    "x = 1\n",
    "type(x)\n",
    "\n",
    "doesMathWork = (1 + 1 == 2)\n",
    "print(doesMathWork)\n",
    "type(doesMathWork)"
   ]
  },
  {
   "cell_type": "markdown",
   "metadata": {},
   "source": [
    "### Shorthand assignments\n",
    "* x -=2: take 2 from the current value of x\n",
    "* x *= 2: double the current value of x\n",
    "* x /= 2: halve the current value of x"
   ]
  },
  {
   "cell_type": "markdown",
   "metadata": {},
   "source": [
    "### Strings\n"
   ]
  },
  {
   "cell_type": "code",
   "execution_count": 7,
   "metadata": {},
   "outputs": [
    {
     "data": {
      "text/plain": [
       "'PatrickLaub'"
      ]
     },
     "execution_count": 7,
     "metadata": {},
     "output_type": "execute_result"
    }
   ],
   "source": [
    "name = \"Patrick\"\n",
    "surname = 'Laub'\n",
    "name + surname"
   ]
  },
  {
   "cell_type": "code",
   "execution_count": 11,
   "metadata": {},
   "outputs": [
    {
     "data": {
      "text/plain": [
       "True"
      ]
     },
     "execution_count": 11,
     "metadata": {},
     "output_type": "execute_result"
    }
   ],
   "source": [
    "#use f strings instead of older alternatives\n",
    "greeting = f\"Hello {name} {surname}\" \n",
    "greeting\n",
    "\"Patrick\" in greeting\n",
    "\n",
    "print(f\"Five squared is {5*5} and five cubed is {5**3}\")\n",
    "print(\"Five squared is {5*5} and five cubed is {5**3}\")"
   ]
  },
  {
   "cell_type": "markdown",
   "metadata": {},
   "source": [
    "### and & or"
   ]
  },
  {
   "cell_type": "code",
   "execution_count": null,
   "metadata": {},
   "outputs": [],
   "source": [
    "name = \"Patrick\"\n",
    "surname = \"Laub\"\n",
    "name.istitle() and surname.istitle()\n",
    "\n",
    "fullName = \"Dr Patrick Laub\"\n",
    "fullName.startswith(\"Dr \") or fullName.endswith(\" PhD\")\n",
    "\n",
    "# note: the dot is used to denote methods \n",
    "# it can't be used inside a variable name"
   ]
  }
 ],
 "metadata": {
  "interpreter": {
   "hash": "c931f5753cb3acf1f4642c0cfb5a159d24101420bc9fe73ae8953710c0fa058b"
  },
  "kernelspec": {
   "display_name": "Python 3.10.4 64-bit",
   "language": "python",
   "name": "python3"
  },
  "language_info": {
   "codemirror_mode": {
    "name": "ipython",
    "version": 3
   },
   "file_extension": ".py",
   "mimetype": "text/x-python",
   "name": "python",
   "nbconvert_exporter": "python",
   "pygments_lexer": "ipython3",
   "version": "3.10.4"
  },
  "orig_nbformat": 4
 },
 "nbformat": 4,
 "nbformat_minor": 2
}
